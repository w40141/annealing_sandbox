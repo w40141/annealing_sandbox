{
 "cells": [
  {
   "cell_type": "code",
   "execution_count": 1,
   "metadata": {},
   "outputs": [],
   "source": [
    "from IsingLib import Model, Bulletforce, Reduce\n",
    "import numpy as np\n",
    "import random\n",
    "import collections\n",
    "import json"
   ]
  },
  {
   "cell_type": "code",
   "execution_count": 11,
   "metadata": {},
   "outputs": [
    {
     "name": "stdout",
     "output_type": "stream",
     "text": [
      "[1024 1025 1026 1027 1028 1029 1030 1031 1032 1033 1034 1035 1036 1037\n",
      " 1038 1039 1040 1041 1042 1043]\n"
     ]
    }
   ],
   "source": [
    "spins = 20\n",
    "val =  1000\n",
    "li = np.array([i + val for i in range(24, 24 + spins, 1)])\n",
    "print(li)\n",
    "vartype = 'SPIN'\n",
    "mat = np.array([[0 if i == j else li[i] * li[j] for i in range(spins)] for j in range(spins)]) * 2\n",
    "const = sum([i ** 2 for i in li])\n",
    "model = Model(vartype, h=(mat, const))"
   ]
  },
  {
   "cell_type": "code",
   "execution_count": 12,
   "metadata": {},
   "outputs": [],
   "source": [
    "model.compile()"
   ]
  },
  {
   "cell_type": "code",
   "execution_count": 13,
   "metadata": {},
   "outputs": [],
   "source": [
    "ising_model, const = model.to_ising()\n",
    "bf = Bulletforce(ising_model, const, vartype)"
   ]
  },
  {
   "cell_type": "code",
   "execution_count": 14,
   "metadata": {},
   "outputs": [],
   "source": [
    "# bf.draw_eng()\n",
    "# eng, original_optimal_state = bf.run()"
   ]
  },
  {
   "cell_type": "code",
   "execution_count": 15,
   "metadata": {},
   "outputs": [
    {
     "name": "stdout",
     "output_type": "stream",
     "text": [
      "23\n"
     ]
    }
   ],
   "source": [
    "re = Reduce(ising_model)\n",
    "scr_bit = re.scr_bit\n",
    "mode_li = ['normarlize', 'gradate']\n",
    "print(scr_bit)"
   ]
  },
  {
   "cell_type": "code",
   "execution_count": 10,
   "metadata": {},
   "outputs": [
    {
     "name": "stdout",
     "output_type": "stream",
     "text": [
      "normarlize\n",
      "13\n",
      "{'optimal_num': 5826, 'optimal': 5826, 'sub_optimal': 0, 'others': 0}\n",
      "12\n",
      "{'optimal_num': 6, 'optimal': 4, 'sub_optimal': 2, 'others': 0}\n",
      "11\n",
      "{'optimal_num': 2, 'optimal': 2, 'sub_optimal': 0, 'others': 0}\n",
      "10\n",
      "{'optimal_num': 6, 'optimal': 2, 'sub_optimal': 4, 'others': 0}\n",
      "9\n",
      "{'optimal_num': 4, 'optimal': 2, 'sub_optimal': 0, 'others': 2}\n",
      "8\n",
      "{'optimal_num': 8, 'optimal': 4, 'sub_optimal': 0, 'others': 4}\n",
      "7\n",
      "{'optimal_num': 8, 'optimal': 0, 'sub_optimal': 4, 'others': 4}\n",
      "6\n",
      "{'optimal_num': 4, 'optimal': 0, 'sub_optimal': 0, 'others': 4}\n",
      "5\n",
      "{'optimal_num': 4, 'optimal': 0, 'sub_optimal': 2, 'others': 2}\n",
      "4\n",
      "{'optimal_num': 4, 'optimal': 0, 'sub_optimal': 0, 'others': 4}\n",
      "3\n",
      "{'optimal_num': 2, 'optimal': 0, 'sub_optimal': 0, 'others': 2}\n",
      "2\n",
      "{'optimal_num': 184756, 'optimal': 5448, 'sub_optimal': 10848, 'others': 168460}\n",
      "gradate\n",
      "13\n",
      "{'optimal_num': 5826, 'optimal': 5826, 'sub_optimal': 0, 'others': 0}\n",
      "12\n",
      "{'optimal_num': 5826, 'optimal': 5826, 'sub_optimal': 0, 'others': 0}\n",
      "11\n",
      "{'optimal_num': 16, 'optimal': 16, 'sub_optimal': 0, 'others': 0}\n",
      "10\n",
      "{'optimal_num': 206, 'optimal': 136, 'sub_optimal': 70, 'others': 0}\n",
      "9\n",
      "{'optimal_num': 12, 'optimal': 8, 'sub_optimal': 4, 'others': 0}\n",
      "8\n",
      "{'optimal_num': 6, 'optimal': 2, 'sub_optimal': 4, 'others': 0}\n",
      "7\n",
      "{'optimal_num': 2, 'optimal': 0, 'sub_optimal': 2, 'others': 0}\n",
      "6\n",
      "{'optimal_num': 2, 'optimal': 0, 'sub_optimal': 2, 'others': 0}\n",
      "5\n",
      "{'optimal_num': 10, 'optimal': 2, 'sub_optimal': 0, 'others': 8}\n",
      "4\n",
      "{'optimal_num': 4, 'optimal': 0, 'sub_optimal': 0, 'others': 4}\n",
      "3\n",
      "{'optimal_num': 2, 'optimal': 0, 'sub_optimal': 0, 'others': 2}\n",
      "2\n",
      "{'optimal_num': 184756, 'optimal': 5448, 'sub_optimal': 10848, 'others': 168460}\n"
     ]
    }
   ],
   "source": [
    "for mode in mode_li:\n",
    "    print(mode)\n",
    "    results = {}\n",
    "    for i in range(scr_bit, 1, -1):\n",
    "        print(i)\n",
    "        bit_result = {}\n",
    "        re_mat, tmp_c = re.function(mode, i)\n",
    "        re_bf = Bulletforce(re_mat, tmp_c, vartype)\n",
    "        re_bf.draw_eng(name='exp'+str(li[0])+'_numper_'+str(spins)+'_'+mode+'_'+str(scr_bit)+'_to_'+str(i), show=0)\n",
    "        eng, re_optimal_state = re_bf.run()\n",
    "        ans = [sum(state * li) for state in re_optimal_state]\n",
    "        c = collections.Counter(ans)\n",
    "        optimal_num = len(ans)\n",
    "        optimal = c[0]\n",
    "        sub_optimal = c[-2] + c[2]\n",
    "        others = optimal_num - optimal - sub_optimal\n",
    "        bit_result.update(optimal_num=optimal_num, optimal=optimal, sub_optimal=sub_optimal, others=others)\n",
    "        print(bit_result)\n",
    "        results[i]=bit_result\n",
    "    with open('exp'+str(li[0])+'_numpar_'+str(spins)+'_'+mode+'.json', 'w') as f:\n",
    "        json.dump(results, f, ensure_ascii=False)"
   ]
  },
  {
   "cell_type": "code",
   "execution_count": 18,
   "metadata": {},
   "outputs": [
    {
     "data": {
      "text/plain": [
       "(array([[    0., 15822., 15837., 15853., 15868., 15883., 15899., 15914.,\n",
       "         15930., 15945., 15961., 15976., 15991., 16007., 16022., 16038.,\n",
       "         16053., 16069., 16084., 16099.],\n",
       "        [    0.,     0., 15853., 15868., 15883., 15899., 15914., 15930.,\n",
       "         15945., 15961., 15976., 15992., 16007., 16023., 16038., 16053.,\n",
       "         16069., 16084., 16100., 16115.],\n",
       "        [    0.,     0.,     0., 15883., 15899., 15914., 15930., 15945.,\n",
       "         15961., 15976., 15992., 16007., 16023., 16038., 16054., 16069.,\n",
       "         16085., 16100., 16115., 16131.],\n",
       "        [    0.,     0.,     0.,     0., 15914., 15930., 15945., 15961.,\n",
       "         15976., 15992., 16007., 16023., 16038., 16054., 16069., 16085.,\n",
       "         16100., 16116., 16131., 16147.],\n",
       "        [    0.,     0.,     0.,     0.,     0., 15945., 15961., 15976.,\n",
       "         15992., 16007., 16023., 16038., 16054., 16069., 16085., 16100.,\n",
       "         16116., 16131., 16147., 16162.],\n",
       "        [    0.,     0.,     0.,     0.,     0.,     0., 15976., 15992.,\n",
       "         16007., 16023., 16039., 16054., 16070., 16085., 16101., 16116.,\n",
       "         16132., 16147., 16163., 16178.],\n",
       "        [    0.,     0.,     0.,     0.,     0.,     0.,     0., 16008.,\n",
       "         16023., 16039., 16054., 16070., 16085., 16101., 16116., 16132.,\n",
       "         16147., 16163., 16178., 16194.],\n",
       "        [    0.,     0.,     0.,     0.,     0.,     0.,     0.,     0.,\n",
       "         16039., 16054., 16070., 16085., 16101., 16116., 16132., 16147.,\n",
       "         16163., 16178., 16194., 16210.],\n",
       "        [    0.,     0.,     0.,     0.,     0.,     0.,     0.,     0.,\n",
       "             0., 16070., 16085., 16101., 16116., 16132., 16147., 16163.,\n",
       "         16179., 16194., 16210., 16225.],\n",
       "        [    0.,     0.,     0.,     0.,     0.,     0.,     0.,     0.,\n",
       "             0.,     0., 16101., 16116., 16132., 16148., 16163., 16179.,\n",
       "         16194., 16210., 16225., 16241.],\n",
       "        [    0.,     0.,     0.,     0.,     0.,     0.,     0.,     0.,\n",
       "             0.,     0.,     0., 16132., 16148., 16163., 16179., 16194.,\n",
       "         16210., 16226., 16241., 16257.],\n",
       "        [    0.,     0.,     0.,     0.,     0.,     0.,     0.,     0.,\n",
       "             0.,     0.,     0.,     0., 16163., 16179., 16194., 16210.,\n",
       "         16226., 16241., 16257., 16272.],\n",
       "        [    0.,     0.,     0.,     0.,     0.,     0.,     0.,     0.,\n",
       "             0.,     0.,     0.,     0.,     0., 16194., 16210., 16226.,\n",
       "         16241., 16257., 16273., 16288.],\n",
       "        [    0.,     0.,     0.,     0.,     0.,     0.,     0.,     0.,\n",
       "             0.,     0.,     0.,     0.,     0.,     0., 16226., 16241.,\n",
       "         16257., 16273., 16288., 16304.],\n",
       "        [    0.,     0.,     0.,     0.,     0.,     0.,     0.,     0.,\n",
       "             0.,     0.,     0.,     0.,     0.,     0.,     0., 16257.,\n",
       "         16273., 16288., 16304., 16320.],\n",
       "        [    0.,     0.,     0.,     0.,     0.,     0.,     0.,     0.,\n",
       "             0.,     0.,     0.,     0.,     0.,     0.,     0.,     0.,\n",
       "         16288., 16304., 16320., 16335.],\n",
       "        [    0.,     0.,     0.,     0.,     0.,     0.,     0.,     0.,\n",
       "             0.,     0.,     0.,     0.,     0.,     0.,     0.,     0.,\n",
       "             0., 16320., 16335., 16351.],\n",
       "        [    0.,     0.,     0.,     0.,     0.,     0.,     0.,     0.,\n",
       "             0.,     0.,     0.,     0.,     0.,     0.,     0.,     0.,\n",
       "             0.,     0., 16351., 16367.],\n",
       "        [    0.,     0.,     0.,     0.,     0.,     0.,     0.,     0.,\n",
       "             0.,     0.,     0.,     0.,     0.,     0.,     0.,     0.,\n",
       "             0.,     0.,     0., 16383.],\n",
       "        [    0.,     0.,     0.,     0.,     0.,     0.,     0.,     0.,\n",
       "             0.,     0.,     0.,     0.,     0.,     0.,     0.,     0.,\n",
       "             0.,     0.,     0.,     0.]]), 0)"
      ]
     },
     "execution_count": 18,
     "metadata": {},
     "output_type": "execute_result"
    }
   ],
   "source": [
    "re.normalizer_min(15)"
   ]
  },
  {
   "cell_type": "code",
   "execution_count": null,
   "metadata": {},
   "outputs": [],
   "source": []
  }
 ],
 "metadata": {
  "kernelspec": {
   "display_name": "Python 3",
   "language": "python",
   "name": "python3"
  },
  "language_info": {
   "codemirror_mode": {
    "name": "ipython",
    "version": 3
   },
   "file_extension": ".py",
   "mimetype": "text/x-python",
   "name": "python",
   "nbconvert_exporter": "python",
   "pygments_lexer": "ipython3",
   "version": "3.7.3"
  }
 },
 "nbformat": 4,
 "nbformat_minor": 2
}
