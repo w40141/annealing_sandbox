{
 "cells": [
  {
   "cell_type": "code",
   "execution_count": 11,
   "metadata": {},
   "outputs": [],
   "source": [
    "from pyqubo import Array, Sum\n",
    "import numpy as np\n",
    "\n",
    "city = 10\n",
    "track = 3\n",
    "capacity = 15\n",
    "capa_max = 10\n",
    "capa_li = np.random.randint(1, capa_max, city)\n",
    "dis_max = 15\n",
    "dis_min = 5\n",
    "distance = np.triu(np.random.randint(dis_min, dis_max, (city, city)), k=1)"
   ]
  },
  {
   "cell_type": "code",
   "execution_count": 14,
   "metadata": {},
   "outputs": [],
   "source": [
    "x = Array.create('x', (city, city, track), 'BINARY')\n",
    "y = Array.create('y', (city, track), 'BINARY')\n",
    "c = Array.create('c', capacity, 'BINARY')"
   ]
  },
  {
   "cell_type": "code",
   "execution_count": null,
   "metadata": {},
   "outputs": [],
   "source": [
    "H_0 = Sum(Sum(Sum(0, )))"
   ]
  }
 ],
 "metadata": {
  "kernelspec": {
   "display_name": "Python 3",
   "language": "python",
   "name": "python3"
  },
  "language_info": {
   "codemirror_mode": {
    "name": "ipython",
    "version": 3
   },
   "file_extension": ".py",
   "mimetype": "text/x-python",
   "name": "python",
   "nbconvert_exporter": "python",
   "pygments_lexer": "ipython3",
   "version": "3.7.3"
  }
 },
 "nbformat": 4,
 "nbformat_minor": 2
}
