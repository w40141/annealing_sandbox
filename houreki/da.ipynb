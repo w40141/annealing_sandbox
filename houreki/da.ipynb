{
 "cells": [
  {
   "cell_type": "code",
   "execution_count": 1,
   "metadata": {},
   "outputs": [],
   "source": [
    "from IsingLib import Model, DaFormat\n",
    "import numpy as np"
   ]
  },
  {
   "cell_type": "code",
   "execution_count": 2,
   "metadata": {},
   "outputs": [
    {
     "name": "stdout",
     "output_type": "stream",
     "text": [
      "ising model=[[ -7.   1.  -6.   0.  -3.]\n",
      " [  0.   6.   5. -10.   2.]\n",
      " [  0.   0.   0.   8. -10.]\n",
      " [  0.   0.   0.   5.   8.]\n",
      " [  0.   0.   0.   0.  -5.]]\n"
     ]
    }
   ],
   "source": [
    "mat = np.random.randint(-10, 11, (5, 5))\n",
    "model = Model('i', mat, 0)\n",
    "print(model)"
   ]
  },
  {
   "cell_type": "code",
   "execution_count": 3,
   "metadata": {},
   "outputs": [
    {
     "name": "stdout",
     "output_type": "stream",
     "text": [
      "{'matrix': array([[  2.,   4., -24.,   0., -12.],\n",
      "       [  0.,  16.,  20., -40.,   8.],\n",
      "       [  0.,   0.,   6.,  32., -40.],\n",
      "       [  0.,   0.,   0.,  -2.,  32.],\n",
      "       [  0.,   0.,   0.,   0.,  -4.]]), 'const': -4.0, 'label2index': {'[0]': 0, '[1]': 1, '[2]': 2, '[3]': 3, '[4]': 4}}\n"
     ]
    }
   ],
   "source": [
    "da_model = model.to_da()\n",
    "print(da_model)"
   ]
  },
  {
   "cell_type": "code",
   "execution_count": 2,
   "metadata": {},
   "outputs": [
    {
     "ename": "NameError",
     "evalue": "name 'DaFormat' is not defined",
     "output_type": "error",
     "traceback": [
      "\u001b[0;31m---------------------------------------------------------------------------\u001b[0m",
      "\u001b[0;31mNameError\u001b[0m                                 Traceback (most recent call last)",
      "\u001b[0;32m<ipython-input-2-881edca734c6>\u001b[0m in \u001b[0;36m<module>\u001b[0;34m\u001b[0m\n\u001b[0;32m----> 1\u001b[0;31m \u001b[0mda\u001b[0m \u001b[0;34m=\u001b[0m \u001b[0mDaFormat\u001b[0m\u001b[0;34m(\u001b[0m\u001b[0;34m**\u001b[0m\u001b[0mda_model\u001b[0m\u001b[0;34m,\u001b[0m \u001b[0mapi_key\u001b[0m\u001b[0;34m=\u001b[0m\u001b[0;34m'../../da_key_2.json'\u001b[0m\u001b[0;34m,\u001b[0m \u001b[0mversion\u001b[0m\u001b[0;34m=\u001b[0m\u001b[0;36m2\u001b[0m\u001b[0;34m)\u001b[0m\u001b[0;34m\u001b[0m\u001b[0;34m\u001b[0m\u001b[0m\n\u001b[0m",
      "\u001b[0;31mNameError\u001b[0m: name 'DaFormat' is not defined"
     ]
    }
   ],
   "source": [
    "da = DaFormat(**da_model, api_key='../../da_key_2.json', version=2)"
   ]
  },
  {
   "cell_type": "code",
   "execution_count": 1,
   "metadata": {},
   "outputs": [
    {
     "ename": "NameError",
     "evalue": "name 'da' is not defined",
     "output_type": "error",
     "traceback": [
      "\u001b[0;31m---------------------------------------------------------------------------\u001b[0m",
      "\u001b[0;31mNameError\u001b[0m                                 Traceback (most recent call last)",
      "\u001b[0;32m<ipython-input-1-035f0b4bcefc>\u001b[0m in \u001b[0;36m<module>\u001b[0;34m\u001b[0m\n\u001b[0;32m----> 1\u001b[0;31m \u001b[0mda\u001b[0m\u001b[0;34m.\u001b[0m\u001b[0mcheck_job\u001b[0m\u001b[0;34m(\u001b[0m\u001b[0;34m)\u001b[0m\u001b[0;34m\u001b[0m\u001b[0;34m\u001b[0m\u001b[0m\n\u001b[0m",
      "\u001b[0;31mNameError\u001b[0m: name 'da' is not defined"
     ]
    }
   ],
   "source": [
    "da.check_job()"
   ]
  },
  {
   "cell_type": "code",
   "execution_count": 18,
   "metadata": {},
   "outputs": [
    {
     "data": {
      "text/plain": [
       "{'PV83946-191861951594325': {'qubo_solution': {'result_status': True,\n",
       "   'solutions': [{'configuration': {'0': True,\n",
       "      '1': False,\n",
       "      '2': True,\n",
       "      '3': False,\n",
       "      '4': True},\n",
       "     'energy': -72,\n",
       "     'frequency': 100}],\n",
       "   'timing': {'cpu_time': '1118',\n",
       "    'detailed': {'anneal_time': '217'},\n",
       "    'queue_time': '2081',\n",
       "    'solve_time': '1335',\n",
       "    'total_elapsed_time': '3416'}},\n",
       "  'solver_input_parameters': {'expert_mode': 'false',\n",
       "   'job_id': 'PV83946-191861951594325',\n",
       "   'number_iterations': '1000000',\n",
       "   'number_runs': '100',\n",
       "   'offset_increase_rate': '0',\n",
       "   'solution_mode': 'COMPLETE',\n",
       "   'solver_name': 'FujitsuDA2',\n",
       "   'temperature_decay (COMPUTED)': '7.44813e-06',\n",
       "   'temperature_interval (COMPUTED)': '5',\n",
       "   'temperature_mode (COMPUTED)': 'INVERSE',\n",
       "   'temperature_start (COMPUTED)': '121.372',\n",
       "   'timeout': '0'},\n",
       "  'status': 'Deleted'}}"
      ]
     },
     "execution_count": 18,
     "metadata": {},
     "output_type": "execute_result"
    }
   ],
   "source": [
    "da.jobs"
   ]
  },
  {
   "cell_type": "code",
   "execution_count": 7,
   "metadata": {},
   "outputs": [
    {
     "data": {
      "text/plain": [
       "'PV83946-191861951594325'"
      ]
     },
     "execution_count": 7,
     "metadata": {},
     "output_type": "execute_result"
    }
   ],
   "source": [
    "job_id = da.da_solver()"
   ]
  },
  {
   "cell_type": "code",
   "execution_count": 8,
   "metadata": {},
   "outputs": [],
   "source": [
    "da.get_job('PV83946-191861951594325')"
   ]
  },
  {
   "cell_type": "code",
   "execution_count": 10,
   "metadata": {},
   "outputs": [
    {
     "data": {
      "text/plain": [
       "[{'[0]': 1, '[1]': 0, '[2]': 1, '[3]': 0, '[4]': 1}]"
      ]
     },
     "execution_count": 10,
     "metadata": {},
     "output_type": "execute_result"
    }
   ],
   "source": [
    "da.get_configuration('PV83946-191861951594325')"
   ]
  },
  {
   "cell_type": "code",
   "execution_count": null,
   "metadata": {},
   "outputs": [],
   "source": []
  }
 ],
 "metadata": {
  "kernelspec": {
   "display_name": "Python 3",
   "language": "python",
   "name": "python3"
  },
  "language_info": {
   "codemirror_mode": {
    "name": "ipython",
    "version": 3
   },
   "file_extension": ".py",
   "mimetype": "text/x-python",
   "name": "python",
   "nbconvert_exporter": "python",
   "pygments_lexer": "ipython3",
   "version": "3.7.3"
  }
 },
 "nbformat": 4,
 "nbformat_minor": 4
}
