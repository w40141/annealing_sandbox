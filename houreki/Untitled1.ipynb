{
 "cells": [
  {
   "cell_type": "code",
   "execution_count": 2,
   "metadata": {},
   "outputs": [],
   "source": [
    "from pyqubo import Spin"
   ]
  },
  {
   "cell_type": "code",
   "execution_count": 3,
   "metadata": {},
   "outputs": [],
   "source": [
    "s1, s2, s3 = Spin('s1'), Spin('s2'), Spin('s3')"
   ]
  },
  {
   "cell_type": "code",
   "execution_count": 4,
   "metadata": {},
   "outputs": [],
   "source": [
    "H = s1 * s2 * s3 + s1 + s2 + s3"
   ]
  },
  {
   "cell_type": "code",
   "execution_count": 5,
   "metadata": {},
   "outputs": [],
   "source": [
    "model = H.compile()"
   ]
  },
  {
   "cell_type": "code",
   "execution_count": 6,
   "metadata": {},
   "outputs": [
    {
     "name": "stdout",
     "output_type": "stream",
     "text": [
      "Model(CompiledQubo({('s1', 's1'): 4.0,\n",
      " ('s1', 's2'): -4.0,\n",
      " ('s1', 's2*s3'): 8.0,\n",
      " ('s1', 's3'): -4.0,\n",
      " ('s2', 's2'): 4.0,\n",
      " ('s2', 's2*s3'): -10.0,\n",
      " ('s2', 's3'): 5.0,\n",
      " ('s2*s3', 's2*s3'): 11.0,\n",
      " ('s2*s3', 's3'): -10.0,\n",
      " ('s3', 's3'): 4.0}, offset=-4.0), structure={'s1': ('s1',), 's2': ('s2',), 's3': ('s3',)})\n"
     ]
    }
   ],
   "source": [
    "print(model)"
   ]
  },
  {
   "cell_type": "code",
   "execution_count": null,
   "metadata": {},
   "outputs": [],
   "source": []
  }
 ],
 "metadata": {
  "kernelspec": {
   "display_name": "Python 3",
   "language": "python",
   "name": "python3"
  },
  "language_info": {
   "codemirror_mode": {
    "name": "ipython",
    "version": 3
   },
   "file_extension": ".py",
   "mimetype": "text/x-python",
   "name": "python",
   "nbconvert_exporter": "python",
   "pygments_lexer": "ipython3",
   "version": "3.7.4"
  }
 },
 "nbformat": 4,
 "nbformat_minor": 4
}
