{
 "cells": [
  {
   "cell_type": "code",
   "execution_count": 40,
   "metadata": {},
   "outputs": [],
   "source": [
    "import numpy as np\n",
    "import pyqubo"
   ]
  },
  {
   "cell_type": "code",
   "execution_count": 41,
   "metadata": {},
   "outputs": [],
   "source": [
    "def convert_dict(term):\n",
    "    label = set()\n",
    "    quadratic = {}\n",
    "    const = 0.0\n",
    "\n",
    "    for term_val in term.values():\n",
    "        # for const\n",
    "        if isinstance(term_val, (int, float)):\n",
    "            const = float(term_val)\n",
    "\n",
    "        # for h or J\n",
    "        else:\n",
    "            for key, val in term_val.items():\n",
    "                # for J\n",
    "                if isinstance(key, tuple):\n",
    "                    quadratic[key] = val\n",
    "                    label |= set(key)\n",
    "\n",
    "                # for h\n",
    "                else:\n",
    "                    quadratic[(key, key)] = val\n",
    "                    label.add(key)\n",
    "\n",
    "#     print(label)\n",
    "#     label = map(str, label)\n",
    "#     label = {num: lab for lab, num in enumerate(sorted(list(label)))}\n",
    "    print(label)\n",
    "    label = list(label)\n",
    "    print(quadratic)\n",
    "\n",
    "    spins = len(label)\n",
    "    mat = np.zeros((spins, spins))\n",
    "    for k, v in quadratic.items():\n",
    "        x = label[k[0]]\n",
    "        y = label[k[1]]\n",
    "        mat[x, y] = v\n",
    "        mat[y, x] = v\n",
    "\n",
    "    return np.triu(mat), const"
   ]
  },
  {
   "cell_type": "code",
   "execution_count": 31,
   "metadata": {},
   "outputs": [],
   "source": [
    "h = {'h': {'a': 10.0, 'b': 0.0, 30: 1.2}, 'J': {('a', 'b'): 1.0, (4, 30): -2.3}, 'c': 100}"
   ]
  },
  {
   "cell_type": "code",
   "execution_count": 32,
   "metadata": {},
   "outputs": [
    {
     "name": "stdout",
     "output_type": "stream",
     "text": [
      "{4, 'a', 30, 'b'}\n",
      "{('a', 'a'): 10.0, ('b', 'b'): 0.0, (30, 30): 1.2, ('a', 'b'): 1.0, (4, 30): -2.3}\n"
     ]
    },
    {
     "ename": "TypeError",
     "evalue": "list indices must be integers or slices, not str",
     "output_type": "error",
     "traceback": [
      "\u001b[0;31m---------------------------------------------------------------------------\u001b[0m",
      "\u001b[0;31mTypeError\u001b[0m                                 Traceback (most recent call last)",
      "\u001b[0;32m<ipython-input-32-867cff32ab59>\u001b[0m in \u001b[0;36m<module>\u001b[0;34m\u001b[0m\n\u001b[0;32m----> 1\u001b[0;31m \u001b[0mconvert_dict\u001b[0m\u001b[0;34m(\u001b[0m\u001b[0mh\u001b[0m\u001b[0;34m)\u001b[0m\u001b[0;34m\u001b[0m\u001b[0;34m\u001b[0m\u001b[0m\n\u001b[0m",
      "\u001b[0;32m<ipython-input-30-0baf2be3ac7c>\u001b[0m in \u001b[0;36mconvert_dict\u001b[0;34m(term)\u001b[0m\n\u001b[1;32m     32\u001b[0m     \u001b[0mmat\u001b[0m \u001b[0;34m=\u001b[0m \u001b[0mnp\u001b[0m\u001b[0;34m.\u001b[0m\u001b[0mzeros\u001b[0m\u001b[0;34m(\u001b[0m\u001b[0;34m(\u001b[0m\u001b[0mspins\u001b[0m\u001b[0;34m,\u001b[0m \u001b[0mspins\u001b[0m\u001b[0;34m)\u001b[0m\u001b[0;34m)\u001b[0m\u001b[0;34m\u001b[0m\u001b[0;34m\u001b[0m\u001b[0m\n\u001b[1;32m     33\u001b[0m     \u001b[0;32mfor\u001b[0m \u001b[0mk\u001b[0m\u001b[0;34m,\u001b[0m \u001b[0mv\u001b[0m \u001b[0;32min\u001b[0m \u001b[0mquadratic\u001b[0m\u001b[0;34m.\u001b[0m\u001b[0mitems\u001b[0m\u001b[0;34m(\u001b[0m\u001b[0;34m)\u001b[0m\u001b[0;34m:\u001b[0m\u001b[0;34m\u001b[0m\u001b[0;34m\u001b[0m\u001b[0m\n\u001b[0;32m---> 34\u001b[0;31m         \u001b[0mx\u001b[0m \u001b[0;34m=\u001b[0m \u001b[0mlabel\u001b[0m\u001b[0;34m[\u001b[0m\u001b[0mk\u001b[0m\u001b[0;34m[\u001b[0m\u001b[0;36m0\u001b[0m\u001b[0;34m]\u001b[0m\u001b[0;34m]\u001b[0m\u001b[0;34m\u001b[0m\u001b[0;34m\u001b[0m\u001b[0m\n\u001b[0m\u001b[1;32m     35\u001b[0m         \u001b[0my\u001b[0m \u001b[0;34m=\u001b[0m \u001b[0mlabel\u001b[0m\u001b[0;34m[\u001b[0m\u001b[0mk\u001b[0m\u001b[0;34m[\u001b[0m\u001b[0;36m1\u001b[0m\u001b[0;34m]\u001b[0m\u001b[0;34m]\u001b[0m\u001b[0;34m\u001b[0m\u001b[0;34m\u001b[0m\u001b[0m\n\u001b[1;32m     36\u001b[0m         \u001b[0mmat\u001b[0m\u001b[0;34m[\u001b[0m\u001b[0mx\u001b[0m\u001b[0;34m,\u001b[0m \u001b[0my\u001b[0m\u001b[0;34m]\u001b[0m \u001b[0;34m=\u001b[0m \u001b[0mv\u001b[0m\u001b[0;34m\u001b[0m\u001b[0;34m\u001b[0m\u001b[0m\n",
      "\u001b[0;31mTypeError\u001b[0m: list indices must be integers or slices, not str"
     ]
    }
   ],
   "source": [
    "convert_dict(h)"
   ]
  },
  {
   "cell_type": "code",
   "execution_count": 58,
   "metadata": {},
   "outputs": [],
   "source": [
    "def convert_pyqubo(term):\n",
    "    model = term.compile()\n",
    "    label = model.label2index\n",
    "    qubo = model.compiled_qubo.qubo\n",
    "    const = model.compiled_qubo.offset\n",
    "\n",
    "    print(label)\n",
    "    print(qubo)\n",
    "    print(const)\n",
    "    spins = len(label)\n",
    "    mat = np.zeros((spins, spins))\n",
    "    for k_set, v in qubo.items():\n",
    "        x = k_set[0]\n",
    "        y = k_set[1]\n",
    "        mat[label[x], label[y]] = v\n",
    "        mat[label[y], label[x]] = v\n",
    "\n",
    "#     if self._model_type == 'ising':\n",
    "#         w = np.triu(mat, k=1) / 4\n",
    "#         b_tmp = np.diag(mat)\n",
    "#         b = (b_tmp + np.sum(mat, axis=1)) / 4\n",
    "#         c = const + np.sum(b_tmp) / 2 + np.sum(mat) / 4\n",
    "#         return np.triu(w + np.diag(b)), c\n",
    "\n",
    "#     else:\n",
    "#         return np.triu(mat), const\n",
    "    return mat, const"
   ]
  },
  {
   "cell_type": "code",
   "execution_count": 62,
   "metadata": {},
   "outputs": [],
   "source": [
    "city = 4\n",
    "x = pyqubo.Array.create('x', (city, city), 'SPIN')"
   ]
  },
  {
   "cell_type": "code",
   "execution_count": 63,
   "metadata": {},
   "outputs": [],
   "source": [
    "time_const = pyqubo.Sum(0, city, lambda i: (pyqubo.Sum(0, city, lambda j: x[i, j]) - 1) ** 2)"
   ]
  },
  {
   "cell_type": "code",
   "execution_count": 64,
   "metadata": {},
   "outputs": [
    {
     "name": "stdout",
     "output_type": "stream",
     "text": [
      "{'x[0][0]': 0, 'x[0][1]': 1, 'x[0][2]': 2, 'x[0][3]': 3, 'x[1][0]': 4, 'x[1][1]': 5, 'x[1][2]': 6, 'x[1][3]': 7, 'x[2][0]': 8, 'x[2][1]': 9, 'x[2][2]': 10, 'x[2][3]': 11, 'x[3][0]': 12, 'x[3][1]': 13, 'x[3][2]': 14, 'x[3][3]': 15}\n",
      "{('x[0][0]', 'x[0][1]'): 8.0, ('x[0][0]', 'x[0][2]'): 8.0, ('x[0][0]', 'x[0][3]'): 8.0, ('x[0][1]', 'x[0][2]'): 8.0, ('x[0][1]', 'x[0][3]'): 8.0, ('x[0][2]', 'x[0][3]'): 8.0, ('x[1][0]', 'x[1][1]'): 8.0, ('x[1][0]', 'x[1][2]'): 8.0, ('x[1][0]', 'x[1][3]'): 8.0, ('x[1][1]', 'x[1][2]'): 8.0, ('x[1][1]', 'x[1][3]'): 8.0, ('x[1][2]', 'x[1][3]'): 8.0, ('x[2][0]', 'x[2][1]'): 8.0, ('x[2][0]', 'x[2][2]'): 8.0, ('x[2][0]', 'x[2][3]'): 8.0, ('x[2][1]', 'x[2][2]'): 8.0, ('x[2][1]', 'x[2][3]'): 8.0, ('x[2][2]', 'x[2][3]'): 8.0, ('x[3][0]', 'x[3][1]'): 8.0, ('x[3][0]', 'x[3][2]'): 8.0, ('x[3][0]', 'x[3][3]'): 8.0, ('x[3][1]', 'x[3][2]'): 8.0, ('x[3][1]', 'x[3][3]'): 8.0, ('x[3][2]', 'x[3][3]'): 8.0, ('x[0][0]', 'x[0][0]'): -16.0, ('x[0][1]', 'x[0][1]'): -16.0, ('x[0][2]', 'x[0][2]'): -16.0, ('x[0][3]', 'x[0][3]'): -16.0, ('x[1][0]', 'x[1][0]'): -16.0, ('x[1][1]', 'x[1][1]'): -16.0, ('x[1][2]', 'x[1][2]'): -16.0, ('x[1][3]', 'x[1][3]'): -16.0, ('x[2][0]', 'x[2][0]'): -16.0, ('x[2][1]', 'x[2][1]'): -16.0, ('x[2][2]', 'x[2][2]'): -16.0, ('x[2][3]', 'x[2][3]'): -16.0, ('x[3][0]', 'x[3][0]'): -16.0, ('x[3][1]', 'x[3][1]'): -16.0, ('x[3][2]', 'x[3][2]'): -16.0, ('x[3][3]', 'x[3][3]'): -16.0}\n",
      "100.0\n"
     ]
    },
    {
     "data": {
      "text/plain": [
       "(array([[-16.,   8.,   8.,   8.,   0.,   0.,   0.,   0.,   0.,   0.,   0.,\n",
       "           0.,   0.,   0.,   0.,   0.],\n",
       "        [  8., -16.,   8.,   8.,   0.,   0.,   0.,   0.,   0.,   0.,   0.,\n",
       "           0.,   0.,   0.,   0.,   0.],\n",
       "        [  8.,   8., -16.,   8.,   0.,   0.,   0.,   0.,   0.,   0.,   0.,\n",
       "           0.,   0.,   0.,   0.,   0.],\n",
       "        [  8.,   8.,   8., -16.,   0.,   0.,   0.,   0.,   0.,   0.,   0.,\n",
       "           0.,   0.,   0.,   0.,   0.],\n",
       "        [  0.,   0.,   0.,   0., -16.,   8.,   8.,   8.,   0.,   0.,   0.,\n",
       "           0.,   0.,   0.,   0.,   0.],\n",
       "        [  0.,   0.,   0.,   0.,   8., -16.,   8.,   8.,   0.,   0.,   0.,\n",
       "           0.,   0.,   0.,   0.,   0.],\n",
       "        [  0.,   0.,   0.,   0.,   8.,   8., -16.,   8.,   0.,   0.,   0.,\n",
       "           0.,   0.,   0.,   0.,   0.],\n",
       "        [  0.,   0.,   0.,   0.,   8.,   8.,   8., -16.,   0.,   0.,   0.,\n",
       "           0.,   0.,   0.,   0.,   0.],\n",
       "        [  0.,   0.,   0.,   0.,   0.,   0.,   0.,   0., -16.,   8.,   8.,\n",
       "           8.,   0.,   0.,   0.,   0.],\n",
       "        [  0.,   0.,   0.,   0.,   0.,   0.,   0.,   0.,   8., -16.,   8.,\n",
       "           8.,   0.,   0.,   0.,   0.],\n",
       "        [  0.,   0.,   0.,   0.,   0.,   0.,   0.,   0.,   8.,   8., -16.,\n",
       "           8.,   0.,   0.,   0.,   0.],\n",
       "        [  0.,   0.,   0.,   0.,   0.,   0.,   0.,   0.,   8.,   8.,   8.,\n",
       "         -16.,   0.,   0.,   0.,   0.],\n",
       "        [  0.,   0.,   0.,   0.,   0.,   0.,   0.,   0.,   0.,   0.,   0.,\n",
       "           0., -16.,   8.,   8.,   8.],\n",
       "        [  0.,   0.,   0.,   0.,   0.,   0.,   0.,   0.,   0.,   0.,   0.,\n",
       "           0.,   8., -16.,   8.,   8.],\n",
       "        [  0.,   0.,   0.,   0.,   0.,   0.,   0.,   0.,   0.,   0.,   0.,\n",
       "           0.,   8.,   8., -16.,   8.],\n",
       "        [  0.,   0.,   0.,   0.,   0.,   0.,   0.,   0.,   0.,   0.,   0.,\n",
       "           0.,   8.,   8.,   8., -16.]]), 100.0)"
      ]
     },
     "execution_count": 64,
     "metadata": {},
     "output_type": "execute_result"
    }
   ],
   "source": [
    "convert_pyqubo(time_const)"
   ]
  },
  {
   "cell_type": "code",
   "execution_count": null,
   "metadata": {},
   "outputs": [],
   "source": []
  }
 ],
 "metadata": {
  "kernelspec": {
   "display_name": "Python 3",
   "language": "python",
   "name": "python3"
  },
  "language_info": {
   "codemirror_mode": {
    "name": "ipython",
    "version": 3
   },
   "file_extension": ".py",
   "mimetype": "text/x-python",
   "name": "python",
   "nbconvert_exporter": "python",
   "pygments_lexer": "ipython3",
   "version": "3.7.3"
  }
 },
 "nbformat": 4,
 "nbformat_minor": 2
}
