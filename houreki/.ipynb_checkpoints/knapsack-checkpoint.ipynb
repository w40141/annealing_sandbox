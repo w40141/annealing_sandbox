{
 "cells": [
  {
   "cell_type": "code",
   "execution_count": 1,
   "metadata": {},
   "outputs": [],
   "source": [
    "from pyqubo import Array, Sum, solve_qubo\n",
    "import numpy as np\n",
    "import random\n",
    "import dimod"
   ]
  },
  {
   "cell_type": "code",
   "execution_count": 139,
   "metadata": {},
   "outputs": [],
   "source": [
    "Track = 2\n",
    "Item = 10\n",
    "Volume = 10\n",
    "high_val = 7\n",
    "high_cos = 7\n",
    "wight = np.random.randint(1, high_val, Item)\n",
    "cost = np.random.randint(1, high_cos, Item)"
   ]
  },
  {
   "cell_type": "code",
   "execution_count": 140,
   "metadata": {},
   "outputs": [],
   "source": [
    "x = Array.create('x', (Track, Item), 'BINARY')\n",
    "y = Array.create('y', (Track, Volume), 'BINARY')"
   ]
  },
  {
   "cell_type": "code",
   "execution_count": null,
   "metadata": {},
   "outputs": [],
   "source": []
  },
  {
   "cell_type": "code",
   "execution_count": 143,
   "metadata": {},
   "outputs": [],
   "source": [
    "def Hw():\n",
    "    def H(t):\n",
    "        return sum(cost[i] * x[t][i] for i in range(Item))\n",
    "    return sum(H(t) for t in range(Track))\n",
    "\n",
    "# def Hc_y():\n",
    "#     def H(t):\n",
    "#         H_1 = (1 - sum(y[t])) ** 2\n",
    "#         H_2_1 = sum((v + 1) * y[t][v] for v in range(Volume))\n",
    "#         H_2_2 = sum(wight[i] * x[t][i] for i in range(Item))\n",
    "#         H_2 = (H_2_1 - H_2_2) ** 2\n",
    "#         return H_1 + H_2\n",
    "#     return sum(H(t) for t in range(Track))\n",
    "\n",
    "def Hw_x():\n",
    "    def H(t):\n",
    "        return sum(x[t][i] for i in range(Item))\n",
    "    return sum(H(t) for t in range(Track))\n",
    "    \n",
    "def Hc_y():\n",
    "    def H(t):\n",
    "        return (sum(y[t]) -  sum(wight[i] * x[t][i] for i in range(Item))) ** 2\n",
    "    return sum(H(t) for t in range(Track))\n",
    "\n",
    "def Hc_x():\n",
    "    def H(i):\n",
    "        return (sum(x[t][i] for t in range(Track)) - 1/2) ** 2\n",
    "    return sum(H(i) for i in range(Item))"
   ]
  },
  {
   "cell_type": "code",
   "execution_count": 166,
   "metadata": {},
   "outputs": [],
   "source": [
    "a = 1\n",
    "b = -25\n",
    "c = 5\n",
    "d = 11\n",
    "H = a * Hw() + b * Hw_x() + c * Hc_y() + d * Hc_x()\n",
    "model = H.compile()"
   ]
  },
  {
   "cell_type": "code",
   "execution_count": 167,
   "metadata": {},
   "outputs": [],
   "source": [
    "qubo, offset = model.to_qubo()\n",
    "#PyQUBOによるSA\n",
    "raw_solution = solve_qubo(qubo)\n",
    "# 得られた結果をデコードする\n",
    "solution, broken, energy = model.decode_solution(raw_solution, vartype=\"BINARY\")"
   ]
  },
  {
   "cell_type": "code",
   "execution_count": 168,
   "metadata": {},
   "outputs": [
    {
     "name": "stdout",
     "output_type": "stream",
     "text": [
      "[6 3 1 4 2 2 2 5 1 3]\n",
      "[6 5 2 2 6 1 6 1 4 6]\n",
      "[1, 5, 3] [2, 1, 6]\n",
      "[4, 2, 2] [2, 6, 1]\n"
     ]
    },
    {
     "data": {
      "text/plain": [
       "{0: {0: 0, 1: 0, 2: 1, 3: 0, 4: 0, 5: 0, 6: 0, 7: 1, 8: 0, 9: 1},\n",
       " 1: {0: 0, 1: 0, 2: 0, 3: 1, 4: 1, 5: 1, 6: 0, 7: 0, 8: 0, 9: 0}}"
      ]
     },
     "execution_count": 168,
     "metadata": {},
     "output_type": "execute_result"
    }
   ],
   "source": [
    "print(cost)\n",
    "print(wight)\n",
    "track = solution['x']\n",
    "for t, value in track.items():\n",
    "    c = []\n",
    "    w = []\n",
    "    for k, v in value.items():\n",
    "        if v == 1:\n",
    "            c.append(cost[k])\n",
    "            w.append(wight[k])\n",
    "    print(c, w)\n",
    "track"
   ]
  },
  {
   "cell_type": "code",
   "execution_count": null,
   "metadata": {},
   "outputs": [],
   "source": []
  },
  {
   "cell_type": "code",
   "execution_count": null,
   "metadata": {},
   "outputs": [],
   "source": []
  }
 ],
 "metadata": {
  "kernelspec": {
   "display_name": "Python 3",
   "language": "python",
   "name": "python3"
  },
  "language_info": {
   "codemirror_mode": {
    "name": "ipython",
    "version": 3
   },
   "file_extension": ".py",
   "mimetype": "text/x-python",
   "name": "python",
   "nbconvert_exporter": "python",
   "pygments_lexer": "ipython3",
   "version": "3.7.4"
  }
 },
 "nbformat": 4,
 "nbformat_minor": 4
}
