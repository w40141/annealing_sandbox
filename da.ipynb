{
 "cells": [
  {
   "cell_type": "code",
   "execution_count": 53,
   "metadata": {},
   "outputs": [
    {
     "name": "stdout",
     "output_type": "stream",
     "text": [
      "[[  0  -4 -19   3 -25   8  -2  22 -23 -24  -8  29 -29  18  30]\n",
      " [-14 -12 -13   5 -21  -2 -25  16  25  27 -11 -24  -9  -9  13]\n",
      " [  4  -1  -1 -24  11 -21  30 -16  -1   8 -30  30  -5 -22 -23]\n",
      " [ 11 -19  19  -9 -17  25 -30  13 -14  30 -11  -7  12 -14   2]\n",
      " [  1   4 -20   8  -5  30 -22  23 -27 -14 -11 -27 -28   0   3]\n",
      " [ -5   2   9  20  -2 -31  13   4 -24  30  25  27 -20   3 -29]\n",
      " [ 15 -24  -9 -23  23 -21  27 -20   4  23 -26  -6  -2 -27   6]\n",
      " [ -1  26  -3 -10  -6   0  -6  19 -22   3 -20   9 -31  10   8]\n",
      " [  2  21 -21 -18  10 -29  -1   9  14 -12  28  22  23  13  12]\n",
      " [-24  17  -7  23  14 -29 -28  13   5 -13   5  20  21  11   0]\n",
      " [  9  16  -9  25 -30 -29  25  14  10   0 -29  -8   6  13  17]\n",
      " [ 25  28 -16  21 -27  13   7 -16  -8   2  14   4 -22 -26 -24]\n",
      " [ 27  23 -24  -8  -7   8   7  30 -10 -24 -29  26  14  27  -1]\n",
      " [ 23 -30   7 -26   6  26  15 -25 -10  11  -5  29   4  27   4]\n",
      " [-18  13 -23  28  23 -17 -12  -3 -18 -16 -21  18 -11 -22  -7]]\n"
     ]
    }
   ],
   "source": [
    "import IsingLib\n",
    "import numpy as np\n",
    "np.set_printoptions(threshold=1000)\n",
    "np.set_printoptions(linewidth=200)\n",
    "\n",
    "# Random Graph\n",
    "\n",
    "num = 15\n",
    "value = 31\n",
    "mat = np.random.randint(-value, value, (num, num))\n",
    "print(mat)"
   ]
  },
  {
   "cell_type": "code",
   "execution_count": 54,
   "metadata": {},
   "outputs": [],
   "source": [
    "vartype = 'BINARY'\n",
    "# If you make a qubo model, you assign 'BINARY' or 'qubo' to variable vartype.\n",
    "# if you make a Ising model, you assign 'SPIN' or 'ising' to variable vartype.\n",
    "\n",
    "graph = IsingLib.Model(vartype)"
   ]
  },
  {
   "cell_type": "code",
   "execution_count": 55,
   "metadata": {},
   "outputs": [],
   "source": [
    "graph.add_terms(H=mat)\n",
    "graph.compile()"
   ]
  },
  {
   "cell_type": "code",
   "execution_count": 56,
   "metadata": {},
   "outputs": [
    {
     "name": "stdout",
     "output_type": "stream",
     "text": [
      "[[  0.  -4. -19.   3. -25.   8.  -2.  22. -23. -24.  -8.  29. -29.  18.  30.]\n",
      " [  0. -12. -13.   5. -21.  -2. -25.  16.  25.  27. -11. -24.  -9.  -9.  13.]\n",
      " [  0.   0.  -1. -24.  11. -21.  30. -16.  -1.   8. -30.  30.  -5. -22. -23.]\n",
      " [  0.   0.   0.  -9. -17.  25. -30.  13. -14.  30. -11.  -7.  12. -14.   2.]\n",
      " [  0.   0.   0.   0.  -5.  30. -22.  23. -27. -14. -11. -27. -28.   0.   3.]\n",
      " [  0.   0.   0.   0.   0. -31.  13.   4. -24.  30.  25.  27. -20.   3. -29.]\n",
      " [  0.   0.   0.   0.   0.   0.  27. -20.   4.  23. -26.  -6.  -2. -27.   6.]\n",
      " [  0.   0.   0.   0.   0.   0.   0.  19. -22.   3. -20.   9. -31.  10.   8.]\n",
      " [  0.   0.   0.   0.   0.   0.   0.   0.  14. -12.  28.  22.  23.  13.  12.]\n",
      " [  0.   0.   0.   0.   0.   0.   0.   0.   0. -13.   5.  20.  21.  11.   0.]\n",
      " [  0.   0.   0.   0.   0.   0.   0.   0.   0.   0. -29.  -8.   6.  13.  17.]\n",
      " [  0.   0.   0.   0.   0.   0.   0.   0.   0.   0.   0.   4. -22. -26. -24.]\n",
      " [  0.   0.   0.   0.   0.   0.   0.   0.   0.   0.   0.   0.  14.  27.  -1.]\n",
      " [  0.   0.   0.   0.   0.   0.   0.   0.   0.   0.   0.   0.   0.  27.   4.]\n",
      " [  0.   0.   0.   0.   0.   0.   0.   0.   0.   0.   0.   0.   0.   0.  -7.]]\n",
      "-364.0\n"
     ]
    }
   ],
   "source": [
    "print(graph.matrix)\n",
    "s, eng = graph.solve()\n",
    "print(eng)"
   ]
  },
  {
   "cell_type": "code",
   "execution_count": 57,
   "metadata": {},
   "outputs": [
    {
     "name": "stdout",
     "output_type": "stream",
     "text": [
      "[(1, 1, 1, 1, 1, 0, 1, 0, 0, 0, 1, 1, 1, 1, 0)] -364.0\n"
     ]
    }
   ],
   "source": [
    "s, eng = graph.solve('bf')\n",
    "print(s, eng)"
   ]
  },
  {
   "cell_type": "code",
   "execution_count": 58,
   "metadata": {},
   "outputs": [],
   "source": [
    "mat, const = graph.get_params('da')\n",
    "da = IsingLib.DaFormat(mat, api_key='/Users/daisuke.oku/da_key_2.json', version=2)\n",
    "job_id = da.da_solver()\n",
    "da.get_job(job_id)"
   ]
  },
  {
   "cell_type": "code",
   "execution_count": 59,
   "metadata": {},
   "outputs": [
    {
     "name": "stdout",
     "output_type": "stream",
     "text": [
      "-364.0\n"
     ]
    }
   ],
   "source": [
    "da.get_energy(job_id)\n",
    "state_li = da.get_configuration(job_id)\n",
    "for state in state_li:\n",
    "    print(graph.energy(state))"
   ]
  },
  {
   "cell_type": "code",
   "execution_count": null,
   "metadata": {},
   "outputs": [],
   "source": []
  },
  {
   "cell_type": "code",
   "execution_count": 60,
   "metadata": {},
   "outputs": [],
   "source": [
    "# TSP\n",
    "import pyqubo\n",
    "\n",
    "city = 5\n",
    "vartype = 'BINARY'\n",
    "x = pyqubo.Array.create('x', (city, city), vartype)\n",
    "tsp_model = IsingLib.Model(vartype)\n",
    "dis_li = [[0, 10, 8, 8, 4], [10, 0, 6, 11, 7], [8, 6, 0, 14, 8], [9, 11, 14, 0, 6], [4, 7, 8, 6, 0]]\n",
    "distance = np.zeros((city**2, city**2))\n",
    "for i in range(city):\n",
    "    point = (i + 1) % city\n",
    "    distance[i*city: (i+1)*city, point*city: (point+1)*city] = dis_li\n",
    "time_const = pyqubo.Sum(0, city, lambda i: (pyqubo.Sum(0, city, lambda j: x[i, j]) - 1) ** 2)\n",
    "city_const = pyqubo.Sum(0, city, lambda j: (pyqubo.Sum(0, city, lambda i: x[i, j]) - 1) ** 2)\n",
    "tsp_model.add_terms(H_0=distance, H_1=time_const, H_2=city_const)"
   ]
  },
  {
   "cell_type": "code",
   "execution_count": 62,
   "metadata": {},
   "outputs": [
    {
     "name": "stdout",
     "output_type": "stream",
     "text": [
      "[[-20.  20.  20.  20.  20.  20.  10.   8.   8.   4.  20.   0.   0.   0.   0.  20.   0.   0.   0.   0.  20.   0.   0.   0.   0.]\n",
      " [  0. -20.  20.  20.  20.  10.  20.   6.  11.   7.   0.  20.   0.   0.   0.   0.  20.   0.   0.   0.   0.  20.   0.   0.   0.]\n",
      " [  0.   0. -20.  20.  20.   8.   6.  20.  14.   8.   0.   0.  20.   0.   0.   0.   0.  20.   0.   0.   0.   0.  20.   0.   0.]\n",
      " [  0.   0.   0. -20.  20.   9.  11.  14.  20.   6.   0.   0.   0.  20.   0.   0.   0.   0.  20.   0.   0.   0.   0.  20.   0.]\n",
      " [  0.   0.   0.   0. -20.   4.   7.   8.   6.  20.   0.   0.   0.   0.  20.   0.   0.   0.   0.  20.   0.   0.   0.   0.  20.]\n",
      " [  0.   0.   0.   0.   0. -20.  20.  20.  20.  20.  20.  10.   8.   8.   4.  20.   0.   0.   0.   0.  20.   0.   0.   0.   0.]\n",
      " [  0.   0.   0.   0.   0.   0. -20.  20.  20.  20.  10.  20.   6.  11.   7.   0.  20.   0.   0.   0.   0.  20.   0.   0.   0.]\n",
      " [  0.   0.   0.   0.   0.   0.   0. -20.  20.  20.   8.   6.  20.  14.   8.   0.   0.  20.   0.   0.   0.   0.  20.   0.   0.]\n",
      " [  0.   0.   0.   0.   0.   0.   0.   0. -20.  20.   9.  11.  14.  20.   6.   0.   0.   0.  20.   0.   0.   0.   0.  20.   0.]\n",
      " [  0.   0.   0.   0.   0.   0.   0.   0.   0. -20.   4.   7.   8.   6.  20.   0.   0.   0.   0.  20.   0.   0.   0.   0.  20.]\n",
      " [  0.   0.   0.   0.   0.   0.   0.   0.   0.   0. -20.  20.  20.  20.  20.  20.  10.   8.   8.   4.  20.   0.   0.   0.   0.]\n",
      " [  0.   0.   0.   0.   0.   0.   0.   0.   0.   0.   0. -20.  20.  20.  20.  10.  20.   6.  11.   7.   0.  20.   0.   0.   0.]\n",
      " [  0.   0.   0.   0.   0.   0.   0.   0.   0.   0.   0.   0. -20.  20.  20.   8.   6.  20.  14.   8.   0.   0.  20.   0.   0.]\n",
      " [  0.   0.   0.   0.   0.   0.   0.   0.   0.   0.   0.   0.   0. -20.  20.   9.  11.  14.  20.   6.   0.   0.   0.  20.   0.]\n",
      " [  0.   0.   0.   0.   0.   0.   0.   0.   0.   0.   0.   0.   0.   0. -20.   4.   7.   8.   6.  20.   0.   0.   0.   0.  20.]\n",
      " [  0.   0.   0.   0.   0.   0.   0.   0.   0.   0.   0.   0.   0.   0.   0. -20.  20.  20.  20.  20.  20.  10.   8.   8.   4.]\n",
      " [  0.   0.   0.   0.   0.   0.   0.   0.   0.   0.   0.   0.   0.   0.   0.   0. -20.  20.  20.  20.  10.  20.   6.  11.   7.]\n",
      " [  0.   0.   0.   0.   0.   0.   0.   0.   0.   0.   0.   0.   0.   0.   0.   0.   0. -20.  20.  20.   8.   6.  20.  14.   8.]\n",
      " [  0.   0.   0.   0.   0.   0.   0.   0.   0.   0.   0.   0.   0.   0.   0.   0.   0.   0. -20.  20.   9.  11.  14.  20.   6.]\n",
      " [  0.   0.   0.   0.   0.   0.   0.   0.   0.   0.   0.   0.   0.   0.   0.   0.   0.   0.   0. -20.   4.   7.   8.   6.  20.]\n",
      " [  0.   0.   0.   0.   0.   0.   0.   0.   0.   0.   0.   0.   0.   0.   0.   0.   0.   0.   0.   0. -20.  20.  20.  20.  20.]\n",
      " [  0.   0.   0.   0.   0.   0.   0.   0.   0.   0.   0.   0.   0.   0.   0.   0.   0.   0.   0.   0.   0. -20.  20.  20.  20.]\n",
      " [  0.   0.   0.   0.   0.   0.   0.   0.   0.   0.   0.   0.   0.   0.   0.   0.   0.   0.   0.   0.   0.   0. -20.  20.  20.]\n",
      " [  0.   0.   0.   0.   0.   0.   0.   0.   0.   0.   0.   0.   0.   0.   0.   0.   0.   0.   0.   0.   0.   0.   0. -20.  20.]\n",
      " [  0.   0.   0.   0.   0.   0.   0.   0.   0.   0.   0.   0.   0.   0.   0.   0.   0.   0.   0.   0.   0.   0.   0.   0. -20.]]\n"
     ]
    }
   ],
   "source": [
    "np.set_printoptions(edgeitems=7)\n",
    "A = 10\n",
    "tsp_model.compile(H_1=A, H_2=A)\n",
    "print(tsp_model.matrix)"
   ]
  },
  {
   "cell_type": "code",
   "execution_count": 63,
   "metadata": {},
   "outputs": [
    {
     "name": "stdout",
     "output_type": "stream",
     "text": [
      "\n",
      "[0 1 0 0 0 0 0 1 0 0 1 0 0 0 0 0 0 0 0 1 0 0 0 1 0]\n",
      "\n",
      "[[0 1 0 0 0]\n",
      " [0 0 1 0 0]\n",
      " [1 0 0 0 0]\n",
      " [0 0 0 0 1]\n",
      " [0 0 0 1 0]]\n"
     ]
    }
   ],
   "source": [
    "state, eng = tsp_model.solve(temperature_start=100000, temperature_end=0.001)\n",
    "print('')\n",
    "print(state, )\n",
    "print('')\n",
    "ans = state.reshape(city, city)\n",
    "print(ans)"
   ]
  },
  {
   "cell_type": "code",
   "execution_count": 64,
   "metadata": {},
   "outputs": [],
   "source": [
    "mat, const = tsp_model.get_params('da')\n",
    "da = IsingLib.DaFormat(mat, api_key='/Users/daisuke.oku/da_key_2.json', version=2)\n",
    "job_id = da.da_solver()\n",
    "da.get_job(job_id)"
   ]
  },
  {
   "cell_type": "code",
   "execution_count": 65,
   "metadata": {},
   "outputs": [
    {
     "name": "stdout",
     "output_type": "stream",
     "text": [
      "[[0 0 0 1 0]\n",
      " [0 0 0 0 1]\n",
      " [1 0 0 0 0]\n",
      " [0 0 1 0 0]\n",
      " [0 1 0 0 0]] -76.0\n",
      "[[0 1 0 0 0]\n",
      " [0 0 1 0 0]\n",
      " [1 0 0 0 0]\n",
      " [0 0 0 0 1]\n",
      " [0 0 0 1 0]] -76.0\n"
     ]
    }
   ],
   "source": [
    "da.get_energy(job_id)\n",
    "state_li = da.get_configuration(job_id)\n",
    "for state in state_li:\n",
    "    np_state = np.array(state).reshape(city, city)\n",
    "    print(np_state, tsp_model.energy(state))"
   ]
  },
  {
   "cell_type": "code",
   "execution_count": null,
   "metadata": {},
   "outputs": [],
   "source": [
    "\n",
    "\n",
    "\n",
    "\n",
    "\n",
    "\n",
    "\n",
    "\n",
    "\n",
    "\n",
    "\n",
    "\n",
    "\n",
    "\n",
    "\n",
    "\n",
    "\n",
    "\n",
    "\n",
    "\n",
    "\n",
    "\n",
    "\n",
    "\n",
    "\n",
    "\n",
    "\n",
    "\n",
    "\n",
    "\n",
    "\n",
    "\n",
    "\n",
    "\n",
    "\n",
    "\n",
    "\n",
    "\n",
    "\n",
    "\n",
    "\n",
    "\n",
    "\n",
    "\n",
    "\n",
    "\n",
    "\n",
    "\n",
    "\n",
    "\n",
    "\n",
    "\n",
    "\n"
   ]
  }
 ],
 "metadata": {
  "kernelspec": {
   "display_name": "Python 3",
   "language": "python",
   "name": "python3"
  },
  "language_info": {
   "codemirror_mode": {
    "name": "ipython",
    "version": 3
   },
   "file_extension": ".py",
   "mimetype": "text/x-python",
   "name": "python",
   "nbconvert_exporter": "python",
   "pygments_lexer": "ipython3",
   "version": "3.7.3"
  }
 },
 "nbformat": 4,
 "nbformat_minor": 2
}
