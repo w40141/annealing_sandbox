{
 "cells": [
  {
   "cell_type": "code",
   "execution_count": 1,
   "metadata": {},
   "outputs": [],
   "source": [
    "import IsingLib\n",
    "import numpy as np\n",
    "\n",
    "num = 100\n",
    "value = 31\n",
    "mat = np.random.randint(-value, value, (num, num))"
   ]
  },
  {
   "cell_type": "code",
   "execution_count": 2,
   "metadata": {},
   "outputs": [],
   "source": [
    "vartype = 'BINARY'\n",
    "graph = IsingLib.Model(vartype)"
   ]
  },
  {
   "cell_type": "code",
   "execution_count": 3,
   "metadata": {},
   "outputs": [],
   "source": [
    "graph.formulate(H=mat)\n",
    "graph.compile()"
   ]
  },
  {
   "cell_type": "code",
   "execution_count": 4,
   "metadata": {},
   "outputs": [
    {
     "name": "stdout",
     "output_type": "stream",
     "text": [
      "[[ 17. -19.  -7. ...  16.  -6.  -5.]\n",
      " [  0. -19. -27. ...   8.   4.  26.]\n",
      " [  0.   0.  24. ...  29.   5. -21.]\n",
      " ...\n",
      " [  0.   0.   0. ...  -5. -20. -17.]\n",
      " [  0.   0.   0. ...   0.  22.  -9.]\n",
      " [  0.   0.   0. ...   0.   0.  -5.]]\n",
      "-6576.0\n"
     ]
    }
   ],
   "source": [
    "print(graph.matrix)\n",
    "s, eng = graph.solve(temperature_start=100000)\n",
    "print(eng)"
   ]
  },
  {
   "cell_type": "code",
   "execution_count": 5,
   "metadata": {},
   "outputs": [],
   "source": [
    "mat, const = graph.get_params('da')\n",
    "da = IsingLib.DaFormat(mat, api_key='/Users/daisuke.oku/da_key_2.json', version=2)\n",
    "job_id = da.da_solver()"
   ]
  },
  {
   "cell_type": "code",
   "execution_count": 6,
   "metadata": {},
   "outputs": [
    {
     "name": "stdout",
     "output_type": "stream",
     "text": [
      "-6576.0\n"
     ]
    }
   ],
   "source": [
    "da.get_job(job_id)\n",
    "da.get_energy(job_id)\n",
    "state_li = da.get_configuration(job_id)\n",
    "for state in state_li:\n",
    "    print(graph.calc_eng(state))"
   ]
  },
  {
   "cell_type": "code",
   "execution_count": 7,
   "metadata": {},
   "outputs": [
    {
     "data": {
      "text/plain": [
       "[]"
      ]
     },
     "execution_count": 7,
     "metadata": {},
     "output_type": "execute_result"
    }
   ],
   "source": [
    "da.check_job()"
   ]
  },
  {
   "cell_type": "code",
   "execution_count": null,
   "metadata": {},
   "outputs": [],
   "source": []
  },
  {
   "cell_type": "code",
   "execution_count": null,
   "metadata": {},
   "outputs": [],
   "source": []
  }
 ],
 "metadata": {
  "kernelspec": {
   "display_name": "Python 3",
   "language": "python",
   "name": "python3"
  },
  "language_info": {
   "codemirror_mode": {
    "name": "ipython",
    "version": 3
   },
   "file_extension": ".py",
   "mimetype": "text/x-python",
   "name": "python",
   "nbconvert_exporter": "python",
   "pygments_lexer": "ipython3",
   "version": "3.7.3"
  }
 },
 "nbformat": 4,
 "nbformat_minor": 2
}
