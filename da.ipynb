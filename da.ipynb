{
 "cells": [
  {
   "cell_type": "code",
   "execution_count": 17,
   "metadata": {},
   "outputs": [
    {
     "name": "stdout",
     "output_type": "stream",
     "text": [
      "[[  2  -9  18  18  25  -2   0  26   8   6  11   2 -28 -27 -13]\n",
      " [-30 -16  -9  20 -26  20 -22   4  -2  21 -26  -5  -9  18  25]\n",
      " [ -3  25   5  12   4  -5 -17  29  11 -28 -30  28  27  28   5]\n",
      " [-13 -12   2 -28 -29  -1 -26  30 -29 -28 -14  -4  17 -18 -14]\n",
      " [ 29   4  25 -23  19  -4  23 -10 -19  -8 -10  12 -12  10  16]\n",
      " [ 21  -3   5 -27 -21  17  23  26  19   1  -9 -28  28 -22 -17]\n",
      " [ 27 -23  16  26  -7 -26  12  22  24  -5  28 -15  13 -26  10]\n",
      " [ 25  27   8 -26  18 -30  24   4 -25 -22  11  20  -6 -28  14]\n",
      " [ 22   0 -18   3  10  30  15 -21 -23  -5   6  -9 -13  24  17]\n",
      " [ 21  18 -26  -6 -26   2 -11 -26   0  26  28  13   7  30 -30]\n",
      " [ -5 -17  21   1 -18 -14  23  -3  -3   5  15 -22   3   2 -11]\n",
      " [ -8 -22  17 -31 -18  24  17  10 -21  30   4 -29  -1  21 -20]\n",
      " [-18  -9  14  28  -4   5  19  10 -25  22  -5 -15  -8  21 -22]\n",
      " [ 22 -12  17  21 -28 -22 -17 -10 -10  17  27  -7 -13 -10 -24]\n",
      " [-18  17   3  17 -20  -1 -10  21  23 -12 -21  30   7   2  23]]\n"
     ]
    }
   ],
   "source": [
    "import IsingLib\n",
    "import numpy as np\n",
    "np.set_printoptions(threshold=1000)\n",
    "np.set_printoptions(linewidth=200)\n",
    "\n",
    "num = 15\n",
    "value = 31\n",
    "mat = np.random.randint(-value, value, (num, num))\n",
    "print(mat)"
   ]
  },
  {
   "cell_type": "code",
   "execution_count": 18,
   "metadata": {},
   "outputs": [],
   "source": [
    "vartype = 'BINARY'\n",
    "# If you make a qubo model, you assign 'BINARY' or 'qubo' to variable vartype.\n",
    "# if you make a Ising model, you assign 'SPIN' or 'ising' to variable vartype.\n",
    "\n",
    "graph = IsingLib.Model(vartype)"
   ]
  },
  {
   "cell_type": "code",
   "execution_count": 19,
   "metadata": {},
   "outputs": [],
   "source": [
    "graph.add_terms(H=mat)\n",
    "graph.compile()"
   ]
  },
  {
   "cell_type": "code",
   "execution_count": 21,
   "metadata": {},
   "outputs": [
    {
     "name": "stdout",
     "output_type": "stream",
     "text": [
      "[[  2.  -9.  18.  18.  25.  -2.   0.  26.   8.   6.  11.   2. -28. -27. -13.]\n",
      " [  0. -16.  -9.  20. -26.  20. -22.   4.  -2.  21. -26.  -5.  -9.  18.  25.]\n",
      " [  0.   0.   5.  12.   4.  -5. -17.  29.  11. -28. -30.  28.  27.  28.   5.]\n",
      " [  0.   0.   0. -28. -29.  -1. -26.  30. -29. -28. -14.  -4.  17. -18. -14.]\n",
      " [  0.   0.   0.   0.  19.  -4.  23. -10. -19.  -8. -10.  12. -12.  10.  16.]\n",
      " [  0.   0.   0.   0.   0.  17.  23.  26.  19.   1.  -9. -28.  28. -22. -17.]\n",
      " [  0.   0.   0.   0.   0.   0.  12.  22.  24.  -5.  28. -15.  13. -26.  10.]\n",
      " [  0.   0.   0.   0.   0.   0.   0.   4. -25. -22.  11.  20.  -6. -28.  14.]\n",
      " [  0.   0.   0.   0.   0.   0.   0.   0. -23.  -5.   6.  -9. -13.  24.  17.]\n",
      " [  0.   0.   0.   0.   0.   0.   0.   0.   0.  26.  28.  13.   7.  30. -30.]\n",
      " [  0.   0.   0.   0.   0.   0.   0.   0.   0.   0.  15. -22.   3.   2. -11.]\n",
      " [  0.   0.   0.   0.   0.   0.   0.   0.   0.   0.   0. -29.  -1.  21. -20.]\n",
      " [  0.   0.   0.   0.   0.   0.   0.   0.   0.   0.   0.   0.  -8.  21. -22.]\n",
      " [  0.   0.   0.   0.   0.   0.   0.   0.   0.   0.   0.   0.   0. -10. -24.]\n",
      " [  0.   0.   0.   0.   0.   0.   0.   0.   0.   0.   0.   0.   0.   0.  23.]]\n",
      "-242.0\n"
     ]
    }
   ],
   "source": [
    "print(graph.matrix)\n",
    "s, eng = graph.solve(temperature_start=100000)\n",
    "print(eng)"
   ]
  },
  {
   "cell_type": "code",
   "execution_count": 16,
   "metadata": {},
   "outputs": [
    {
     "ename": "ConnectionError",
     "evalue": "HTTPSConnectionPool(host='api.jp-east-1.digitalannealer.global.fujitsu.com', port=443): Max retries exceeded with url: /v2/async/qubo/solve (Caused by NewConnectionError('<urllib3.connection.VerifiedHTTPSConnection object at 0x12266d940>: Failed to establish a new connection: [Errno 61] Connection refused'))",
     "output_type": "error",
     "traceback": [
      "\u001b[0;31m---------------------------------------------------------------------------\u001b[0m",
      "\u001b[0;31mConnectionRefusedError\u001b[0m                    Traceback (most recent call last)",
      "\u001b[0;32m/usr/local/lib/python3.7/site-packages/urllib3/connection.py\u001b[0m in \u001b[0;36m_new_conn\u001b[0;34m(self)\u001b[0m\n\u001b[1;32m    159\u001b[0m             conn = connection.create_connection(\n\u001b[0;32m--> 160\u001b[0;31m                 (self._dns_host, self.port), self.timeout, **extra_kw)\n\u001b[0m\u001b[1;32m    161\u001b[0m \u001b[0;34m\u001b[0m\u001b[0m\n",
      "\u001b[0;32m/usr/local/lib/python3.7/site-packages/urllib3/util/connection.py\u001b[0m in \u001b[0;36mcreate_connection\u001b[0;34m(address, timeout, source_address, socket_options)\u001b[0m\n\u001b[1;32m     79\u001b[0m     \u001b[0;32mif\u001b[0m \u001b[0merr\u001b[0m \u001b[0;32mis\u001b[0m \u001b[0;32mnot\u001b[0m \u001b[0;32mNone\u001b[0m\u001b[0;34m:\u001b[0m\u001b[0;34m\u001b[0m\u001b[0;34m\u001b[0m\u001b[0m\n\u001b[0;32m---> 80\u001b[0;31m         \u001b[0;32mraise\u001b[0m \u001b[0merr\u001b[0m\u001b[0;34m\u001b[0m\u001b[0;34m\u001b[0m\u001b[0m\n\u001b[0m\u001b[1;32m     81\u001b[0m \u001b[0;34m\u001b[0m\u001b[0m\n",
      "\u001b[0;32m/usr/local/lib/python3.7/site-packages/urllib3/util/connection.py\u001b[0m in \u001b[0;36mcreate_connection\u001b[0;34m(address, timeout, source_address, socket_options)\u001b[0m\n\u001b[1;32m     69\u001b[0m                 \u001b[0msock\u001b[0m\u001b[0;34m.\u001b[0m\u001b[0mbind\u001b[0m\u001b[0;34m(\u001b[0m\u001b[0msource_address\u001b[0m\u001b[0;34m)\u001b[0m\u001b[0;34m\u001b[0m\u001b[0;34m\u001b[0m\u001b[0m\n\u001b[0;32m---> 70\u001b[0;31m             \u001b[0msock\u001b[0m\u001b[0;34m.\u001b[0m\u001b[0mconnect\u001b[0m\u001b[0;34m(\u001b[0m\u001b[0msa\u001b[0m\u001b[0;34m)\u001b[0m\u001b[0;34m\u001b[0m\u001b[0;34m\u001b[0m\u001b[0m\n\u001b[0m\u001b[1;32m     71\u001b[0m             \u001b[0;32mreturn\u001b[0m \u001b[0msock\u001b[0m\u001b[0;34m\u001b[0m\u001b[0;34m\u001b[0m\u001b[0m\n",
      "\u001b[0;31mConnectionRefusedError\u001b[0m: [Errno 61] Connection refused",
      "\nDuring handling of the above exception, another exception occurred:\n",
      "\u001b[0;31mNewConnectionError\u001b[0m                        Traceback (most recent call last)",
      "\u001b[0;32m/usr/local/lib/python3.7/site-packages/urllib3/connectionpool.py\u001b[0m in \u001b[0;36murlopen\u001b[0;34m(self, method, url, body, headers, retries, redirect, assert_same_host, timeout, pool_timeout, release_conn, chunked, body_pos, **response_kw)\u001b[0m\n\u001b[1;32m    602\u001b[0m                                                   \u001b[0mbody\u001b[0m\u001b[0;34m=\u001b[0m\u001b[0mbody\u001b[0m\u001b[0;34m,\u001b[0m \u001b[0mheaders\u001b[0m\u001b[0;34m=\u001b[0m\u001b[0mheaders\u001b[0m\u001b[0;34m,\u001b[0m\u001b[0;34m\u001b[0m\u001b[0;34m\u001b[0m\u001b[0m\n\u001b[0;32m--> 603\u001b[0;31m                                                   chunked=chunked)\n\u001b[0m\u001b[1;32m    604\u001b[0m \u001b[0;34m\u001b[0m\u001b[0m\n",
      "\u001b[0;32m/usr/local/lib/python3.7/site-packages/urllib3/connectionpool.py\u001b[0m in \u001b[0;36m_make_request\u001b[0;34m(self, conn, method, url, timeout, chunked, **httplib_request_kw)\u001b[0m\n\u001b[1;32m    343\u001b[0m         \u001b[0;32mtry\u001b[0m\u001b[0;34m:\u001b[0m\u001b[0;34m\u001b[0m\u001b[0;34m\u001b[0m\u001b[0m\n\u001b[0;32m--> 344\u001b[0;31m             \u001b[0mself\u001b[0m\u001b[0;34m.\u001b[0m\u001b[0m_validate_conn\u001b[0m\u001b[0;34m(\u001b[0m\u001b[0mconn\u001b[0m\u001b[0;34m)\u001b[0m\u001b[0;34m\u001b[0m\u001b[0;34m\u001b[0m\u001b[0m\n\u001b[0m\u001b[1;32m    345\u001b[0m         \u001b[0;32mexcept\u001b[0m \u001b[0;34m(\u001b[0m\u001b[0mSocketTimeout\u001b[0m\u001b[0;34m,\u001b[0m \u001b[0mBaseSSLError\u001b[0m\u001b[0;34m)\u001b[0m \u001b[0;32mas\u001b[0m \u001b[0me\u001b[0m\u001b[0;34m:\u001b[0m\u001b[0;34m\u001b[0m\u001b[0;34m\u001b[0m\u001b[0m\n",
      "\u001b[0;32m/usr/local/lib/python3.7/site-packages/urllib3/connectionpool.py\u001b[0m in \u001b[0;36m_validate_conn\u001b[0;34m(self, conn)\u001b[0m\n\u001b[1;32m    842\u001b[0m         \u001b[0;32mif\u001b[0m \u001b[0;32mnot\u001b[0m \u001b[0mgetattr\u001b[0m\u001b[0;34m(\u001b[0m\u001b[0mconn\u001b[0m\u001b[0;34m,\u001b[0m \u001b[0;34m'sock'\u001b[0m\u001b[0;34m,\u001b[0m \u001b[0;32mNone\u001b[0m\u001b[0;34m)\u001b[0m\u001b[0;34m:\u001b[0m  \u001b[0;31m# AppEngine might not have  `.sock`\u001b[0m\u001b[0;34m\u001b[0m\u001b[0;34m\u001b[0m\u001b[0m\n\u001b[0;32m--> 843\u001b[0;31m             \u001b[0mconn\u001b[0m\u001b[0;34m.\u001b[0m\u001b[0mconnect\u001b[0m\u001b[0;34m(\u001b[0m\u001b[0;34m)\u001b[0m\u001b[0;34m\u001b[0m\u001b[0;34m\u001b[0m\u001b[0m\n\u001b[0m\u001b[1;32m    844\u001b[0m \u001b[0;34m\u001b[0m\u001b[0m\n",
      "\u001b[0;32m/usr/local/lib/python3.7/site-packages/urllib3/connection.py\u001b[0m in \u001b[0;36mconnect\u001b[0;34m(self)\u001b[0m\n\u001b[1;32m    315\u001b[0m         \u001b[0;31m# Add certificate verification\u001b[0m\u001b[0;34m\u001b[0m\u001b[0;34m\u001b[0m\u001b[0;34m\u001b[0m\u001b[0m\n\u001b[0;32m--> 316\u001b[0;31m         \u001b[0mconn\u001b[0m \u001b[0;34m=\u001b[0m \u001b[0mself\u001b[0m\u001b[0;34m.\u001b[0m\u001b[0m_new_conn\u001b[0m\u001b[0;34m(\u001b[0m\u001b[0;34m)\u001b[0m\u001b[0;34m\u001b[0m\u001b[0;34m\u001b[0m\u001b[0m\n\u001b[0m\u001b[1;32m    317\u001b[0m         \u001b[0mhostname\u001b[0m \u001b[0;34m=\u001b[0m \u001b[0mself\u001b[0m\u001b[0;34m.\u001b[0m\u001b[0mhost\u001b[0m\u001b[0;34m\u001b[0m\u001b[0;34m\u001b[0m\u001b[0m\n",
      "\u001b[0;32m/usr/local/lib/python3.7/site-packages/urllib3/connection.py\u001b[0m in \u001b[0;36m_new_conn\u001b[0;34m(self)\u001b[0m\n\u001b[1;32m    168\u001b[0m             raise NewConnectionError(\n\u001b[0;32m--> 169\u001b[0;31m                 self, \"Failed to establish a new connection: %s\" % e)\n\u001b[0m\u001b[1;32m    170\u001b[0m \u001b[0;34m\u001b[0m\u001b[0m\n",
      "\u001b[0;31mNewConnectionError\u001b[0m: <urllib3.connection.VerifiedHTTPSConnection object at 0x12266d940>: Failed to establish a new connection: [Errno 61] Connection refused",
      "\nDuring handling of the above exception, another exception occurred:\n",
      "\u001b[0;31mMaxRetryError\u001b[0m                             Traceback (most recent call last)",
      "\u001b[0;32m/usr/local/lib/python3.7/site-packages/requests/adapters.py\u001b[0m in \u001b[0;36msend\u001b[0;34m(self, request, stream, timeout, verify, cert, proxies)\u001b[0m\n\u001b[1;32m    448\u001b[0m                     \u001b[0mretries\u001b[0m\u001b[0;34m=\u001b[0m\u001b[0mself\u001b[0m\u001b[0;34m.\u001b[0m\u001b[0mmax_retries\u001b[0m\u001b[0;34m,\u001b[0m\u001b[0;34m\u001b[0m\u001b[0;34m\u001b[0m\u001b[0m\n\u001b[0;32m--> 449\u001b[0;31m                     \u001b[0mtimeout\u001b[0m\u001b[0;34m=\u001b[0m\u001b[0mtimeout\u001b[0m\u001b[0;34m\u001b[0m\u001b[0;34m\u001b[0m\u001b[0m\n\u001b[0m\u001b[1;32m    450\u001b[0m                 )\n",
      "\u001b[0;32m/usr/local/lib/python3.7/site-packages/urllib3/connectionpool.py\u001b[0m in \u001b[0;36murlopen\u001b[0;34m(self, method, url, body, headers, retries, redirect, assert_same_host, timeout, pool_timeout, release_conn, chunked, body_pos, **response_kw)\u001b[0m\n\u001b[1;32m    640\u001b[0m             retries = retries.increment(method, url, error=e, _pool=self,\n\u001b[0;32m--> 641\u001b[0;31m                                         _stacktrace=sys.exc_info()[2])\n\u001b[0m\u001b[1;32m    642\u001b[0m             \u001b[0mretries\u001b[0m\u001b[0;34m.\u001b[0m\u001b[0msleep\u001b[0m\u001b[0;34m(\u001b[0m\u001b[0;34m)\u001b[0m\u001b[0;34m\u001b[0m\u001b[0;34m\u001b[0m\u001b[0m\n",
      "\u001b[0;32m/usr/local/lib/python3.7/site-packages/urllib3/util/retry.py\u001b[0m in \u001b[0;36mincrement\u001b[0;34m(self, method, url, response, error, _pool, _stacktrace)\u001b[0m\n\u001b[1;32m    398\u001b[0m         \u001b[0;32mif\u001b[0m \u001b[0mnew_retry\u001b[0m\u001b[0;34m.\u001b[0m\u001b[0mis_exhausted\u001b[0m\u001b[0;34m(\u001b[0m\u001b[0;34m)\u001b[0m\u001b[0;34m:\u001b[0m\u001b[0;34m\u001b[0m\u001b[0;34m\u001b[0m\u001b[0m\n\u001b[0;32m--> 399\u001b[0;31m             \u001b[0;32mraise\u001b[0m \u001b[0mMaxRetryError\u001b[0m\u001b[0;34m(\u001b[0m\u001b[0m_pool\u001b[0m\u001b[0;34m,\u001b[0m \u001b[0murl\u001b[0m\u001b[0;34m,\u001b[0m \u001b[0merror\u001b[0m \u001b[0;32mor\u001b[0m \u001b[0mResponseError\u001b[0m\u001b[0;34m(\u001b[0m\u001b[0mcause\u001b[0m\u001b[0;34m)\u001b[0m\u001b[0;34m)\u001b[0m\u001b[0;34m\u001b[0m\u001b[0;34m\u001b[0m\u001b[0m\n\u001b[0m\u001b[1;32m    400\u001b[0m \u001b[0;34m\u001b[0m\u001b[0m\n",
      "\u001b[0;31mMaxRetryError\u001b[0m: HTTPSConnectionPool(host='api.jp-east-1.digitalannealer.global.fujitsu.com', port=443): Max retries exceeded with url: /v2/async/qubo/solve (Caused by NewConnectionError('<urllib3.connection.VerifiedHTTPSConnection object at 0x12266d940>: Failed to establish a new connection: [Errno 61] Connection refused'))",
      "\nDuring handling of the above exception, another exception occurred:\n",
      "\u001b[0;31mConnectionError\u001b[0m                           Traceback (most recent call last)",
      "\u001b[0;32m<ipython-input-16-6d01bd599e88>\u001b[0m in \u001b[0;36m<module>\u001b[0;34m\u001b[0m\n\u001b[1;32m      2\u001b[0m \u001b[0;31m#　今日は動かない\u001b[0m\u001b[0;34m\u001b[0m\u001b[0;34m\u001b[0m\u001b[0;34m\u001b[0m\u001b[0m\n\u001b[1;32m      3\u001b[0m \u001b[0mda\u001b[0m \u001b[0;34m=\u001b[0m \u001b[0mIsingLib\u001b[0m\u001b[0;34m.\u001b[0m\u001b[0mDaFormat\u001b[0m\u001b[0;34m(\u001b[0m\u001b[0mmat\u001b[0m\u001b[0;34m,\u001b[0m \u001b[0mapi_key\u001b[0m\u001b[0;34m=\u001b[0m\u001b[0;34m'/Users/daisuke.oku/da_key_2.json'\u001b[0m\u001b[0;34m,\u001b[0m \u001b[0mversion\u001b[0m\u001b[0;34m=\u001b[0m\u001b[0;36m2\u001b[0m\u001b[0;34m)\u001b[0m\u001b[0;34m\u001b[0m\u001b[0;34m\u001b[0m\u001b[0m\n\u001b[0;32m----> 4\u001b[0;31m \u001b[0mjob_id\u001b[0m \u001b[0;34m=\u001b[0m \u001b[0mda\u001b[0m\u001b[0;34m.\u001b[0m\u001b[0mda_solver\u001b[0m\u001b[0;34m(\u001b[0m\u001b[0;34m)\u001b[0m\u001b[0;34m\u001b[0m\u001b[0;34m\u001b[0m\u001b[0m\n\u001b[0m\u001b[1;32m      5\u001b[0m \u001b[0mda\u001b[0m\u001b[0;34m.\u001b[0m\u001b[0mget_job\u001b[0m\u001b[0;34m(\u001b[0m\u001b[0mjob_id\u001b[0m\u001b[0;34m)\u001b[0m\u001b[0;34m\u001b[0m\u001b[0;34m\u001b[0m\u001b[0m\n",
      "\u001b[0;32m~/program/IsingLib/IsingLib/machine/daformat.py\u001b[0m in \u001b[0;36mda_solver\u001b[0;34m(self, **kargs)\u001b[0m\n\u001b[1;32m     76\u001b[0m         \u001b[0msolver\u001b[0m \u001b[0;34m=\u001b[0m \u001b[0;34m{\u001b[0m\u001b[0;34m'v1'\u001b[0m\u001b[0;34m:\u001b[0m \u001b[0;34m'fujitsuDA'\u001b[0m\u001b[0;34m,\u001b[0m \u001b[0;34m'v2'\u001b[0m\u001b[0;34m:\u001b[0m \u001b[0;34m'fujitsuDA2'\u001b[0m\u001b[0;34m,\u001b[0m \u001b[0;34m}\u001b[0m\u001b[0;34m\u001b[0m\u001b[0;34m\u001b[0m\u001b[0m\n\u001b[1;32m     77\u001b[0m         \u001b[0msolver_params\u001b[0m \u001b[0;34m=\u001b[0m \u001b[0;34m{\u001b[0m\u001b[0msolver\u001b[0m\u001b[0;34m[\u001b[0m\u001b[0mself\u001b[0m\u001b[0;34m.\u001b[0m\u001b[0mversion\u001b[0m\u001b[0;34m]\u001b[0m\u001b[0;34m:\u001b[0m \u001b[0mself\u001b[0m\u001b[0;34m.\u001b[0m\u001b[0m_da_para\u001b[0m\u001b[0;34m(\u001b[0m\u001b[0;34m**\u001b[0m\u001b[0mkargs\u001b[0m\u001b[0;34m)\u001b[0m\u001b[0;34m}\u001b[0m\u001b[0;34m\u001b[0m\u001b[0;34m\u001b[0m\u001b[0m\n\u001b[0;32m---> 78\u001b[0;31m         \u001b[0;32mreturn\u001b[0m \u001b[0mself\u001b[0m\u001b[0;34m.\u001b[0m\u001b[0mpost_job\u001b[0m\u001b[0;34m(\u001b[0m\u001b[0mself\u001b[0m\u001b[0;34m.\u001b[0m\u001b[0m_make_params\u001b[0m\u001b[0;34m(\u001b[0m\u001b[0msolver_params\u001b[0m\u001b[0;34m)\u001b[0m\u001b[0;34m)\u001b[0m\u001b[0;34m\u001b[0m\u001b[0;34m\u001b[0m\u001b[0m\n\u001b[0m\u001b[1;32m     79\u001b[0m \u001b[0;34m\u001b[0m\u001b[0m\n\u001b[1;32m     80\u001b[0m     def _da_para(self,\n",
      "\u001b[0;32m~/program/IsingLib/IsingLib/machine/daformat.py\u001b[0m in \u001b[0;36mpost_job\u001b[0;34m(self, qubo_request)\u001b[0m\n\u001b[1;32m     63\u001b[0m     \u001b[0;32mdef\u001b[0m \u001b[0mpost_job\u001b[0m\u001b[0;34m(\u001b[0m\u001b[0mself\u001b[0m\u001b[0;34m,\u001b[0m \u001b[0mqubo_request\u001b[0m\u001b[0;34m:\u001b[0m \u001b[0mDict\u001b[0m\u001b[0;34m[\u001b[0m\u001b[0mstr\u001b[0m\u001b[0;34m,\u001b[0m \u001b[0mAny\u001b[0m\u001b[0;34m]\u001b[0m\u001b[0;34m)\u001b[0m \u001b[0;34m->\u001b[0m \u001b[0mstr\u001b[0m\u001b[0;34m:\u001b[0m\u001b[0;34m\u001b[0m\u001b[0;34m\u001b[0m\u001b[0m\n\u001b[1;32m     64\u001b[0m         \u001b[0murl\u001b[0m \u001b[0;34m=\u001b[0m \u001b[0;34m'%s/%s/async/qubo/solve'\u001b[0m \u001b[0;34m%\u001b[0m \u001b[0;34m(\u001b[0m\u001b[0mself\u001b[0m\u001b[0;34m.\u001b[0m\u001b[0murl\u001b[0m\u001b[0;34m,\u001b[0m \u001b[0mself\u001b[0m\u001b[0;34m.\u001b[0m\u001b[0mversion\u001b[0m\u001b[0;34m)\u001b[0m\u001b[0;34m\u001b[0m\u001b[0;34m\u001b[0m\u001b[0m\n\u001b[0;32m---> 65\u001b[0;31m         \u001b[0mr\u001b[0m \u001b[0;34m=\u001b[0m \u001b[0mrequests\u001b[0m\u001b[0;34m.\u001b[0m\u001b[0mpost\u001b[0m\u001b[0;34m(\u001b[0m\u001b[0murl\u001b[0m\u001b[0;34m,\u001b[0m \u001b[0mdata\u001b[0m\u001b[0;34m=\u001b[0m\u001b[0mjson\u001b[0m\u001b[0;34m.\u001b[0m\u001b[0mdumps\u001b[0m\u001b[0;34m(\u001b[0m\u001b[0mqubo_request\u001b[0m\u001b[0;34m)\u001b[0m\u001b[0;34m,\u001b[0m \u001b[0mheaders\u001b[0m\u001b[0;34m=\u001b[0m\u001b[0mself\u001b[0m\u001b[0;34m.\u001b[0m\u001b[0mheaders\u001b[0m\u001b[0;34m)\u001b[0m\u001b[0;34m\u001b[0m\u001b[0;34m\u001b[0m\u001b[0m\n\u001b[0m\u001b[1;32m     66\u001b[0m         \u001b[0;31m# {\"job_id\":\"ABC00001-1234512345123\"}\u001b[0m\u001b[0;34m\u001b[0m\u001b[0;34m\u001b[0m\u001b[0;34m\u001b[0m\u001b[0m\n\u001b[1;32m     67\u001b[0m         \u001b[0mjob_id\u001b[0m\u001b[0;34m:\u001b[0m \u001b[0mstr\u001b[0m \u001b[0;34m=\u001b[0m \u001b[0mr\u001b[0m\u001b[0;34m.\u001b[0m\u001b[0mjson\u001b[0m\u001b[0;34m(\u001b[0m\u001b[0;34m)\u001b[0m\u001b[0;34m[\u001b[0m\u001b[0;34m'job_id'\u001b[0m\u001b[0;34m]\u001b[0m\u001b[0;34m\u001b[0m\u001b[0;34m\u001b[0m\u001b[0m\n",
      "\u001b[0;32m/usr/local/lib/python3.7/site-packages/requests/api.py\u001b[0m in \u001b[0;36mpost\u001b[0;34m(url, data, json, **kwargs)\u001b[0m\n\u001b[1;32m    114\u001b[0m     \"\"\"\n\u001b[1;32m    115\u001b[0m \u001b[0;34m\u001b[0m\u001b[0m\n\u001b[0;32m--> 116\u001b[0;31m     \u001b[0;32mreturn\u001b[0m \u001b[0mrequest\u001b[0m\u001b[0;34m(\u001b[0m\u001b[0;34m'post'\u001b[0m\u001b[0;34m,\u001b[0m \u001b[0murl\u001b[0m\u001b[0;34m,\u001b[0m \u001b[0mdata\u001b[0m\u001b[0;34m=\u001b[0m\u001b[0mdata\u001b[0m\u001b[0;34m,\u001b[0m \u001b[0mjson\u001b[0m\u001b[0;34m=\u001b[0m\u001b[0mjson\u001b[0m\u001b[0;34m,\u001b[0m \u001b[0;34m**\u001b[0m\u001b[0mkwargs\u001b[0m\u001b[0;34m)\u001b[0m\u001b[0;34m\u001b[0m\u001b[0;34m\u001b[0m\u001b[0m\n\u001b[0m\u001b[1;32m    117\u001b[0m \u001b[0;34m\u001b[0m\u001b[0m\n\u001b[1;32m    118\u001b[0m \u001b[0;34m\u001b[0m\u001b[0m\n",
      "\u001b[0;32m/usr/local/lib/python3.7/site-packages/requests/api.py\u001b[0m in \u001b[0;36mrequest\u001b[0;34m(method, url, **kwargs)\u001b[0m\n\u001b[1;32m     58\u001b[0m     \u001b[0;31m# cases, and look like a memory leak in others.\u001b[0m\u001b[0;34m\u001b[0m\u001b[0;34m\u001b[0m\u001b[0;34m\u001b[0m\u001b[0m\n\u001b[1;32m     59\u001b[0m     \u001b[0;32mwith\u001b[0m \u001b[0msessions\u001b[0m\u001b[0;34m.\u001b[0m\u001b[0mSession\u001b[0m\u001b[0;34m(\u001b[0m\u001b[0;34m)\u001b[0m \u001b[0;32mas\u001b[0m \u001b[0msession\u001b[0m\u001b[0;34m:\u001b[0m\u001b[0;34m\u001b[0m\u001b[0;34m\u001b[0m\u001b[0m\n\u001b[0;32m---> 60\u001b[0;31m         \u001b[0;32mreturn\u001b[0m \u001b[0msession\u001b[0m\u001b[0;34m.\u001b[0m\u001b[0mrequest\u001b[0m\u001b[0;34m(\u001b[0m\u001b[0mmethod\u001b[0m\u001b[0;34m=\u001b[0m\u001b[0mmethod\u001b[0m\u001b[0;34m,\u001b[0m \u001b[0murl\u001b[0m\u001b[0;34m=\u001b[0m\u001b[0murl\u001b[0m\u001b[0;34m,\u001b[0m \u001b[0;34m**\u001b[0m\u001b[0mkwargs\u001b[0m\u001b[0;34m)\u001b[0m\u001b[0;34m\u001b[0m\u001b[0;34m\u001b[0m\u001b[0m\n\u001b[0m\u001b[1;32m     61\u001b[0m \u001b[0;34m\u001b[0m\u001b[0m\n\u001b[1;32m     62\u001b[0m \u001b[0;34m\u001b[0m\u001b[0m\n",
      "\u001b[0;32m/usr/local/lib/python3.7/site-packages/requests/sessions.py\u001b[0m in \u001b[0;36mrequest\u001b[0;34m(self, method, url, params, data, headers, cookies, files, auth, timeout, allow_redirects, proxies, hooks, stream, verify, cert, json)\u001b[0m\n\u001b[1;32m    531\u001b[0m         }\n\u001b[1;32m    532\u001b[0m         \u001b[0msend_kwargs\u001b[0m\u001b[0;34m.\u001b[0m\u001b[0mupdate\u001b[0m\u001b[0;34m(\u001b[0m\u001b[0msettings\u001b[0m\u001b[0;34m)\u001b[0m\u001b[0;34m\u001b[0m\u001b[0;34m\u001b[0m\u001b[0m\n\u001b[0;32m--> 533\u001b[0;31m         \u001b[0mresp\u001b[0m \u001b[0;34m=\u001b[0m \u001b[0mself\u001b[0m\u001b[0;34m.\u001b[0m\u001b[0msend\u001b[0m\u001b[0;34m(\u001b[0m\u001b[0mprep\u001b[0m\u001b[0;34m,\u001b[0m \u001b[0;34m**\u001b[0m\u001b[0msend_kwargs\u001b[0m\u001b[0;34m)\u001b[0m\u001b[0;34m\u001b[0m\u001b[0;34m\u001b[0m\u001b[0m\n\u001b[0m\u001b[1;32m    534\u001b[0m \u001b[0;34m\u001b[0m\u001b[0m\n\u001b[1;32m    535\u001b[0m         \u001b[0;32mreturn\u001b[0m \u001b[0mresp\u001b[0m\u001b[0;34m\u001b[0m\u001b[0;34m\u001b[0m\u001b[0m\n",
      "\u001b[0;32m/usr/local/lib/python3.7/site-packages/requests/sessions.py\u001b[0m in \u001b[0;36msend\u001b[0;34m(self, request, **kwargs)\u001b[0m\n\u001b[1;32m    644\u001b[0m \u001b[0;34m\u001b[0m\u001b[0m\n\u001b[1;32m    645\u001b[0m         \u001b[0;31m# Send the request\u001b[0m\u001b[0;34m\u001b[0m\u001b[0;34m\u001b[0m\u001b[0;34m\u001b[0m\u001b[0m\n\u001b[0;32m--> 646\u001b[0;31m         \u001b[0mr\u001b[0m \u001b[0;34m=\u001b[0m \u001b[0madapter\u001b[0m\u001b[0;34m.\u001b[0m\u001b[0msend\u001b[0m\u001b[0;34m(\u001b[0m\u001b[0mrequest\u001b[0m\u001b[0;34m,\u001b[0m \u001b[0;34m**\u001b[0m\u001b[0mkwargs\u001b[0m\u001b[0;34m)\u001b[0m\u001b[0;34m\u001b[0m\u001b[0;34m\u001b[0m\u001b[0m\n\u001b[0m\u001b[1;32m    647\u001b[0m \u001b[0;34m\u001b[0m\u001b[0m\n\u001b[1;32m    648\u001b[0m         \u001b[0;31m# Total elapsed time of the request (approximately)\u001b[0m\u001b[0;34m\u001b[0m\u001b[0;34m\u001b[0m\u001b[0;34m\u001b[0m\u001b[0m\n",
      "\u001b[0;32m/usr/local/lib/python3.7/site-packages/requests/adapters.py\u001b[0m in \u001b[0;36msend\u001b[0;34m(self, request, stream, timeout, verify, cert, proxies)\u001b[0m\n\u001b[1;32m    514\u001b[0m                 \u001b[0;32mraise\u001b[0m \u001b[0mSSLError\u001b[0m\u001b[0;34m(\u001b[0m\u001b[0me\u001b[0m\u001b[0;34m,\u001b[0m \u001b[0mrequest\u001b[0m\u001b[0;34m=\u001b[0m\u001b[0mrequest\u001b[0m\u001b[0;34m)\u001b[0m\u001b[0;34m\u001b[0m\u001b[0;34m\u001b[0m\u001b[0m\n\u001b[1;32m    515\u001b[0m \u001b[0;34m\u001b[0m\u001b[0m\n\u001b[0;32m--> 516\u001b[0;31m             \u001b[0;32mraise\u001b[0m \u001b[0mConnectionError\u001b[0m\u001b[0;34m(\u001b[0m\u001b[0me\u001b[0m\u001b[0;34m,\u001b[0m \u001b[0mrequest\u001b[0m\u001b[0;34m=\u001b[0m\u001b[0mrequest\u001b[0m\u001b[0;34m)\u001b[0m\u001b[0;34m\u001b[0m\u001b[0;34m\u001b[0m\u001b[0m\n\u001b[0m\u001b[1;32m    517\u001b[0m \u001b[0;34m\u001b[0m\u001b[0m\n\u001b[1;32m    518\u001b[0m         \u001b[0;32mexcept\u001b[0m \u001b[0mClosedPoolError\u001b[0m \u001b[0;32mas\u001b[0m \u001b[0me\u001b[0m\u001b[0;34m:\u001b[0m\u001b[0;34m\u001b[0m\u001b[0;34m\u001b[0m\u001b[0m\n",
      "\u001b[0;31mConnectionError\u001b[0m: HTTPSConnectionPool(host='api.jp-east-1.digitalannealer.global.fujitsu.com', port=443): Max retries exceeded with url: /v2/async/qubo/solve (Caused by NewConnectionError('<urllib3.connection.VerifiedHTTPSConnection object at 0x12266d940>: Failed to establish a new connection: [Errno 61] Connection refused'))"
     ]
    }
   ],
   "source": [
    "mat, const = graph.get_params('da')\n",
    "#　今日は動かない\n",
    "da = IsingLib.DaFormat(mat, api_key='/Users/daisuke.oku/da_key_2.json', version=2)\n",
    "job_id = da.da_solver()\n",
    "da.get_job(job_id)"
   ]
  },
  {
   "cell_type": "code",
   "execution_count": 12,
   "metadata": {},
   "outputs": [
    {
     "name": "stdout",
     "output_type": "stream",
     "text": [
      "-454.0\n",
      "-454.0\n"
     ]
    }
   ],
   "source": [
    "da.get_energy(job_id)\n",
    "state_li = da.get_configuration(job_id)\n",
    "for state in state_li:\n",
    "    print(graph.energy(state))"
   ]
  },
  {
   "cell_type": "code",
   "execution_count": 22,
   "metadata": {},
   "outputs": [
    {
     "data": {
      "text/plain": [
       "BinaryQuadraticModel({0: 2.0, 1: -16.0, 2: 5.0, 3: -28.0, 4: 19.0, 5: 17.0, 7: 4.0, 8: -23.0, 9: 26.0, 10: 15.0, 11: -29.0, 12: -8.0, 13: -10.0, 14: 23.0, 6: 12.0}, {(0, 1): -9.0, (0, 2): 18.0, (0, 3): 18.0, (0, 4): 25.0, (0, 5): -2.0, (0, 7): 26.0, (0, 8): 8.0, (0, 9): 6.0, (0, 10): 11.0, (0, 11): 2.0, (0, 12): -28.0, (0, 13): -27.0, (0, 14): -13.0, (1, 2): -9.0, (1, 3): 20.0, (1, 4): -26.0, (1, 5): 20.0, (1, 6): -22.0, (1, 7): 4.0, (1, 8): -2.0, (1, 9): 21.0, (1, 10): -26.0, (1, 11): -5.0, (1, 12): -9.0, (1, 13): 18.0, (1, 14): 25.0, (2, 3): 12.0, (2, 4): 4.0, (2, 5): -5.0, (2, 6): -17.0, (2, 7): 29.0, (2, 8): 11.0, (2, 9): -28.0, (2, 10): -30.0, (2, 11): 28.0, (2, 12): 27.0, (2, 13): 28.0, (2, 14): 5.0, (3, 4): -29.0, (3, 5): -1.0, (3, 6): -26.0, (3, 7): 30.0, (3, 8): -29.0, (3, 9): -28.0, (3, 10): -14.0, (3, 11): -4.0, (3, 12): 17.0, (3, 13): -18.0, (3, 14): -14.0, (4, 5): -4.0, (4, 6): 23.0, (4, 7): -10.0, (4, 8): -19.0, (4, 9): -8.0, (4, 10): -10.0, (4, 11): 12.0, (4, 12): -12.0, (4, 13): 10.0, (4, 14): 16.0, (5, 6): 23.0, (5, 7): 26.0, (5, 8): 19.0, (5, 9): 1.0, (5, 10): -9.0, (5, 11): -28.0, (5, 12): 28.0, (5, 13): -22.0, (5, 14): -17.0, (7, 6): 22.0, (7, 8): -25.0, (7, 9): -22.0, (7, 10): 11.0, (7, 11): 20.0, (7, 12): -6.0, (7, 13): -28.0, (7, 14): 14.0, (8, 6): 24.0, (8, 9): -5.0, (8, 10): 6.0, (8, 11): -9.0, (8, 12): -13.0, (8, 13): 24.0, (8, 14): 17.0, (9, 6): -5.0, (9, 10): 28.0, (9, 11): 13.0, (9, 12): 7.0, (9, 13): 30.0, (9, 14): -30.0, (10, 6): 28.0, (10, 11): -22.0, (10, 12): 3.0, (10, 13): 2.0, (10, 14): -11.0, (11, 6): -15.0, (11, 12): -1.0, (11, 13): 21.0, (11, 14): -20.0, (12, 6): 13.0, (12, 13): 21.0, (12, 14): -22.0, (13, 6): -26.0, (13, 14): -24.0, (14, 6): 10.0}, 0.0, Vartype.BINARY)"
      ]
     },
     "execution_count": 22,
     "metadata": {},
     "output_type": "execute_result"
    }
   ],
   "source": [
    "graph.to_bqm()"
   ]
  },
  {
   "cell_type": "code",
   "execution_count": 23,
   "metadata": {},
   "outputs": [
    {
     "name": "stdout",
     "output_type": "stream",
     "text": [
      "ising model={'h': (array([[  2,  -9,  18,  18,  25,  -2,   0,  26,   8,   6,  11,   2, -28, -27, -13],\n",
      "       [-30, -16,  -9,  20, -26,  20, -22,   4,  -2,  21, -26,  -5,  -9,  18,  25],\n",
      "       [ -3,  25,   5,  12,   4,  -5, -17,  29,  11, -28, -30,  28,  27,  28,   5],\n",
      "       [-13, -12,   2, -28, -29,  -1, -26,  30, -29, -28, -14,  -4,  17, -18, -14],\n",
      "       [ 29,   4,  25, -23,  19,  -4,  23, -10, -19,  -8, -10,  12, -12,  10,  16],\n",
      "       [ 21,  -3,   5, -27, -21,  17,  23,  26,  19,   1,  -9, -28,  28, -22, -17],\n",
      "       [ 27, -23,  16,  26,  -7, -26,  12,  22,  24,  -5,  28, -15,  13, -26,  10],\n",
      "       [ 25,  27,   8, -26,  18, -30,  24,   4, -25, -22,  11,  20,  -6, -28,  14],\n",
      "       [ 22,   0, -18,   3,  10,  30,  15, -21, -23,  -5,   6,  -9, -13,  24,  17],\n",
      "       [ 21,  18, -26,  -6, -26,   2, -11, -26,   0,  26,  28,  13,   7,  30, -30],\n",
      "       [ -5, -17,  21,   1, -18, -14,  23,  -3,  -3,   5,  15, -22,   3,   2, -11],\n",
      "       [ -8, -22,  17, -31, -18,  24,  17,  10, -21,  30,   4, -29,  -1,  21, -20],\n",
      "       [-18,  -9,  14,  28,  -4,   5,  19,  10, -25,  22,  -5, -15,  -8,  21, -22],\n",
      "       [ 22, -12,  17,  21, -28, -22, -17, -10, -10,  17,  27,  -7, -13, -10, -24],\n",
      "       [-18,  17,   3,  17, -20,  -1, -10,  21,  23, -12, -21,  30,   7,   2,  23]]), 10)}\n"
     ]
    }
   ],
   "source": [
    "a = IsingLib.Model.from_list(mat, 10, 'ising')\n",
    "print(a)"
   ]
  },
  {
   "cell_type": "code",
   "execution_count": 24,
   "metadata": {},
   "outputs": [],
   "source": [
    "a.compile()"
   ]
  },
  {
   "cell_type": "code",
   "execution_count": 25,
   "metadata": {},
   "outputs": [
    {
     "data": {
      "text/plain": [
       "(array([[  2.,  -9.,  18.,  18.,  25.,  -2.,   0.,  26.,   8.,   6.,  11.,   2., -28., -27., -13.],\n",
       "        [  0., -16.,  -9.,  20., -26.,  20., -22.,   4.,  -2.,  21., -26.,  -5.,  -9.,  18.,  25.],\n",
       "        [  0.,   0.,   5.,  12.,   4.,  -5., -17.,  29.,  11., -28., -30.,  28.,  27.,  28.,   5.],\n",
       "        [  0.,   0.,   0., -28., -29.,  -1., -26.,  30., -29., -28., -14.,  -4.,  17., -18., -14.],\n",
       "        [  0.,   0.,   0.,   0.,  19.,  -4.,  23., -10., -19.,  -8., -10.,  12., -12.,  10.,  16.],\n",
       "        [  0.,   0.,   0.,   0.,   0.,  17.,  23.,  26.,  19.,   1.,  -9., -28.,  28., -22., -17.],\n",
       "        [  0.,   0.,   0.,   0.,   0.,   0.,  12.,  22.,  24.,  -5.,  28., -15.,  13., -26.,  10.],\n",
       "        [  0.,   0.,   0.,   0.,   0.,   0.,   0.,   4., -25., -22.,  11.,  20.,  -6., -28.,  14.],\n",
       "        [  0.,   0.,   0.,   0.,   0.,   0.,   0.,   0., -23.,  -5.,   6.,  -9., -13.,  24.,  17.],\n",
       "        [  0.,   0.,   0.,   0.,   0.,   0.,   0.,   0.,   0.,  26.,  28.,  13.,   7.,  30., -30.],\n",
       "        [  0.,   0.,   0.,   0.,   0.,   0.,   0.,   0.,   0.,   0.,  15., -22.,   3.,   2., -11.],\n",
       "        [  0.,   0.,   0.,   0.,   0.,   0.,   0.,   0.,   0.,   0.,   0., -29.,  -1.,  21., -20.],\n",
       "        [  0.,   0.,   0.,   0.,   0.,   0.,   0.,   0.,   0.,   0.,   0.,   0.,  -8.,  21., -22.],\n",
       "        [  0.,   0.,   0.,   0.,   0.,   0.,   0.,   0.,   0.,   0.,   0.,   0.,   0., -10., -24.],\n",
       "        [  0.,   0.,   0.,   0.,   0.,   0.,   0.,   0.,   0.,   0.,   0.,   0.,   0.,   0.,  23.]]),\n",
       " 10.0)"
      ]
     },
     "execution_count": 25,
     "metadata": {},
     "output_type": "execute_result"
    }
   ],
   "source": [
    "a.to_ising()"
   ]
  },
  {
   "cell_type": "code",
   "execution_count": 26,
   "metadata": {},
   "outputs": [
    {
     "data": {
      "text/plain": [
       "(array([[ -68.,  -36.,   72.,   72.,  100.,   -8.,    0.,  104.,   32.,   24.,   44.,    8., -112., -108.,  -52.],\n",
       "        [   0.,  -16.,  -36.,   80., -104.,   80.,  -88.,   16.,   -8.,   84., -104.,  -20.,  -36.,   72.,  100.],\n",
       "        [   0.,    0., -141.,   48.,   16.,  -20.,  -68.,  116.,   44., -112., -120.,  112.,  108.,  112.,   20.],\n",
       "        [   0.,    0.,    0.,  104., -116.,   -4., -104.,  120., -116., -112.,  -56.,  -16.,   68.,  -72.,  -56.],\n",
       "        [   0.,    0.,    0.,    0.,   75.,  -16.,   92.,  -40.,  -76.,  -32.,  -40.,   48.,  -48.,   40.,   64.],\n",
       "        [   0.,    0.,    0.,    0.,    0.,  -41.,   92.,  104.,   76.,    4.,  -36., -112.,  112.,  -88.,  -68.],\n",
       "        [   0.,    0.,    0.,    0.,    0.,    0.,  -52.,   88.,   96.,  -20.,  112.,  -60.,   52., -104.,   40.],\n",
       "        [   0.,    0.,    0.,    0.,    0.,    0.,    0., -178., -100.,  -88.,   44.,   80.,  -24., -112.,   56.],\n",
       "        [   0.,    0.,    0.,    0.,    0.,    0.,    0.,    0.,  -37.,  -20.,   24.,  -36.,  -52.,   96.,   68.],\n",
       "        [   0.,    0.,    0.,    0.,    0.,    0.,    0.,    0.,    0.,   66.,  112.,   52.,   28.,  120., -120.],\n",
       "        [   0.,    0.,    0.,    0.,    0.,    0.,    0.,    0.,    0.,    0.,   81.,  -88.,   12.,    8.,  -44.],\n",
       "        [   0.,    0.,    0.,    0.,    0.,    0.,    0.,    0.,    0.,    0.,    0.,  -13.,   -4.,   84.,  -80.],\n",
       "        [   0.,    0.,    0.,    0.,    0.,    0.,    0.,    0.,    0.,    0.,    0.,    0.,  -58.,   84.,  -88.],\n",
       "        [   0.,    0.,    0.,    0.,    0.,    0.,    0.,    0.,    0.,    0.,    0.,    0.,    0.,  -28.,  -96.],\n",
       "        [   0.,    0.,    0.,    0.,    0.,    0.,    0.,    0.,    0.,    0.,    0.,    0.,    0.,    0.,  151.]]),\n",
       " 46.5)"
      ]
     },
     "execution_count": 26,
     "metadata": {},
     "output_type": "execute_result"
    }
   ],
   "source": [
    "a.to_qubo()"
   ]
  },
  {
   "cell_type": "code",
   "execution_count": 7,
   "metadata": {},
   "outputs": [
    {
     "data": {
      "text/plain": [
       "(array([[ 148.,  -80.,   -4.,  112.,  100.,  -36.,  -60.,   28.,  -80.,\n",
       "           52.,  -96., -112.,  -76.,  -44.,  -32.,   -8.,   16., -120.,\n",
       "           96.,  -12.],\n",
       "        [   0.,  -55.,   56.,  -40.,   64.,  -44.,   96.,   44.,   16.,\n",
       "          -76.,  -64.,   88.,   96.,  -60.,  -40.,    8.,   64.,  -24.,\n",
       "           84.,  -68.],\n",
       "        [   0.,    0.,    1.,  -60.,  -20.,   80.,  -28.,   68.,   36.,\n",
       "            4., -104.,    4.,  -24.,   44.,   44., -124.,   80.,   36.,\n",
       "           36., -112.],\n",
       "        [   0.,    0.,    0.,   28.,  120., -120.,  -96.,  -40.,  108.,\n",
       "           32.,  -32.,   68., -116.,   28.,  -64., -100.,   20.,   36.,\n",
       "           84.,   16.],\n",
       "        [   0.,    0.,    0.,    0., -197., -116.,   -4.,  116.,  120.,\n",
       "         -108.,  -28., -112.,  -48.,   44.,  -64.,  -52.,  108.,   68.,\n",
       "          108.,  100.],\n",
       "        [   0.,    0.,    0.,    0.,    0.,  -90.,   92.,   16.,   68.,\n",
       "          -80.,  116.,  -16.,  116.,  -68.,  -32.,  112.,  -56.,   24.,\n",
       "           44.,   96.],\n",
       "        [   0.,    0.,    0.,    0.,    0.,    0.,  -30.,   40.,  -92.,\n",
       "          -28.,   -8.,  104.,   84., -116.,    4.,  -12.,   88.,  -60.,\n",
       "            0.,   76.],\n",
       "        [   0.,    0.,    0.,    0.,    0.,    0.,    0., -120., -104.,\n",
       "           36., -112.,   76.,   60.,   44.,  -44.,  -16.,  -28.,  116.,\n",
       "           56., -116.],\n",
       "        [   0.,    0.,    0.,    0.,    0.,    0.,    0.,    0.,  -63.,\n",
       "           72.,   48.,   68.,  -20.,   16.,   16.,   20.,  -12., -104.,\n",
       "          -80.,   28.],\n",
       "        [   0.,    0.,    0.,    0.,    0.,    0.,    0.,    0.,    0.,\n",
       "           73.,   92., -100.,  -80.,  -12.,   20., -100.,   60.,  -16.,\n",
       "           24.,   40.],\n",
       "        [   0.,    0.,    0.,    0.,    0.,    0.,    0.,    0.,    0.,\n",
       "            0.,   76.,    8.,  -48.,    8.,  -64.,  -40.,   64.,   84.,\n",
       "           60.,  -36.],\n",
       "        [   0.,    0.,    0.,    0.,    0.,    0.,    0.,    0.,    0.,\n",
       "            0.,    0.,    2.,  -80.,  100.,   76.,    0.,   36., -108.,\n",
       "          -52.,   -4.],\n",
       "        [   0.,    0.,    0.,    0.,    0.,    0.,    0.,    0.,    0.,\n",
       "            0.,    0.,    0.,  120.,  104.,  100.,  -44., -124.,    0.,\n",
       "         -116.,  -36.],\n",
       "        [   0.,    0.,    0.,    0.,    0.,    0.,    0.,    0.,    0.,\n",
       "            0.,    0.,    0.,    0., -120.,  -84.,   60.,  112.,   52.,\n",
       "          116.,  -92.],\n",
       "        [   0.,    0.,    0.,    0.,    0.,    0.,    0.,    0.,    0.,\n",
       "            0.,    0.,    0.,    0.,    0.,  209.,  -24.,   56., -124.,\n",
       "         -124.,  -68.],\n",
       "        [   0.,    0.,    0.,    0.,    0.,    0.,    0.,    0.,    0.,\n",
       "            0.,    0.,    0.,    0.,    0.,    0.,  241.,  -80.,   72.,\n",
       "          -60.,  -36.],\n",
       "        [   0.,    0.,    0.,    0.,    0.,    0.,    0.,    0.,    0.,\n",
       "            0.,    0.,    0.,    0.,    0.,    0.,    0., -144.,  -84.,\n",
       "           40.,  -48.],\n",
       "        [   0.,    0.,    0.,    0.,    0.,    0.,    0.,    0.,    0.,\n",
       "            0.,    0.,    0.,    0.,    0.,    0.,    0.,    0.,  127.,\n",
       "          -44.,  -20.],\n",
       "        [   0.,    0.,    0.,    0.,    0.,    0.,    0.,    0.,    0.,\n",
       "            0.,    0.,    0.,    0.,    0.,    0.,    0.,    0.,    0.,\n",
       "         -106.,  -60.],\n",
       "        [   0.,    0.,    0.,    0.,    0.,    0.,    0.,    0.,    0.,\n",
       "            0.,    0.,    0.,    0.,    0.,    0.,    0.,    0.,    0.,\n",
       "            0.,  180.]]), -77.0)"
      ]
     },
     "execution_count": 7,
     "metadata": {},
     "output_type": "execute_result"
    }
   ],
   "source": [
    "a.trans_matrix('qubo')"
   ]
  },
  {
   "cell_type": "code",
   "execution_count": 8,
   "metadata": {},
   "outputs": [
    {
     "data": {
      "text/plain": [
       "BinaryQuadraticModel({0: 148.0, 1: -55.0, 2: 1.0, 3: 28.0, 4: -197.0, 5: -90.0, 6: -30.0, 7: -120.0, 8: -63.0, 9: 73.0, 10: 76.0, 11: 2.0, 12: 120.0, 13: -120.0, 14: 209.0, 15: 241.0, 16: -144.0, 17: 127.0, 18: -106.0, 19: 180.0}, {(0, 1): -80.0, (0, 2): -4.0, (0, 3): 112.0, (0, 4): 100.0, (0, 5): -36.0, (0, 6): -60.0, (0, 7): 28.0, (0, 8): -80.0, (0, 9): 52.0, (0, 10): -96.0, (0, 11): -112.0, (0, 12): -76.0, (0, 13): -44.0, (0, 14): -32.0, (0, 15): -8.0, (0, 16): 16.0, (0, 17): -120.0, (0, 18): 96.0, (0, 19): -12.0, (1, 2): 56.0, (1, 3): -40.0, (1, 4): 64.0, (1, 5): -44.0, (1, 6): 96.0, (1, 7): 44.0, (1, 8): 16.0, (1, 9): -76.0, (1, 10): -64.0, (1, 11): 88.0, (1, 12): 96.0, (1, 13): -60.0, (1, 14): -40.0, (1, 15): 8.0, (1, 16): 64.0, (1, 17): -24.0, (1, 18): 84.0, (1, 19): -68.0, (2, 3): -60.0, (2, 4): -20.0, (2, 5): 80.0, (2, 6): -28.0, (2, 7): 68.0, (2, 8): 36.0, (2, 9): 4.0, (2, 10): -104.0, (2, 11): 4.0, (2, 12): -24.0, (2, 13): 44.0, (2, 14): 44.0, (2, 15): -124.0, (2, 16): 80.0, (2, 17): 36.0, (2, 18): 36.0, (2, 19): -112.0, (3, 4): 120.0, (3, 5): -120.0, (3, 6): -96.0, (3, 7): -40.0, (3, 8): 108.0, (3, 9): 32.0, (3, 10): -32.0, (3, 11): 68.0, (3, 12): -116.0, (3, 13): 28.0, (3, 14): -64.0, (3, 15): -100.0, (3, 16): 20.0, (3, 17): 36.0, (3, 18): 84.0, (3, 19): 16.0, (4, 5): -116.0, (4, 6): -4.0, (4, 7): 116.0, (4, 8): 120.0, (4, 9): -108.0, (4, 10): -28.0, (4, 11): -112.0, (4, 12): -48.0, (4, 13): 44.0, (4, 14): -64.0, (4, 15): -52.0, (4, 16): 108.0, (4, 17): 68.0, (4, 18): 108.0, (4, 19): 100.0, (5, 6): 92.0, (5, 7): 16.0, (5, 8): 68.0, (5, 9): -80.0, (5, 10): 116.0, (5, 11): -16.0, (5, 12): 116.0, (5, 13): -68.0, (5, 14): -32.0, (5, 15): 112.0, (5, 16): -56.0, (5, 17): 24.0, (5, 18): 44.0, (5, 19): 96.0, (6, 7): 40.0, (6, 8): -92.0, (6, 9): -28.0, (6, 10): -8.0, (6, 11): 104.0, (6, 12): 84.0, (6, 13): -116.0, (6, 14): 4.0, (6, 15): -12.0, (6, 16): 88.0, (6, 17): -60.0, (6, 19): 76.0, (7, 8): -104.0, (7, 9): 36.0, (7, 10): -112.0, (7, 11): 76.0, (7, 12): 60.0, (7, 13): 44.0, (7, 14): -44.0, (7, 15): -16.0, (7, 16): -28.0, (7, 17): 116.0, (7, 18): 56.0, (7, 19): -116.0, (8, 9): 72.0, (8, 10): 48.0, (8, 11): 68.0, (8, 12): -20.0, (8, 13): 16.0, (8, 14): 16.0, (8, 15): 20.0, (8, 16): -12.0, (8, 17): -104.0, (8, 18): -80.0, (8, 19): 28.0, (9, 10): 92.0, (9, 11): -100.0, (9, 12): -80.0, (9, 13): -12.0, (9, 14): 20.0, (9, 15): -100.0, (9, 16): 60.0, (9, 17): -16.0, (9, 18): 24.0, (9, 19): 40.0, (10, 11): 8.0, (10, 12): -48.0, (10, 13): 8.0, (10, 14): -64.0, (10, 15): -40.0, (10, 16): 64.0, (10, 17): 84.0, (10, 18): 60.0, (10, 19): -36.0, (11, 12): -80.0, (11, 13): 100.0, (11, 14): 76.0, (11, 16): 36.0, (11, 17): -108.0, (11, 18): -52.0, (11, 19): -4.0, (12, 13): 104.0, (12, 14): 100.0, (12, 15): -44.0, (12, 16): -124.0, (12, 18): -116.0, (12, 19): -36.0, (13, 14): -84.0, (13, 15): 60.0, (13, 16): 112.0, (13, 17): 52.0, (13, 18): 116.0, (13, 19): -92.0, (14, 15): -24.0, (14, 16): 56.0, (14, 17): -124.0, (14, 18): -124.0, (14, 19): -68.0, (15, 16): -80.0, (15, 17): 72.0, (15, 18): -60.0, (15, 19): -36.0, (16, 17): -84.0, (16, 18): 40.0, (16, 19): -48.0, (17, 18): -44.0, (17, 19): -20.0, (18, 19): -60.0}, 0.0, Vartype.BINARY)"
      ]
     },
     "execution_count": 8,
     "metadata": {},
     "output_type": "execute_result"
    }
   ],
   "source": [
    "a.to_bqm()"
   ]
  },
  {
   "cell_type": "code",
   "execution_count": null,
   "metadata": {},
   "outputs": [],
   "source": []
  }
 ],
 "metadata": {
  "kernelspec": {
   "display_name": "Python 3",
   "language": "python",
   "name": "python3"
  },
  "language_info": {
   "codemirror_mode": {
    "name": "ipython",
    "version": 3
   },
   "file_extension": ".py",
   "mimetype": "text/x-python",
   "name": "python",
   "nbconvert_exporter": "python",
   "pygments_lexer": "ipython3",
   "version": "3.7.3"
  }
 },
 "nbformat": 4,
 "nbformat_minor": 2
}
