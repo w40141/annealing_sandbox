{
 "cells": [
  {
   "cell_type": "code",
   "execution_count": 1,
   "metadata": {},
   "outputs": [
    {
     "name": "stdout",
     "output_type": "stream",
     "text": [
      "[[-10 -11  10 -16  -8  -7  -5   3  13 -24   4  -5  -5 -24 -12]\n",
      " [ 26  -6  20  -5   2  14 -28  -4   9   8  25 -24   9  18  -4]\n",
      " [ 14   8 -27  -3 -31  -4  -1  20 -30 -13 -19 -29 -25 -17  20]\n",
      " [ 27   9  -9  10  11 -11 -10  23 -26  23 -11  19  11  22   1]\n",
      " [ 15 -24 -23   3 -26   8  26  29  30 -18   9  27 -26  15  18]\n",
      " [ 25   1 -23  29  21   3  29   5 -10  -7  16  -9  23  29  29]\n",
      " [ 22  -6 -15 -31  30  13 -12  -6 -31  -5  16   7  -6  10  13]\n",
      " [ -8 -15  27 -23  10  -7 -13  18   2   2  14  -5 -17   5  -6]\n",
      " [ 13 -19 -30  -8   8  -4 -11 -27   9  12  16  -4   3 -22  28]\n",
      " [-14 -22  -1   3  17   3   9 -15  -8 -22  -8   7 -29   6  25]\n",
      " [ 20 -26  28 -18 -27 -22  28 -27   8 -19   5 -24 -31 -12 -18]\n",
      " [-10   0  26 -20  15  30   3 -21 -31 -25  -2  -5   5  23 -12]\n",
      " [ -3  19   0  14  23   0 -14  20  30  16 -20 -23 -21   7 -24]\n",
      " [ 27  18 -14 -17  10  22  -4  22   6 -26  22  24 -12  -5   8]\n",
      " [ 13  21  11  26  24   9   3 -26 -10  13  25   4  14 -21  21]]\n"
     ]
    }
   ],
   "source": [
    "import IsingLib\n",
    "import numpy as np\n",
    "np.set_printoptions(threshold=1000)\n",
    "np.set_printoptions(linewidth=200)\n",
    "\n",
    "# Random Graph\n",
    "\n",
    "num = 15\n",
    "value = 31\n",
    "mat = np.random.randint(-value, value, (num, num))\n",
    "print(mat)"
   ]
  },
  {
   "cell_type": "code",
   "execution_count": 2,
   "metadata": {},
   "outputs": [],
   "source": [
    "vartype = 'BINARY'\n",
    "# If you make a qubo model, you assign 'BINARY' or 'qubo' to variable vartype.\n",
    "# if you make a Ising model, you assign 'SPIN' or 'ising' to variable vartype.\n",
    "\n",
    "graph = IsingLib.Model(vartype)"
   ]
  },
  {
   "cell_type": "code",
   "execution_count": 3,
   "metadata": {},
   "outputs": [],
   "source": [
    "graph.add_terms(H=mat)\n",
    "graph.compile()"
   ]
  },
  {
   "cell_type": "code",
   "execution_count": 4,
   "metadata": {},
   "outputs": [
    {
     "name": "stdout",
     "output_type": "stream",
     "text": [
      "[[-10. -11.  10. -16.  -8.  -7.  -5.   3.  13. -24.   4.  -5.  -5. -24. -12.]\n",
      " [  0.  -6.  20.  -5.   2.  14. -28.  -4.   9.   8.  25. -24.   9.  18.  -4.]\n",
      " [  0.   0. -27.  -3. -31.  -4.  -1.  20. -30. -13. -19. -29. -25. -17.  20.]\n",
      " [  0.   0.   0.  10.  11. -11. -10.  23. -26.  23. -11.  19.  11.  22.   1.]\n",
      " [  0.   0.   0.   0. -26.   8.  26.  29.  30. -18.   9.  27. -26.  15.  18.]\n",
      " [  0.   0.   0.   0.   0.   3.  29.   5. -10.  -7.  16.  -9.  23.  29.  29.]\n",
      " [  0.   0.   0.   0.   0.   0. -12.  -6. -31.  -5.  16.   7.  -6.  10.  13.]\n",
      " [  0.   0.   0.   0.   0.   0.   0.  18.   2.   2.  14.  -5. -17.   5.  -6.]\n",
      " [  0.   0.   0.   0.   0.   0.   0.   0.   9.  12.  16.  -4.   3. -22.  28.]\n",
      " [  0.   0.   0.   0.   0.   0.   0.   0.   0. -22.  -8.   7. -29.   6.  25.]\n",
      " [  0.   0.   0.   0.   0.   0.   0.   0.   0.   0.   5. -24. -31. -12. -18.]\n",
      " [  0.   0.   0.   0.   0.   0.   0.   0.   0.   0.   0.  -5.   5.  23. -12.]\n",
      " [  0.   0.   0.   0.   0.   0.   0.   0.   0.   0.   0.   0. -21.   7. -24.]\n",
      " [  0.   0.   0.   0.   0.   0.   0.   0.   0.   0.   0.   0.   0.  -5.   8.]\n",
      " [  0.   0.   0.   0.   0.   0.   0.   0.   0.   0.   0.   0.   0.   0.  21.]]\n",
      "-346.0\n"
     ]
    }
   ],
   "source": [
    "print(graph.matrix)\n",
    "s, eng = graph.solve()\n",
    "print(eng)"
   ]
  },
  {
   "cell_type": "code",
   "execution_count": 5,
   "metadata": {},
   "outputs": [
    {
     "name": "stdout",
     "output_type": "stream",
     "text": [
      "[(1, 0, 1, 0, 1, 0, 0, 0, 0, 1, 1, 1, 1, 1, 0)] -346.0\n"
     ]
    }
   ],
   "source": [
    "s, eng = graph.solve('bf')\n",
    "print(s, eng)"
   ]
  },
  {
   "cell_type": "code",
   "execution_count": 6,
   "metadata": {},
   "outputs": [],
   "source": [
    "mat, const = graph.get_params('da')\n",
    "da = IsingLib.DaFormat(mat, api_key='/Users/daisuke.oku/da_key_2.json', version=2)\n",
    "job_id = da.da_solver()\n",
    "da.get_job(job_id)"
   ]
  },
  {
   "cell_type": "code",
   "execution_count": 7,
   "metadata": {},
   "outputs": [
    {
     "name": "stdout",
     "output_type": "stream",
     "text": [
      "-346.0\n"
     ]
    }
   ],
   "source": [
    "da.get_energy(job_id)\n",
    "state_li = da.get_configuration(job_id)\n",
    "for state in state_li:\n",
    "    print(graph.energy(state))"
   ]
  },
  {
   "cell_type": "code",
   "execution_count": null,
   "metadata": {},
   "outputs": [],
   "source": []
  },
  {
   "cell_type": "code",
   "execution_count": 8,
   "metadata": {},
   "outputs": [],
   "source": [
    "# TSP\n",
    "import pyqubo\n",
    "\n",
    "city = 5\n",
    "vartype = 'BINARY'\n",
    "x = pyqubo.Array.create('x', (city, city), vartype)\n",
    "tsp_model = IsingLib.Model(vartype)\n",
    "dis_li = [[0, 10, 8, 8, 4], [10, 0, 6, 11, 7], [8, 6, 0, 14, 8], [9, 11, 14, 0, 6], [4, 7, 8, 6, 0]]\n",
    "distance = np.zeros((city**2, city**2))\n",
    "for i in range(city):\n",
    "    point = (i + 1) % city\n",
    "    distance[i*city: (i+1)*city, point*city: (point+1)*city] = dis_li\n",
    "time_const = pyqubo.Sum(0, city, lambda i: (pyqubo.Sum(0, city, lambda j: x[i, j]) - 1) ** 2)\n",
    "city_const = pyqubo.Sum(0, city, lambda j: (pyqubo.Sum(0, city, lambda i: x[i, j]) - 1) ** 2)\n",
    "tsp_model.add_terms(H_0=distance, H_1=time_const, H_2=city_const)"
   ]
  },
  {
   "cell_type": "code",
   "execution_count": 9,
   "metadata": {},
   "outputs": [
    {
     "name": "stdout",
     "output_type": "stream",
     "text": [
      "[[-20.  20.  20.  20.  20.  20.  10.   8.   8.   4.  20.   0.   0.   0.   0.  20.   0.   0.   0.   0.  20.   0.   0.   0.   0.]\n",
      " [  0. -20.  20.  20.  20.  10.  20.   6.  11.   7.   0.  20.   0.   0.   0.   0.  20.   0.   0.   0.   0.  20.   0.   0.   0.]\n",
      " [  0.   0. -20.  20.  20.   8.   6.  20.  14.   8.   0.   0.  20.   0.   0.   0.   0.  20.   0.   0.   0.   0.  20.   0.   0.]\n",
      " [  0.   0.   0. -20.  20.   9.  11.  14.  20.   6.   0.   0.   0.  20.   0.   0.   0.   0.  20.   0.   0.   0.   0.  20.   0.]\n",
      " [  0.   0.   0.   0. -20.   4.   7.   8.   6.  20.   0.   0.   0.   0.  20.   0.   0.   0.   0.  20.   0.   0.   0.   0.  20.]\n",
      " [  0.   0.   0.   0.   0. -20.  20.  20.  20.  20.  20.  10.   8.   8.   4.  20.   0.   0.   0.   0.  20.   0.   0.   0.   0.]\n",
      " [  0.   0.   0.   0.   0.   0. -20.  20.  20.  20.  10.  20.   6.  11.   7.   0.  20.   0.   0.   0.   0.  20.   0.   0.   0.]\n",
      " [  0.   0.   0.   0.   0.   0.   0. -20.  20.  20.   8.   6.  20.  14.   8.   0.   0.  20.   0.   0.   0.   0.  20.   0.   0.]\n",
      " [  0.   0.   0.   0.   0.   0.   0.   0. -20.  20.   9.  11.  14.  20.   6.   0.   0.   0.  20.   0.   0.   0.   0.  20.   0.]\n",
      " [  0.   0.   0.   0.   0.   0.   0.   0.   0. -20.   4.   7.   8.   6.  20.   0.   0.   0.   0.  20.   0.   0.   0.   0.  20.]\n",
      " [  0.   0.   0.   0.   0.   0.   0.   0.   0.   0. -20.  20.  20.  20.  20.  20.  10.   8.   8.   4.  20.   0.   0.   0.   0.]\n",
      " [  0.   0.   0.   0.   0.   0.   0.   0.   0.   0.   0. -20.  20.  20.  20.  10.  20.   6.  11.   7.   0.  20.   0.   0.   0.]\n",
      " [  0.   0.   0.   0.   0.   0.   0.   0.   0.   0.   0.   0. -20.  20.  20.   8.   6.  20.  14.   8.   0.   0.  20.   0.   0.]\n",
      " [  0.   0.   0.   0.   0.   0.   0.   0.   0.   0.   0.   0.   0. -20.  20.   9.  11.  14.  20.   6.   0.   0.   0.  20.   0.]\n",
      " [  0.   0.   0.   0.   0.   0.   0.   0.   0.   0.   0.   0.   0.   0. -20.   4.   7.   8.   6.  20.   0.   0.   0.   0.  20.]\n",
      " [  0.   0.   0.   0.   0.   0.   0.   0.   0.   0.   0.   0.   0.   0.   0. -20.  20.  20.  20.  20.  20.  10.   8.   8.   4.]\n",
      " [  0.   0.   0.   0.   0.   0.   0.   0.   0.   0.   0.   0.   0.   0.   0.   0. -20.  20.  20.  20.  10.  20.   6.  11.   7.]\n",
      " [  0.   0.   0.   0.   0.   0.   0.   0.   0.   0.   0.   0.   0.   0.   0.   0.   0. -20.  20.  20.   8.   6.  20.  14.   8.]\n",
      " [  0.   0.   0.   0.   0.   0.   0.   0.   0.   0.   0.   0.   0.   0.   0.   0.   0.   0. -20.  20.   9.  11.  14.  20.   6.]\n",
      " [  0.   0.   0.   0.   0.   0.   0.   0.   0.   0.   0.   0.   0.   0.   0.   0.   0.   0.   0. -20.   4.   7.   8.   6.  20.]\n",
      " [  0.   0.   0.   0.   0.   0.   0.   0.   0.   0.   0.   0.   0.   0.   0.   0.   0.   0.   0.   0. -20.  20.  20.  20.  20.]\n",
      " [  0.   0.   0.   0.   0.   0.   0.   0.   0.   0.   0.   0.   0.   0.   0.   0.   0.   0.   0.   0.   0. -20.  20.  20.  20.]\n",
      " [  0.   0.   0.   0.   0.   0.   0.   0.   0.   0.   0.   0.   0.   0.   0.   0.   0.   0.   0.   0.   0.   0. -20.  20.  20.]\n",
      " [  0.   0.   0.   0.   0.   0.   0.   0.   0.   0.   0.   0.   0.   0.   0.   0.   0.   0.   0.   0.   0.   0.   0. -20.  20.]\n",
      " [  0.   0.   0.   0.   0.   0.   0.   0.   0.   0.   0.   0.   0.   0.   0.   0.   0.   0.   0.   0.   0.   0.   0.   0. -20.]]\n"
     ]
    }
   ],
   "source": [
    "np.set_printoptions(edgeitems=7)\n",
    "A = 10\n",
    "tsp_model.compile(H_1=A, H_2=A)\n",
    "print(tsp_model.matrix)"
   ]
  },
  {
   "cell_type": "code",
   "execution_count": 10,
   "metadata": {},
   "outputs": [
    {
     "name": "stdout",
     "output_type": "stream",
     "text": [
      "\n",
      "[0 0 0 1 0 0 0 0 0 1 1 0 0 0 0 0 0 1 0 0 0 1 0 0 0]\n",
      "\n",
      "[[0 0 0 1 0]\n",
      " [0 0 0 0 1]\n",
      " [1 0 0 0 0]\n",
      " [0 0 1 0 0]\n",
      " [0 1 0 0 0]]\n"
     ]
    }
   ],
   "source": [
    "state, eng = tsp_model.solve(temperature_start=100000, temperature_end=0.001)\n",
    "print('')\n",
    "print(state, )\n",
    "print('')\n",
    "ans = state.reshape(city, city)\n",
    "print(ans)"
   ]
  },
  {
   "cell_type": "code",
   "execution_count": 11,
   "metadata": {},
   "outputs": [],
   "source": [
    "mat, const = tsp_model.get_params('da')\n",
    "da = IsingLib.DaFormat(mat, api_key='/Users/daisuke.oku/da_key_2.json', version=2)\n",
    "job_id = da.da_solver()\n",
    "da.get_job(job_id)"
   ]
  },
  {
   "cell_type": "code",
   "execution_count": 12,
   "metadata": {},
   "outputs": [
    {
     "name": "stdout",
     "output_type": "stream",
     "text": [
      "[[0 0 0 1 0]\n",
      " [0 0 0 0 1]\n",
      " [1 0 0 0 0]\n",
      " [0 0 1 0 0]\n",
      " [0 1 0 0 0]] -76.0\n",
      "[[0 1 0 0 0]\n",
      " [0 0 1 0 0]\n",
      " [1 0 0 0 0]\n",
      " [0 0 0 0 1]\n",
      " [0 0 0 1 0]] -76.0\n"
     ]
    }
   ],
   "source": [
    "da.get_energy(job_id)\n",
    "state_li = da.get_configuration(job_id)\n",
    "for state in state_li:\n",
    "    np_state = np.array(state).reshape(city, city)\n",
    "    print(np_state, tsp_model.energy(state))"
   ]
  },
  {
   "cell_type": "code",
   "execution_count": null,
   "metadata": {},
   "outputs": [],
   "source": [
    "\n",
    "\n",
    "\n",
    "\n",
    "\n",
    "\n",
    "\n",
    "\n",
    "\n",
    "\n",
    "\n",
    "\n",
    "\n",
    "\n",
    "\n",
    "\n",
    "\n",
    "\n",
    "\n",
    "\n",
    "\n",
    "\n",
    "\n",
    "\n",
    "\n",
    "\n",
    "\n",
    "\n",
    "\n",
    "\n",
    "\n",
    "\n",
    "\n",
    "\n",
    "\n",
    "\n",
    "\n",
    "\n",
    "\n",
    "\n",
    "\n",
    "\n",
    "\n",
    "\n",
    "\n",
    "\n",
    "\n",
    "\n",
    "\n",
    "\n",
    "\n",
    "\n",
    "\n"
   ]
  }
 ],
 "metadata": {
  "kernelspec": {
   "display_name": "Python 3",
   "language": "python",
   "name": "python3"
  },
  "language_info": {
   "codemirror_mode": {
    "name": "ipython",
    "version": 3
   },
   "file_extension": ".py",
   "mimetype": "text/x-python",
   "name": "python",
   "nbconvert_exporter": "python",
   "pygments_lexer": "ipython3",
   "version": "3.7.3"
  }
 },
 "nbformat": 4,
 "nbformat_minor": 2
}
