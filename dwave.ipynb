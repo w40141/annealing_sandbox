{
 "cells": [
  {
   "cell_type": "code",
   "execution_count": 1,
   "metadata": {},
   "outputs": [
    {
     "name": "stdout",
     "output_type": "stream",
     "text": [
      "BinaryQuadraticModel({1: 1, 2: 2, 3: 3, 4: 4}, {(1, 2): 12, (1, 3): 13, (1, 4): 14, (2, 3): 23, (2, 4): 24, (3, 4): 34}, 0.0, Vartype.SPIN)\n"
     ]
    }
   ],
   "source": [
    "from dimod import *\n",
    "\n",
    "linear = {1: 1, 2: 2, 3: 3, 4: 4}\n",
    "quadratic = {(1, 2): 12, (1, 3): 13, (1, 4): 14, (2, 3): 23, (2, 4): 24, (3, 4): 34}\n",
    "offset = 0.0\n",
    "vartype = dimod.SPIN\n",
    "bqm_k4 = dimod.BinaryQuadraticModel(linear, quadratic, offset, vartype)\n",
    "print(bqm_k4)"
   ]
  },
  {
   "cell_type": "code",
   "execution_count": 5,
   "metadata": {},
   "outputs": [
    {
     "name": "stdout",
     "output_type": "stream",
     "text": [
      "    1  2  3  4 energy num_oc.\n",
      "6  +1 -1 +1 -1  -48.0       1\n",
      "4  -1 +1 +1 -1  -46.0       1\n",
      "14 +1 -1 -1 +1  -46.0       1\n",
      "12 -1 +1 -1 +1  -44.0       1\n",
      "2  +1 +1 -1 -1  -32.0       1\n",
      "15 -1 -1 -1 +1  -26.0       1\n",
      "7  -1 -1 +1 -1  -24.0       1\n",
      "8  -1 -1 +1 +1  -24.0       1\n",
      "5  +1 +1 +1 -1  -22.0       1\n",
      "13 +1 +1 -1 +1  -16.0       1\n",
      "3  -1 +1 -1 -1   -4.0       1\n",
      "9  +1 -1 +1 +1    8.0       1\n",
      "1  +1 -1 -1 -1   34.0       1\n",
      "11 -1 +1 +1 +1   50.0       1\n",
      "0  -1 -1 -1 -1  110.0       1\n",
      "10 +1 +1 +1 +1  130.0       1\n",
      "['SPIN', 16 rows, 16 samples, 4 variables]\n"
     ]
    }
   ],
   "source": [
    "sampleset = ExactSolver().sample(bqm_k4)\n",
    "print(sampleset)"
   ]
  },
  {
   "cell_type": "code",
   "execution_count": 33,
   "metadata": {},
   "outputs": [
    {
     "name": "stdout",
     "output_type": "stream",
     "text": [
      "[[ -76.   48.   52.   56.]\n",
      " [   0. -114.   92.   96.]\n",
      " [   0.    0. -134.  136.]\n",
      " [   0.    0.    0. -136.]]\n"
     ]
    }
   ],
   "source": [
    "mat = bqm_k4.to_numpy_matrix(bqm_k4.linear)\n",
    "print(mat)"
   ]
  },
  {
   "cell_type": "code",
   "execution_count": 34,
   "metadata": {},
   "outputs": [
    {
     "name": "stdout",
     "output_type": "stream",
     "text": [
      "BinaryQuadraticModel({0: -76.0, 1: -114.0, 2: -134.0, 3: -136.0}, {(0, 1): 48.0, (0, 2): 52.0, (0, 3): 56.0, (1, 2): 92.0, (1, 3): 96.0, (2, 3): 136.0}, 0.0, Vartype.BINARY)\n"
     ]
    }
   ],
   "source": [
    "mat_qubo = BinaryQuadraticModel.from_numpy_matrix(mat)\n",
    "print(mat_qubo)"
   ]
  },
  {
   "cell_type": "code",
   "execution_count": 36,
   "metadata": {},
   "outputs": [
    {
     "name": "stdout",
     "output_type": "stream",
     "text": [
      "({0: 1.0, 1: 2.0, 2: 3.0, 3: 4.0}, {(0, 1): 12.0, (0, 2): 13.0, (0, 3): 14.0, (1, 2): 23.0, (1, 3): 24.0, (2, 3): 34.0}, -110.0)\n"
     ]
    }
   ],
   "source": [
    "mat_ising = mat_qubo.to_ising()\n",
    "print(mat_ising)"
   ]
  },
  {
   "cell_type": "code",
   "execution_count": 40,
   "metadata": {},
   "outputs": [
    {
     "name": "stdout",
     "output_type": "stream",
     "text": [
      "BinaryQuadraticModel({0: -76.0, 1: -114.0, 2: -134.0, 3: -136.0}, {(0, 1): 48.0, (0, 2): 52.0, (0, 3): 56.0, (1, 2): 92.0, (1, 3): 96.0, (2, 3): 136.0}, 0, Vartype.SPIN)\n"
     ]
    }
   ],
   "source": [
    "li = {0: -76.0, 1: -114.0, 2: -134.0, 3: -136.0}\n",
    "qu = {(0, 1): 48.0, (0, 2): 52.0, (0, 3): 56.0, (1, 2): 92.0, (1, 3): 96.0, (2, 3): 136.0}\n",
    "bqm = BinaryQuadraticModel(li, qu, 0, 'SPIN')\n",
    "print(bqm)"
   ]
  },
  {
   "cell_type": "code",
   "execution_count": 46,
   "metadata": {},
   "outputs": [
    {
     "ename": "TypeError",
     "evalue": "'int' object is not subscriptable",
     "output_type": "error",
     "traceback": [
      "\u001b[0;31m---------------------------------------------------------------------------\u001b[0m",
      "\u001b[0;31mTypeError\u001b[0m                                 Traceback (most recent call last)",
      "\u001b[0;32m<ipython-input-46-5669cf2769bc>\u001b[0m in \u001b[0;36m<module>\u001b[0;34m\u001b[0m\n\u001b[0;32m----> 1\u001b[0;31m \u001b[0ma\u001b[0m \u001b[0;34m=\u001b[0m \u001b[0mBinaryQuadraticModel\u001b[0m\u001b[0;34m.\u001b[0m\u001b[0mfrom_numpy_matrix\u001b[0m\u001b[0;34m(\u001b[0m\u001b[0mmat\u001b[0m\u001b[0;34m,\u001b[0m \u001b[0;36m10\u001b[0m\u001b[0;34m)\u001b[0m\u001b[0;34m\u001b[0m\u001b[0;34m\u001b[0m\u001b[0m\n\u001b[0m\u001b[1;32m      2\u001b[0m \u001b[0mprint\u001b[0m\u001b[0;34m(\u001b[0m\u001b[0ma\u001b[0m\u001b[0;34m)\u001b[0m\u001b[0;34m\u001b[0m\u001b[0;34m\u001b[0m\u001b[0m\n\u001b[1;32m      3\u001b[0m \u001b[0ma\u001b[0m\u001b[0;34m.\u001b[0m\u001b[0mchange_vartype\u001b[0m\u001b[0;34m(\u001b[0m\u001b[0;34m'BINARY'\u001b[0m\u001b[0;34m)\u001b[0m\u001b[0;34m\u001b[0m\u001b[0;34m\u001b[0m\u001b[0m\n",
      "\u001b[0;32m/usr/local/lib/python3.7/site-packages/dimod/binary_quadratic_model.py\u001b[0m in \u001b[0;36mfrom_numpy_matrix\u001b[0;34m(cls, mat, variable_order, offset, interactions)\u001b[0m\n\u001b[1;32m   2244\u001b[0m         \u001b[0;32mfor\u001b[0m \u001b[0;34m(\u001b[0m\u001b[0mrow\u001b[0m\u001b[0;34m,\u001b[0m \u001b[0mcol\u001b[0m\u001b[0;34m)\u001b[0m\u001b[0;34m,\u001b[0m \u001b[0mbias\u001b[0m \u001b[0;32min\u001b[0m \u001b[0mnp\u001b[0m\u001b[0;34m.\u001b[0m\u001b[0mndenumerate\u001b[0m\u001b[0;34m(\u001b[0m\u001b[0mmat\u001b[0m\u001b[0;34m)\u001b[0m\u001b[0;34m:\u001b[0m\u001b[0;34m\u001b[0m\u001b[0;34m\u001b[0m\u001b[0m\n\u001b[1;32m   2245\u001b[0m             \u001b[0;32mif\u001b[0m \u001b[0mrow\u001b[0m \u001b[0;34m==\u001b[0m \u001b[0mcol\u001b[0m\u001b[0;34m:\u001b[0m\u001b[0;34m\u001b[0m\u001b[0;34m\u001b[0m\u001b[0m\n\u001b[0;32m-> 2246\u001b[0;31m                 \u001b[0mbqm\u001b[0m\u001b[0;34m.\u001b[0m\u001b[0madd_variable\u001b[0m\u001b[0;34m(\u001b[0m\u001b[0mvariable_order\u001b[0m\u001b[0;34m[\u001b[0m\u001b[0mrow\u001b[0m\u001b[0;34m]\u001b[0m\u001b[0;34m,\u001b[0m \u001b[0mbias\u001b[0m\u001b[0;34m)\u001b[0m\u001b[0;34m\u001b[0m\u001b[0;34m\u001b[0m\u001b[0m\n\u001b[0m\u001b[1;32m   2247\u001b[0m             \u001b[0;32melif\u001b[0m \u001b[0mbias\u001b[0m\u001b[0;34m:\u001b[0m\u001b[0;34m\u001b[0m\u001b[0;34m\u001b[0m\u001b[0m\n\u001b[1;32m   2248\u001b[0m                 \u001b[0mbqm\u001b[0m\u001b[0;34m.\u001b[0m\u001b[0madd_interaction\u001b[0m\u001b[0;34m(\u001b[0m\u001b[0mvariable_order\u001b[0m\u001b[0;34m[\u001b[0m\u001b[0mrow\u001b[0m\u001b[0;34m]\u001b[0m\u001b[0;34m,\u001b[0m \u001b[0mvariable_order\u001b[0m\u001b[0;34m[\u001b[0m\u001b[0mcol\u001b[0m\u001b[0;34m]\u001b[0m\u001b[0;34m,\u001b[0m \u001b[0mbias\u001b[0m\u001b[0;34m)\u001b[0m\u001b[0;34m\u001b[0m\u001b[0;34m\u001b[0m\u001b[0m\n",
      "\u001b[0;31mTypeError\u001b[0m: 'int' object is not subscriptable"
     ]
    }
   ],
   "source": [
    "a = BinaryQuadraticModel.from_numpy_matrix(mat, 10)\n",
    "print(a)\n",
    "a.change_vartype('BINARY')"
   ]
  },
  {
   "cell_type": "code",
   "execution_count": null,
   "metadata": {},
   "outputs": [],
   "source": [
    "p"
   ]
  }
 ],
 "metadata": {
  "kernelspec": {
   "display_name": "Python 3",
   "language": "python",
   "name": "python3"
  },
  "language_info": {
   "codemirror_mode": {
    "name": "ipython",
    "version": 3
   },
   "file_extension": ".py",
   "mimetype": "text/x-python",
   "name": "python",
   "nbconvert_exporter": "python",
   "pygments_lexer": "ipython3",
   "version": "3.7.3"
  }
 },
 "nbformat": 4,
 "nbformat_minor": 2
}
