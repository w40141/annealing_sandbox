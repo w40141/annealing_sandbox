{
 "cells": [
  {
   "cell_type": "code",
   "execution_count": 1,
   "metadata": {},
   "outputs": [],
   "source": [
    "a = {1:1, 2:3, 3:4}"
   ]
  },
  {
   "cell_type": "code",
   "execution_count": 3,
   "metadata": {},
   "outputs": [],
   "source": [
    "if 4 in a:\n",
    "    print(a)"
   ]
  },
  {
   "cell_type": "code",
   "execution_count": 5,
   "metadata": {},
   "outputs": [
    {
     "name": "stdout",
     "output_type": "stream",
     "text": [
      "BinaryQuadraticModel({0: -1, 1: -1}, {(0, 1): 2}, 0.0, Vartype.BINARY)\n",
      "BinaryQuadraticModel({0: 0.0, 1: 0.0}, {(0, 1): 0.5}, -0.5, Vartype.SPIN)\n"
     ]
    }
   ],
   "source": [
    "import dimod\n",
    "\n",
    "bqm = dimod.BinaryQuadraticModel({0: -1, 1: -1}, {(0, 1): 2}, 0.0, dimod.BINARY)  # QUBO\n",
    "print(bqm)\n",
    "bqm_ising = bqm.change_vartype(dimod.SPIN, inplace=False)  # Ising\n",
    "print(bqm_ising)"
   ]
  },
  {
   "cell_type": "code",
   "execution_count": 8,
   "metadata": {},
   "outputs": [
    {
     "name": "stdout",
     "output_type": "stream",
     "text": [
      "<bound method SampleSet.data of SampleSet(rec.array([([0, 0],  0., 1), ([1, 0], -1., 1), ([1, 1],  0., 1),\n",
      "           ([0, 1], -1., 1)],\n",
      "          dtype=[('sample', 'i1', (2,)), ('energy', '<f8'), ('num_occurrences', '<i8')]), [0, 1], {}, 'BINARY')>\n",
      "{0: 1, 1: 0} -1.0\n",
      "{0: 0, 1: 1} -1.0\n",
      "{0: 0, 1: 0} 0.0\n",
      "{0: 1, 1: 1} 0.0\n"
     ]
    }
   ],
   "source": [
    "response = dimod.ExactSolver().sample(bqm)\n",
    "print(response.data)\n",
    "for sample, energy in response.data(['sample', 'energy']):\n",
    "    print(sample, energy)"
   ]
  },
  {
   "cell_type": "code",
   "execution_count": 9,
   "metadata": {},
   "outputs": [],
   "source": [
    "import IsingLib\n",
    "import numpy"
   ]
  },
  {
   "cell_type": "code",
   "execution_count": 16,
   "metadata": {},
   "outputs": [],
   "source": [
    "d = {'k1': 1, 'k2': 2, 'k3': 3}"
   ]
  },
  {
   "cell_type": "code",
   "execution_count": 18,
   "metadata": {},
   "outputs": [
    {
     "name": "stdout",
     "output_type": "stream",
     "text": [
      "{'k2': 2, 'k3': 3, 'k11': 1, 'k10': None}\n"
     ]
    }
   ],
   "source": [
    "if 'k11' in d:\n",
    "    d.pop\n",
    "\n",
    "print(d)"
   ]
  },
  {
   "cell_type": "code",
   "execution_count": null,
   "metadata": {},
   "outputs": [],
   "source": []
  }
 ],
 "metadata": {
  "kernelspec": {
   "display_name": "Python 3",
   "language": "python",
   "name": "python3"
  },
  "language_info": {
   "codemirror_mode": {
    "name": "ipython",
    "version": 3
   },
   "file_extension": ".py",
   "mimetype": "text/x-python",
   "name": "python",
   "nbconvert_exporter": "python",
   "pygments_lexer": "ipython3",
   "version": "3.7.3"
  }
 },
 "nbformat": 4,
 "nbformat_minor": 2
}
