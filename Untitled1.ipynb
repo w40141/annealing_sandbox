{
 "cells": [
  {
   "cell_type": "code",
   "execution_count": 52,
   "metadata": {},
   "outputs": [],
   "source": [
    "import pandas as pd"
   ]
  },
  {
   "cell_type": "code",
   "execution_count": 53,
   "metadata": {},
   "outputs": [],
   "source": [
    "df = pd.read_json('i2q_numpar_20_normarlize.json')"
   ]
  },
  {
   "cell_type": "code",
   "execution_count": 56,
   "metadata": {},
   "outputs": [
    {
     "name": "stdout",
     "output_type": "stream",
     "text": [
      "    optimal  optimal_num  others  sub_optimal\n",
      "27      128          128       0            0\n",
      "26        0            2       0            2\n",
      "25        0            2       0            2\n",
      "24        0            2       0            2\n",
      "23        0           20      16            4\n",
      "22        0            8       8            0\n",
      "21        0           12      12            0\n",
      "20        0            4       2            2\n",
      "19        0            2       2            0\n",
      "18        0            6       6            0\n",
      "17        0            4       4            0\n",
      "16        0            2       2            0\n",
      "15        0           10      10            0\n",
      "14        0            6       6            0\n",
      "13        0            2       2            0\n",
      "12        0            2       2            0\n",
      "11        0            4       4            0\n",
      "10        0           10      10            0\n",
      "9         0            2       2            0\n",
      "8         0           90      90            0\n",
      "7         0          990     990            0\n",
      "6         0         1430    1430            0\n",
      "5         0         4004    4004            0\n",
      "4        24        22880   22828           28\n",
      "3        40        97240   97150           50\n",
      "2        40       184756  184666           50\n"
     ]
    }
   ],
   "source": [
    "df_t = df.T\n",
    "print(df_t)"
   ]
  },
  {
   "cell_type": "code",
   "execution_count": 57,
   "metadata": {},
   "outputs": [],
   "source": [
    "df_t.to_csv('tst')"
   ]
  },
  {
   "cell_type": "code",
   "execution_count": null,
   "metadata": {},
   "outputs": [],
   "source": []
  }
 ],
 "metadata": {
  "kernelspec": {
   "display_name": "Python 3",
   "language": "python",
   "name": "python3"
  },
  "language_info": {
   "codemirror_mode": {
    "name": "ipython",
    "version": 3
   },
   "file_extension": ".py",
   "mimetype": "text/x-python",
   "name": "python",
   "nbconvert_exporter": "python",
   "pygments_lexer": "ipython3",
   "version": "3.7.3"
  }
 },
 "nbformat": 4,
 "nbformat_minor": 2
}
