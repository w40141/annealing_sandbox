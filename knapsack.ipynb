{
 "cells": [
  {
   "cell_type": "code",
   "execution_count": 11,
   "metadata": {},
   "outputs": [],
   "source": [
    "from pyqubo import Array, Sum\n",
    "import numpy as np\n",
    "import random\n",
    "import dimod"
   ]
  },
  {
   "cell_type": "code",
   "execution_count": 12,
   "metadata": {},
   "outputs": [],
   "source": [
    "N = 5\n",
    "high_val = 10\n",
    "high_cos = 20\n",
    "W = 30\n",
    "volume = 10\n",
    "wight = np.random.randint(1, high_val, N)\n",
    "cost = np.random.randint(1, high_cos, N)"
   ]
  },
  {
   "cell_type": "code",
   "execution_count": 13,
   "metadata": {},
   "outputs": [],
   "source": [
    "x = Array.create('x', N, 'BINARY')\n",
    "y = Array.create('y', W, 'BINARY')"
   ]
  },
  {
   "cell_type": "code",
   "execution_count": 16,
   "metadata": {},
   "outputs": [],
   "source": [
    "alpha = 1\n",
    "beta = 2\n",
    "Hv = alpha * Sum(0, N, lambda i: cost[i] * x[i])\n",
    "Hc_1 = (1- sum(y)) ** 2\n",
    "Hc_2 = (Sum(0, W, lambda k: (k+1) * y[k]) - Sum(0, N, lambda i: cost[i] * x[i])) ** 2\n",
    "Hc = beta * (Hc_1 + Hc_2)\n",
    "H = Hv + Hc"
   ]
  },
  {
   "cell_type": "code",
   "execution_count": 17,
   "metadata": {},
   "outputs": [],
   "source": [
    "model = H.compile()"
   ]
  },
  {
   "cell_type": "code",
   "execution_count": 21,
   "metadata": {},
   "outputs": [],
   "source": [
    "dimod_model = model.to_dimod_bqm()\n",
    "qubo, offset = model.to_qubo()"
   ]
  },
  {
   "cell_type": "code",
   "execution_count": null,
   "metadata": {},
   "outputs": [],
   "source": []
  }
 ],
 "metadata": {
  "kernelspec": {
   "display_name": "Python 3",
   "language": "python",
   "name": "python3"
  },
  "language_info": {
   "codemirror_mode": {
    "name": "ipython",
    "version": 3
   },
   "file_extension": ".py",
   "mimetype": "text/x-python",
   "name": "python",
   "nbconvert_exporter": "python",
   "pygments_lexer": "ipython3",
   "version": "3.7.3"
  }
 },
 "nbformat": 4,
 "nbformat_minor": 2
}
