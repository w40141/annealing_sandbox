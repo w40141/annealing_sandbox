{
 "cells": [
  {
   "cell_type": "code",
   "execution_count": 1,
   "metadata": {},
   "outputs": [],
   "source": [
    "from IsingLib import Model, Bulletforce, Reduce\n",
    "from pyqubo import Array\n",
    "import numpy as np\n",
    "import random\n",
    "import collections\n",
    "import json\n",
    "import pandas as pd"
   ]
  },
  {
   "cell_type": "code",
   "execution_count": 2,
   "metadata": {},
   "outputs": [
    {
     "name": "stdout",
     "output_type": "stream",
     "text": [
      "[ 5 12  5  1 11  8 11  9  3  6  9  9 12  4  4]\n",
      "(((Spin(s[0])*Num(5))+(Spin(s[1])*Num(12))+(Spin(s[2])*Num(5))+(Spin(s[3])*Num(1))+(Spin(s[4])*Num(11))+(Spin(s[5])*Num(8))+(Spin(s[6])*Num(11))+(Spin(s[7])*Num(9))+(Spin(s[8])*Num(3))+(Spin(s[9])*Num(6))+(Spin(s[10])*Num(9))+(Spin(s[11])*Num(9))+(Spin(s[12])*Num(12))+(Spin(s[13])*Num(4))+(Spin(s[14])*Num(4)))*((Spin(s[0])*Num(5))+(Spin(s[1])*Num(12))+(Spin(s[2])*Num(5))+(Spin(s[3])*Num(1))+(Spin(s[4])*Num(11))+(Spin(s[5])*Num(8))+(Spin(s[6])*Num(11))+(Spin(s[7])*Num(9))+(Spin(s[8])*Num(3))+(Spin(s[9])*Num(6))+(Spin(s[10])*Num(9))+(Spin(s[11])*Num(9))+(Spin(s[12])*Num(12))+(Spin(s[13])*Num(4))+(Spin(s[14])*Num(4))))\n"
     ]
    }
   ],
   "source": [
    "num = 15\n",
    "vartype = 'SPIN'\n",
    "numbers = np.random.randint(1, 13, num)\n",
    "print(numbers)\n",
    "s = Array.create('s', shape=num, vartype=vartype)\n",
    "H = sum(n * s for s, n in zip(s, numbers))**2\n",
    "print(H)"
   ]
  },
  {
   "cell_type": "code",
   "execution_count": 3,
   "metadata": {},
   "outputs": [],
   "source": [
    "hmodel = H.compile()"
   ]
  },
  {
   "cell_type": "code",
   "execution_count": 4,
   "metadata": {},
   "outputs": [
    {
     "data": {
      "text/plain": [
       "{'s[0]': 0,\n",
       " 's[10]': 1,\n",
       " 's[11]': 2,\n",
       " 's[12]': 3,\n",
       " 's[13]': 4,\n",
       " 's[14]': 5,\n",
       " 's[1]': 6,\n",
       " 's[2]': 7,\n",
       " 's[3]': 8,\n",
       " 's[4]': 9,\n",
       " 's[5]': 10,\n",
       " 's[6]': 11,\n",
       " 's[7]': 12,\n",
       " 's[8]': 13,\n",
       " 's[9]': 14}"
      ]
     },
     "execution_count": 4,
     "metadata": {},
     "output_type": "execute_result"
    }
   ],
   "source": [
    "hmodel.label2index"
   ]
  },
  {
   "cell_type": "code",
   "execution_count": 5,
   "metadata": {},
   "outputs": [
    {
     "name": "stdout",
     "output_type": "stream",
     "text": [
      "[[  0.  90.  90. 120.  40.  40. 120.  50.  10. 110.  80. 110.  90.  30.\n",
      "   60.]\n",
      " [  0.   0. 162. 216.  72.  72. 216.  90.  18. 198. 144. 198. 162.  54.\n",
      "  108.]\n",
      " [  0.   0.   0. 216.  72.  72. 216.  90.  18. 198. 144. 198. 162.  54.\n",
      "  108.]\n",
      " [  0.   0.   0.   0.  96.  96. 288. 120.  24. 264. 192. 264. 216.  72.\n",
      "  144.]\n",
      " [  0.   0.   0.   0.   0.  32.  96.  40.   8.  88.  64.  88.  72.  24.\n",
      "   48.]\n",
      " [  0.   0.   0.   0.   0.   0.  96.  40.   8.  88.  64.  88.  72.  24.\n",
      "   48.]\n",
      " [  0.   0.   0.   0.   0.   0.   0. 120.  24. 264. 192. 264. 216.  72.\n",
      "  144.]\n",
      " [  0.   0.   0.   0.   0.   0.   0.   0.  10. 110.  80. 110.  90.  30.\n",
      "   60.]\n",
      " [  0.   0.   0.   0.   0.   0.   0.   0.   0.  22.  16.  22.  18.   6.\n",
      "   12.]\n",
      " [  0.   0.   0.   0.   0.   0.   0.   0.   0.   0. 176. 242. 198.  66.\n",
      "  132.]\n",
      " [  0.   0.   0.   0.   0.   0.   0.   0.   0.   0.   0. 176. 144.  48.\n",
      "   96.]\n",
      " [  0.   0.   0.   0.   0.   0.   0.   0.   0.   0.   0.   0. 198.  66.\n",
      "  132.]\n",
      " [  0.   0.   0.   0.   0.   0.   0.   0.   0.   0.   0.   0.   0.  54.\n",
      "  108.]\n",
      " [  0.   0.   0.   0.   0.   0.   0.   0.   0.   0.   0.   0.   0.   0.\n",
      "   36.]\n",
      " [  0.   0.   0.   0.   0.   0.   0.   0.   0.   0.   0.   0.   0.   0.\n",
      "    0.]]\n",
      "{'s[0]': 0, 's[10]': 1, 's[11]': 2, 's[12]': 3, 's[13]': 4, 's[14]': 5, 's[1]': 6, 's[2]': 7, 's[3]': 8, 's[4]': 9, 's[5]': 10, 's[6]': 11, 's[7]': 12, 's[8]': 13, 's[9]': 14}\n"
     ]
    }
   ],
   "source": [
    "model = Model.create(vartype, H)\n",
    "print(model.matrix)\n",
    "print(model.label2index)"
   ]
  },
  {
   "cell_type": "code",
   "execution_count": 6,
   "metadata": {},
   "outputs": [
    {
     "name": "stdout",
     "output_type": "stream",
     "text": [
      "{'Energy': 1.0, 'States': [{'s[0]': -1, 's[10]': 1, 's[11]': 1, 's[12]': -1, 's[13]': -1, 's[14]': -1, 's[1]': 1, 's[2]': 1, 's[3]': -1, 's[4]': 1, 's[5]': -1, 's[6]': -1, 's[7]': 1, 's[8]': -1, 's[9]': -1}]}\n"
     ]
    }
   ],
   "source": [
    "ans = model.solve()\n",
    "print(ans)"
   ]
  },
  {
   "cell_type": "code",
   "execution_count": 7,
   "metadata": {},
   "outputs": [
    {
     "name": "stdout",
     "output_type": "stream",
     "text": [
      "[ 5 12  5  1 11  8 11  9  3  6  9  9 12  4  4]\n",
      "{'s[0]': -1, 's[10]': 1, 's[11]': 1, 's[12]': -1, 's[13]': -1, 's[14]': -1, 's[1]': 1, 's[2]': 1, 's[3]': -1, 's[4]': 1, 's[5]': -1, 's[6]': -1, 's[7]': 1, 's[8]': -1, 's[9]': -1}\n",
      "s[0] -1\n",
      "s[1] 1\n",
      "s[2] 1\n",
      "s[3] -1\n",
      "s[4] 1\n",
      "s[5] -1\n",
      "s[6] -1\n",
      "s[7] 1\n",
      "s[8] -1\n",
      "s[9] -1\n",
      "s[10] 1\n",
      "s[11] 1\n",
      "s[12] -1\n",
      "s[13] -1\n",
      "s[14] -1\n",
      "[12, 5, 11, 9, 9, 9] [5, 1, 8, 11, 3, 6, 12, 4, 4]\n",
      "55\n",
      "54\n"
     ]
    }
   ],
   "source": [
    "print(numbers)\n",
    "\n",
    "for value_dict in ans['States']:\n",
    "    g_1 = []\n",
    "    g_2 = []\n",
    "    print(value_dict)\n",
    "    for i, num in enumerate(numbers):\n",
    "        symb = 's[' + str(i) + ']'\n",
    "        value = value_dict[symb]\n",
    "        print(symb, value)\n",
    "        if value == 1:\n",
    "            g_1.append(num)\n",
    "        else:\n",
    "            g_2.append(num)\n",
    "    print(g_1, g_2)\n",
    "    print(sum(g_1))\n",
    "    print(sum(g_2))"
   ]
  },
  {
   "cell_type": "code",
   "execution_count": null,
   "metadata": {},
   "outputs": [],
   "source": []
  },
  {
   "cell_type": "code",
   "execution_count": null,
   "metadata": {},
   "outputs": [],
   "source": []
  }
 ],
 "metadata": {
  "kernelspec": {
   "display_name": "Python 3",
   "language": "python",
   "name": "python3"
  },
  "language_info": {
   "codemirror_mode": {
    "name": "ipython",
    "version": 3
   },
   "file_extension": ".py",
   "mimetype": "text/x-python",
   "name": "python",
   "nbconvert_exporter": "python",
   "pygments_lexer": "ipython3",
   "version": "3.7.3"
  }
 },
 "nbformat": 4,
 "nbformat_minor": 4
}
