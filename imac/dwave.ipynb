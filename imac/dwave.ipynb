{
 "cells": [
  {
   "cell_type": "code",
   "execution_count": 42,
   "metadata": {},
   "outputs": [
    {
     "name": "stdout",
     "output_type": "stream",
     "text": [
      "BinaryQuadraticModel({1: -1, 2: -2, 3: -3, 4: -4}, {(1, 2): 12, (1, 3): 13, (1, 4): 14, (2, 3): 23, (2, 4): 24, (3, 4): 20}, 0.0, Vartype.BINARY)\n"
     ]
    }
   ],
   "source": [
    "from dimod import *\n",
    "\n",
    "linear = {1: -1, 2: -2, 3: -3, 4: -4}\n",
    "quadratic = {(1, 2): 12, (1, 3): 13, (1, 4): 14, (2, 3): 23, (2, 4): 24, (3, 4): 20}\n",
    "offset = 0.0\n",
    "vartype = dimod.BINARY\n",
    "bqm_k4 = dimod.BinaryQuadraticModel(linear, quadratic, offset, vartype)\n",
    "print(bqm_k4)"
   ]
  },
  {
   "cell_type": "code",
   "execution_count": 43,
   "metadata": {},
   "outputs": [
    {
     "name": "stdout",
     "output_type": "stream",
     "text": [
      "    1  2  3  4 energy num_oc.\n",
      "15  0  0  0  1   -4.0       1\n",
      "7   0  0  1  0   -3.0       1\n",
      "3   0  1  0  0   -2.0       1\n",
      "1   1  0  0  0   -1.0       1\n",
      "0   0  0  0  0    0.0       1\n",
      "2   1  1  0  0    9.0       1\n",
      "6   1  0  1  0    9.0       1\n",
      "14  1  0  0  1    9.0       1\n",
      "8   0  0  1  1   13.0       1\n",
      "4   0  1  1  0   18.0       1\n",
      "12  0  1  0  1   18.0       1\n",
      "9   1  0  1  1   39.0       1\n",
      "5   1  1  1  0   42.0       1\n",
      "13  1  1  0  1   43.0       1\n",
      "11  0  1  1  1   58.0       1\n",
      "10  1  1  1  1   96.0       1\n",
      "['BINARY', 16 rows, 16 samples, 4 variables]\n"
     ]
    }
   ],
   "source": [
    "sampleset = ExactSolver().sample(bqm_k4)\n",
    "print(sampleset)"
   ]
  },
  {
   "cell_type": "code",
   "execution_count": 48,
   "metadata": {},
   "outputs": [
    {
     "name": "stdout",
     "output_type": "stream",
     "text": [
      "[[-1. 12. 13. 14.]\n",
      " [ 0. -2. 23. 24.]\n",
      " [ 0.  0. -3. 20.]\n",
      " [ 0.  0.  0. -4.]]\n"
     ]
    }
   ],
   "source": [
    "mat = bqm_k4.to_numpy_matrix(bqm_k4.linear)\n",
    "print(mat)"
   ]
  },
  {
   "cell_type": "code",
   "execution_count": 49,
   "metadata": {},
   "outputs": [
    {
     "name": "stdout",
     "output_type": "stream",
     "text": [
      "   1  2  3  4 energy num_oc.\n",
      "0  0  0  0  1   -4.0       1\n",
      "['BINARY', 1 rows, 1 samples, 4 variables]\n"
     ]
    }
   ],
   "source": [
    "import neal\n",
    "\n",
    "r = neal.SimulatedAnnealingSampler().sample(bqm_k4)\n",
    "print(r)"
   ]
  },
  {
   "cell_type": "code",
   "execution_count": 50,
   "metadata": {},
   "outputs": [],
   "source": [
    "from dwave.system.samplers import DWaveSampler\n",
    "from dwave.system.composites import EmbeddingComposite\n",
    "\n",
    "sampler = EmbeddingComposite(DWaveSampler())\n",
    "response = sampler.sample(bqm_k4, num_reads=100)"
   ]
  },
  {
   "cell_type": "code",
   "execution_count": 53,
   "metadata": {},
   "outputs": [
    {
     "data": {
      "text/plain": [
       "{'timing': {'qpu_sampling_time': 31496,\n",
       "  'qpu_anneal_time_per_sample': 20,\n",
       "  'qpu_readout_time_per_sample': 274,\n",
       "  'qpu_access_time': 41190,\n",
       "  'qpu_access_overhead_time': 2513,\n",
       "  'qpu_programming_time': 9694,\n",
       "  'qpu_delay_time_per_sample': 21,\n",
       "  'total_post_processing_time': 7500,\n",
       "  'post_processing_overhead_time': 7500,\n",
       "  'total_real_time': 41190,\n",
       "  'run_time_chip': 31496,\n",
       "  'anneal_time_per_run': 20,\n",
       "  'readout_time_per_run': 274}}"
      ]
     },
     "execution_count": 53,
     "metadata": {},
     "output_type": "execute_result"
    }
   ],
   "source": [
    "response.info"
   ]
  },
  {
   "cell_type": "code",
   "execution_count": null,
   "metadata": {},
   "outputs": [],
   "source": []
  }
 ],
 "metadata": {
  "kernelspec": {
   "display_name": "Python 3",
   "language": "python",
   "name": "python3"
  },
  "language_info": {
   "codemirror_mode": {
    "name": "ipython",
    "version": 3
   },
   "file_extension": ".py",
   "mimetype": "text/x-python",
   "name": "python",
   "nbconvert_exporter": "python",
   "pygments_lexer": "ipython3",
   "version": "3.7.4"
  }
 },
 "nbformat": 4,
 "nbformat_minor": 4
}
