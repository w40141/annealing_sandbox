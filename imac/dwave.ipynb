{
 "cells": [
  {
   "cell_type": "code",
   "execution_count": 2,
   "metadata": {},
   "outputs": [
    {
     "name": "stdout",
     "output_type": "stream",
     "text": [
      "BinaryQuadraticModel({1: 1, 2: 2, 3: 3, 4: 4}, {(1, 2): 12, (1, 3): 13, (1, 4): 14, (2, 3): 23, (2, 4): 24, (3, 4): 34}, 0.0, Vartype.SPIN)\n"
     ]
    }
   ],
   "source": [
    "from dimod import *\n",
    "\n",
    "linear = {1: 1, 2: 2, 3: 3, 4: 4}\n",
    "quadratic = {(1, 2): 12, (1, 3): 13, (1, 4): 14, (2, 3): 23, (2, 4): 24, (3, 4): 34}\n",
    "offset = 0.0\n",
    "vartype = dimod.SPIN\n",
    "bqm_k4 = dimod.BinaryQuadraticModel(linear, quadratic, offset, vartype)\n",
    "print(bqm_k4)"
   ]
  },
  {
   "cell_type": "code",
   "execution_count": 3,
   "metadata": {},
   "outputs": [
    {
     "name": "stdout",
     "output_type": "stream",
     "text": [
      "    1  2  3  4 energy num_oc.\n",
      "6  +1 -1 +1 -1  -48.0       1\n",
      "4  -1 +1 +1 -1  -46.0       1\n",
      "14 +1 -1 -1 +1  -46.0       1\n",
      "12 -1 +1 -1 +1  -44.0       1\n",
      "2  +1 +1 -1 -1  -32.0       1\n",
      "15 -1 -1 -1 +1  -26.0       1\n",
      "7  -1 -1 +1 -1  -24.0       1\n",
      "8  -1 -1 +1 +1  -24.0       1\n",
      "5  +1 +1 +1 -1  -22.0       1\n",
      "13 +1 +1 -1 +1  -16.0       1\n",
      "3  -1 +1 -1 -1   -4.0       1\n",
      "9  +1 -1 +1 +1    8.0       1\n",
      "1  +1 -1 -1 -1   34.0       1\n",
      "11 -1 +1 +1 +1   50.0       1\n",
      "0  -1 -1 -1 -1  110.0       1\n",
      "10 +1 +1 +1 +1  130.0       1\n",
      "['SPIN', 16 rows, 16 samples, 4 variables]\n"
     ]
    }
   ],
   "source": [
    "sampleset = ExactSolver().sample(bqm_k4)\n",
    "print(sampleset)"
   ]
  },
  {
   "cell_type": "code",
   "execution_count": 4,
   "metadata": {},
   "outputs": [
    {
     "name": "stdout",
     "output_type": "stream",
     "text": [
      "[[ -76.   48.   52.   56.]\n",
      " [   0. -114.   92.   96.]\n",
      " [   0.    0. -134.  136.]\n",
      " [   0.    0.    0. -136.]]\n"
     ]
    }
   ],
   "source": [
    "mat = bqm_k4.to_numpy_matrix(bqm_k4.linear)\n",
    "print(mat)"
   ]
  },
  {
   "cell_type": "code",
   "execution_count": 6,
   "metadata": {},
   "outputs": [
    {
     "name": "stdout",
     "output_type": "stream",
     "text": [
      "   1  2  3  4 energy num_oc.\n",
      "2 +1 -1 +1 -1  -48.0       1\n",
      "7 +1 -1 +1 -1  -48.0       1\n",
      "8 +1 -1 +1 -1  -48.0       1\n",
      "1 +1 -1 -1 +1  -46.0       1\n",
      "3 +1 -1 -1 +1  -46.0       1\n",
      "4 +1 -1 -1 +1  -46.0       1\n",
      "5 -1 +1 +1 -1  -46.0       1\n",
      "6 -1 +1 +1 -1  -46.0       1\n",
      "9 +1 -1 -1 +1  -46.0       1\n",
      "0 -1 +1 -1 +1  -44.0       1\n",
      "['SPIN', 10 rows, 10 samples, 4 variables]\n"
     ]
    }
   ],
   "source": [
    "import neal\n",
    "\n",
    "r = neal.SimulatedAnnealingSampler().sample(bqm_k4)\n",
    "print(r)"
   ]
  },
  {
   "cell_type": "code",
   "execution_count": 10,
   "metadata": {},
   "outputs": [
    {
     "ename": "TypeError",
     "evalue": "'EmbeddingComposite' object is not iterable",
     "output_type": "error",
     "traceback": [
      "\u001b[0;31m---------------------------------------------------------------------------\u001b[0m",
      "\u001b[0;31mTypeError\u001b[0m                                 Traceback (most recent call last)",
      "\u001b[0;32m<ipython-input-10-9264bf301fff>\u001b[0m in \u001b[0;36m<module>\u001b[0;34m\u001b[0m\n\u001b[1;32m      3\u001b[0m \u001b[0;34m\u001b[0m\u001b[0m\n\u001b[1;32m      4\u001b[0m \u001b[0msampler\u001b[0m \u001b[0;34m=\u001b[0m \u001b[0mEmbeddingComposite\u001b[0m\u001b[0;34m(\u001b[0m\u001b[0mDWaveSampler\u001b[0m\u001b[0;34m(\u001b[0m\u001b[0;34m)\u001b[0m\u001b[0;34m)\u001b[0m\u001b[0;34m\u001b[0m\u001b[0;34m\u001b[0m\u001b[0m\n\u001b[0;32m----> 5\u001b[0;31m \u001b[0mprint\u001b[0m\u001b[0;34m(\u001b[0m\u001b[0mlist\u001b[0m\u001b[0;34m(\u001b[0m\u001b[0msampler\u001b[0m\u001b[0;34m)\u001b[0m\u001b[0;34m)\u001b[0m\u001b[0;34m\u001b[0m\u001b[0;34m\u001b[0m\u001b[0m\n\u001b[0m\u001b[1;32m      6\u001b[0m \u001b[0mresponse\u001b[0m \u001b[0;34m=\u001b[0m \u001b[0msampler\u001b[0m\u001b[0;34m.\u001b[0m\u001b[0msample\u001b[0m\u001b[0;34m(\u001b[0m\u001b[0mbqm_k4\u001b[0m\u001b[0;34m)\u001b[0m\u001b[0;34m\u001b[0m\u001b[0;34m\u001b[0m\u001b[0m\n\u001b[1;32m      7\u001b[0m \u001b[0mprint\u001b[0m\u001b[0;34m(\u001b[0m\u001b[0mresponse\u001b[0m\u001b[0;34m)\u001b[0m\u001b[0;34m\u001b[0m\u001b[0;34m\u001b[0m\u001b[0m\n",
      "\u001b[0;31mTypeError\u001b[0m: 'EmbeddingComposite' object is not iterable"
     ]
    }
   ],
   "source": [
    "from dwave.system.samplers import DWaveSampler\n",
    "from dwave.system.composites import EmbeddingComposite\n",
    "\n",
    "sampler = EmbeddingComposite(DWaveSampler())\n",
    "response = sampler.sample(bqm_k4)\n",
    "print(response)"
   ]
  },
  {
   "cell_type": "code",
   "execution_count": null,
   "metadata": {},
   "outputs": [],
   "source": []
  }
 ],
 "metadata": {
  "kernelspec": {
   "display_name": "Python 3",
   "language": "python",
   "name": "python3"
  },
  "language_info": {
   "codemirror_mode": {
    "name": "ipython",
    "version": 3
   },
   "file_extension": ".py",
   "mimetype": "text/x-python",
   "name": "python",
   "nbconvert_exporter": "python",
   "pygments_lexer": "ipython3",
   "version": "3.7.3"
  }
 },
 "nbformat": 4,
 "nbformat_minor": 2
}
