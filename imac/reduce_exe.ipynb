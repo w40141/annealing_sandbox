{
 "cells": [
  {
   "cell_type": "code",
   "execution_count": 1,
   "metadata": {},
   "outputs": [],
   "source": [
    "from IsingLib import Model, BF\n",
    "import numpy as np\n",
    "from pprint import pprint"
   ]
  },
  {
   "cell_type": "code",
   "execution_count": 2,
   "metadata": {},
   "outputs": [],
   "source": [
    "mat = [\n",
    "    [2, 2, 2, 3, 3],\n",
    "    [0, 2, 2, 2, 3],\n",
    "    [0, 0, 2, 2, 2],\n",
    "    [0, 0, 0, 2, 1],\n",
    "    [0, 0, 0, 0, 2]\n",
    "]\n",
    "model_0 = Model('i', mat, 0, 'x')"
   ]
  },
  {
   "cell_type": "code",
   "execution_count": 3,
   "metadata": {},
   "outputs": [],
   "source": [
    "bf_model_0 = model_0.to_samper()\n",
    "bf_0 = BF(**bf_model_0)"
   ]
  },
  {
   "cell_type": "code",
   "execution_count": 4,
   "metadata": {},
   "outputs": [],
   "source": [
    "response_bf_0 = bf_0.sample()"
   ]
  },
  {
   "cell_type": "code",
   "execution_count": 5,
   "metadata": {},
   "outputs": [
    {
     "data": {
      "text/plain": [
       "[{'x[0]': 1, 'x[1]': 1, 'x[2]': -1, 'x[3]': -1, 'x[4]': -1},\n",
       " {'x[0]': -1, 'x[1]': -1, 'x[2]': -1, 'x[3]': 1, 'x[4]': 1}]"
      ]
     },
     "execution_count": 5,
     "metadata": {},
     "output_type": "execute_result"
    }
   ],
   "source": [
    "response_bf_0.states"
   ]
  },
  {
   "cell_type": "code",
   "execution_count": 6,
   "metadata": {},
   "outputs": [],
   "source": [
    "# 6, 7 -> 3\n",
    "# 4, 5 -> 2\n",
    "# 1, 2, 3 -> 1\n",
    "mat_1 = [\n",
    "    [4, 4, 5, 6, 7],\n",
    "    [0, 5, 4, 5, 6],\n",
    "    [0, 0, 4, 5, 5],\n",
    "    [0, 0, 0, 4, 3],\n",
    "    [0, 0, 0, 0, 5]\n",
    "]\n",
    "model_1 = Model('i', mat_1, 0, 'x')\n",
    "bf_model_1 = model_1.to_samper()\n",
    "bf_1 = BF(**bf_model_1)\n",
    "response_bf_1 = bf_1.sample()"
   ]
  },
  {
   "cell_type": "code",
   "execution_count": 11,
   "metadata": {},
   "outputs": [
    {
     "data": {
      "text/plain": [
       "[{'x[0]': -1, 'x[1]': -1, 'x[2]': -1, 'x[3]': 1, 'x[4]': 1}]"
      ]
     },
     "execution_count": 11,
     "metadata": {},
     "output_type": "execute_result"
    }
   ],
   "source": [
    "response_bf_1.decode_solution('x')"
   ]
  },
  {
   "cell_type": "code",
   "execution_count": 7,
   "metadata": {},
   "outputs": [
    {
     "name": "stdout",
     "output_type": "stream",
     "text": [
      "{(-1, -1, -1, 1, 1)}\n"
     ]
    }
   ],
   "source": [
    "li_bf_1 = set()\n",
    "for state in response_bf_1.states:\n",
    "    li_bf_1.add(tuple(state.values())[:5])\n",
    "print(li_bf_1)"
   ]
  },
  {
   "cell_type": "code",
   "execution_count": 12,
   "metadata": {},
   "outputs": [],
   "source": [
    "add_node = {\n",
    "    ('x[0]', 'a[0]'): 1, ('a[0]', 'x[2]'): -1,\n",
    "    ('x[0]', 'a[1]'): 1, ('a[1]', 'x[4]'): -1,\n",
    "    ('x[1]', 'a[2]'): 1, ('a[2]', 'x[3]'): -1,\n",
    "    ('x[2]', 'a[3]'): 1, ('a[3]', 'x[3]'): -1,\n",
    "    ('x[2]', 'a[4]'): 1, ('a[4]', 'x[4]'): -1,\n",
    "    ('x[3]', 'a[5]'): 1, ('a[5]', 'x[4]'): -1,\n",
    "    ('x[4]', 'b[0]'): -1, 'b[0]': 1,\n",
    "    ('x[1]', 'b[1]'): -1, 'b[1]': 1,\n",
    "}\n",
    "\n",
    "new_model = model_0 + add_node"
   ]
  },
  {
   "cell_type": "code",
   "execution_count": 10,
   "metadata": {},
   "outputs": [
    {
     "name": "stdout",
     "output_type": "stream",
     "text": [
      "{(-1, -1, -1, 1, 1)}\n"
     ]
    }
   ],
   "source": [
    "bf_new_model_0 = new_model.to_samper()\n",
    "bf_2 = BF(**bf_new_model_0)\n",
    "response_bf_2 = bf_2.sample()\n",
    "li = set()\n",
    "for state in response_bf_2.states:\n",
    "#     print(state)\n",
    "    li.add(tuple(state.values())[-5:])\n",
    "print(li)"
   ]
  },
  {
   "cell_type": "code",
   "execution_count": 13,
   "metadata": {},
   "outputs": [
    {
     "data": {
      "text/plain": [
       "[{'x[0]': -1, 'x[1]': -1, 'x[2]': -1, 'x[3]': 1, 'x[4]': 1},\n",
       " {'x[0]': -1, 'x[1]': -1, 'x[2]': -1, 'x[3]': 1, 'x[4]': 1},\n",
       " {'x[0]': -1, 'x[1]': -1, 'x[2]': -1, 'x[3]': 1, 'x[4]': 1},\n",
       " {'x[0]': -1, 'x[1]': -1, 'x[2]': -1, 'x[3]': 1, 'x[4]': 1},\n",
       " {'x[0]': -1, 'x[1]': -1, 'x[2]': -1, 'x[3]': 1, 'x[4]': 1},\n",
       " {'x[0]': -1, 'x[1]': -1, 'x[2]': -1, 'x[3]': 1, 'x[4]': 1},\n",
       " {'x[0]': -1, 'x[1]': -1, 'x[2]': -1, 'x[3]': 1, 'x[4]': 1},\n",
       " {'x[0]': -1, 'x[1]': -1, 'x[2]': -1, 'x[3]': 1, 'x[4]': 1}]"
      ]
     },
     "execution_count": 13,
     "metadata": {},
     "output_type": "execute_result"
    }
   ],
   "source": [
    "response_bf_2.decode_solution('x')"
   ]
  },
  {
   "cell_type": "code",
   "execution_count": null,
   "metadata": {},
   "outputs": [],
   "source": []
  }
 ],
 "metadata": {
  "kernelspec": {
   "display_name": "Python 3",
   "language": "python",
   "name": "python3"
  },
  "language_info": {
   "codemirror_mode": {
    "name": "ipython",
    "version": 3
   },
   "file_extension": ".py",
   "mimetype": "text/x-python",
   "name": "python",
   "nbconvert_exporter": "python",
   "pygments_lexer": "ipython3",
   "version": "3.7.4"
  }
 },
 "nbformat": 4,
 "nbformat_minor": 4
}
