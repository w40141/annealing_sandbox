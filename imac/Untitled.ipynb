{
 "cells": [
  {
   "cell_type": "code",
   "execution_count": 1,
   "metadata": {},
   "outputs": [],
   "source": [
    "from IsingLib import Model, Matrix, DaSampler\n",
    "import numpy as np"
   ]
  },
  {
   "cell_type": "code",
   "execution_count": 2,
   "metadata": {},
   "outputs": [],
   "source": [
    "mat = np.random.randint(-10, 11, (5,5))\n",
    "model_i = Model('i', mat, 0, label=[1,2,3,4,5])\n",
    "mat = np.random.randint(-10, 11, (5,5))\n",
    "model_q = Model('q', mat, 10, label=[1,2,3,4,5])"
   ]
  },
  {
   "cell_type": "code",
   "execution_count": 3,
   "metadata": {},
   "outputs": [],
   "source": [
    "model = model_q + model_i\n",
    "res_model = model.solve()"
   ]
  },
  {
   "cell_type": "code",
   "execution_count": 4,
   "metadata": {},
   "outputs": [
    {
     "name": "stdout",
     "output_type": "stream",
     "text": [
      "[{'1': 0, '2': 1, '3': 1, '4': 0, '5': 0}]\n"
     ]
    }
   ],
   "source": [
    "print(res_model.states)"
   ]
  },
  {
   "cell_type": "code",
   "execution_count": 6,
   "metadata": {},
   "outputs": [],
   "source": [
    "mat = np.random.randint(-10, 11, (20,20))\n",
    "mat_q = Matrix('q', mat, 0)\n",
    "mat_samp = mat_q.to_samper()"
   ]
  },
  {
   "cell_type": "code",
   "execution_count": 7,
   "metadata": {},
   "outputs": [],
   "source": [
    "res = mat_q.solve()"
   ]
  },
  {
   "cell_type": "code",
   "execution_count": 8,
   "metadata": {},
   "outputs": [
    {
     "data": {
      "text/plain": [
       "[{'0': 1,\n",
       "  '1': 1,\n",
       "  '2': 1,\n",
       "  '3': 1,\n",
       "  '4': 1,\n",
       "  '5': 0,\n",
       "  '6': 1,\n",
       "  '7': 1,\n",
       "  '8': 1,\n",
       "  '9': 1,\n",
       "  '10': 1,\n",
       "  '11': 0,\n",
       "  '12': 1,\n",
       "  '13': 0,\n",
       "  '14': 1,\n",
       "  '15': 0,\n",
       "  '16': 0,\n",
       "  '17': 0,\n",
       "  '18': 0,\n",
       "  '19': 1}]"
      ]
     },
     "execution_count": 8,
     "metadata": {},
     "output_type": "execute_result"
    }
   ],
   "source": [
    "res.states"
   ]
  },
  {
   "cell_type": "code",
   "execution_count": 23,
   "metadata": {},
   "outputs": [],
   "source": [
    "da = DaSampler(**mat_samp, api_key='../../../da_key_2.json', version=2)"
   ]
  },
  {
   "cell_type": "code",
   "execution_count": 24,
   "metadata": {},
   "outputs": [],
   "source": [
    "res_da = da.sample()"
   ]
  },
  {
   "cell_type": "code",
   "execution_count": 25,
   "metadata": {},
   "outputs": [],
   "source": [
    "res_da = da.get_job(res_da)"
   ]
  },
  {
   "cell_type": "code",
   "execution_count": 26,
   "metadata": {},
   "outputs": [
    {
     "data": {
      "text/plain": [
       "[{'0': 1,\n",
       "  '1': 1,\n",
       "  '10': 0,\n",
       "  '11': 1,\n",
       "  '12': 1,\n",
       "  '13': 1,\n",
       "  '14': 0,\n",
       "  '15': 1,\n",
       "  '16': 1,\n",
       "  '17': 0,\n",
       "  '18': 1,\n",
       "  '19': 0,\n",
       "  '2': 0,\n",
       "  '3': 1,\n",
       "  '4': 1,\n",
       "  '5': 0,\n",
       "  '6': 1,\n",
       "  '7': 0,\n",
       "  '8': 0,\n",
       "  '9': 1}]"
      ]
     },
     "execution_count": 26,
     "metadata": {},
     "output_type": "execute_result"
    }
   ],
   "source": [
    "res_da.states"
   ]
  },
  {
   "cell_type": "code",
   "execution_count": null,
   "metadata": {},
   "outputs": [],
   "source": []
  }
 ],
 "metadata": {
  "kernelspec": {
   "display_name": "Python 3",
   "language": "python",
   "name": "python3"
  },
  "language_info": {
   "codemirror_mode": {
    "name": "ipython",
    "version": 3
   },
   "file_extension": ".py",
   "mimetype": "text/x-python",
   "name": "python",
   "nbconvert_exporter": "python",
   "pygments_lexer": "ipython3",
   "version": "3.7.4"
  }
 },
 "nbformat": 4,
 "nbformat_minor": 4
}
