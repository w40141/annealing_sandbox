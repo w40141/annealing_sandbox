{
 "cells": [
  {
   "cell_type": "markdown",
   "metadata": {},
   "source": [
    "## 誘導部分グラフ同型問題を扱うjupyter"
   ]
  },
  {
   "cell_type": "markdown",
   "metadata": {},
   "source": [
    "ライブラリのインポート"
   ]
  },
  {
   "cell_type": "code",
   "execution_count": 1,
   "metadata": {},
   "outputs": [],
   "source": [
    "import numpy as np\n",
    "import datetime\n",
    "import IsingLib"
   ]
  },
  {
   "cell_type": "markdown",
   "metadata": {},
   "source": [
    "パラメータの設定"
   ]
  },
  {
   "cell_type": "code",
   "execution_count": 28,
   "metadata": {},
   "outputs": [],
   "source": [
    "param = {}\n",
    "\n",
    "#graph A\n",
    "param['num_a'] = 50\n",
    "param['density_a'] = 0.5\n",
    "\n",
    "#graph B\n",
    "param['num_b'] = 10\n",
    "#param['density_b'] = 0.5"
   ]
  },
  {
   "cell_type": "markdown",
   "metadata": {},
   "source": [
    "グラフの生成"
   ]
  },
  {
   "cell_type": "code",
   "execution_count": 29,
   "metadata": {},
   "outputs": [],
   "source": [
    "def generate_graph(n, density):\n",
    "    a_matrix = np.zeros((n, n), dtype=int)\n",
    "    for i in range(n):\n",
    "        for j in range(i+1, n):\n",
    "            if np.random.rand() < density:\n",
    "                a_matrix[i][j] = 1\n",
    "                a_matrix[j][i] = 1\n",
    "    return a_matrix\n",
    "\n",
    "def extract_graph(matrix_src, n):\n",
    "    a_matrix = np.zeros((n, n), dtype=int)\n",
    "    index = np.random.choice(range(matrix_src.shape[0]), n, replace=False)\n",
    "    for i in range(n):\n",
    "        for j in range(i+1, n):\n",
    "            a_matrix[i][j] = matrix_src[index[i]][index[j]]\n",
    "            a_matrix[j][i] = matrix_src[index[i]][index[j]]\n",
    "    return a_matrix"
   ]
  },
  {
   "cell_type": "code",
   "execution_count": 30,
   "metadata": {},
   "outputs": [],
   "source": [
    "param['matrix_a'] = generate_graph(param['num_a'], param['density_a'])\n",
    "param['matrix_b'] = extract_graph(param['matrix_a'], param['num_b'])"
   ]
  },
  {
   "cell_type": "markdown",
   "metadata": {},
   "source": [
    "グラフの表示"
   ]
  },
  {
   "cell_type": "code",
   "execution_count": 31,
   "metadata": {},
   "outputs": [
    {
     "name": "stdout",
     "output_type": "stream",
     "text": [
      "グラフA\n",
      "[[0 1 0 ... 1 0 1]\n",
      " [1 0 1 ... 0 0 1]\n",
      " [0 1 0 ... 1 0 1]\n",
      " ...\n",
      " [1 0 1 ... 0 0 1]\n",
      " [0 0 0 ... 0 0 1]\n",
      " [1 1 1 ... 1 1 0]]\n",
      "\n",
      "グラフB\n",
      "[[0 0 0 1 0 0 1 1 0 0]\n",
      " [0 0 1 0 1 1 0 0 0 0]\n",
      " [0 1 0 1 0 1 0 1 0 1]\n",
      " [1 0 1 0 1 1 1 1 0 0]\n",
      " [0 1 0 1 0 1 1 1 1 1]\n",
      " [0 1 1 1 1 0 1 1 1 1]\n",
      " [1 0 0 1 1 1 0 1 0 1]\n",
      " [1 0 1 1 1 1 1 0 0 0]\n",
      " [0 0 0 0 1 1 0 0 0 0]\n",
      " [0 0 1 0 1 1 1 0 0 0]]\n"
     ]
    }
   ],
   "source": [
    "print('グラフA')\n",
    "print(param['matrix_a'])\n",
    "print('\\nグラフB')\n",
    "print(param['matrix_b'])"
   ]
  },
  {
   "cell_type": "markdown",
   "metadata": {},
   "source": [
    "## QUBO係数行列の生成"
   ]
  },
  {
   "cell_type": "markdown",
   "metadata": {},
   "source": [
    "パラメータの生成"
   ]
  },
  {
   "cell_type": "code",
   "execution_count": 32,
   "metadata": {},
   "outputs": [],
   "source": [
    "param['alpha'] = 1\n",
    "param['beta'] = 1\n",
    "param['gamma'] = 3\n",
    "param['delta'] = 3\n",
    "\n",
    "param['num_qubo'] = param['num_a'] * param['num_b']\n",
    "param['num_column'] = param['num_a']\n",
    "param['num_row'] = param['num_b']\n",
    "# 置換行列は横長"
   ]
  },
  {
   "cell_type": "code",
   "execution_count": 33,
   "metadata": {},
   "outputs": [],
   "source": [
    "qubo = {}\n",
    "qubo['const'] = np.zeros(1, dtype=int)\n",
    "qubo['bias'] = np.zeros(param['num_qubo'], dtype=int)\n",
    "qubo['weight'] = np.zeros((param['num_qubo'], param['num_qubo']), dtype=int)\n",
    "\n",
    "def get_index(tuple_p, param):\n",
    "    i, j = tuple_p\n",
    "    return param['num_a']*i+j\n",
    "\n",
    "def get_tuple(index_p, param):\n",
    "    i, j = index_p//param['num_a'], index_p%param['num_a']\n",
    "    return i, j"
   ]
  },
  {
   "cell_type": "markdown",
   "metadata": {},
   "source": [
    "- 誘導部分グラフ頂点割当重複禁止制約"
   ]
  },
  {
   "cell_type": "code",
   "execution_count": 34,
   "metadata": {},
   "outputs": [],
   "source": [
    "qubo['const'] += param['alpha']*param['num_row']\n",
    "qubo['bias'] += -param['alpha']\n",
    "for i in range(param['num_row']):\n",
    "    for u in range(param['num_column']-1):\n",
    "        for v in range(u+1, param['num_column']):\n",
    "            qubo['weight'][get_index((i,u), param)][get_index((i,v), param)] += 2*param['alpha']"
   ]
  },
  {
   "cell_type": "markdown",
   "metadata": {},
   "source": [
    "- グラフ頂点割当制約"
   ]
  },
  {
   "cell_type": "code",
   "execution_count": 35,
   "metadata": {},
   "outputs": [],
   "source": [
    "qubo['const'] += param['beta']*param['num_column']//4 # assume param['num_column'] % 4 == 0\n",
    "for u in range(param['num_column']):\n",
    "    for i in range(param['num_row']-1):\n",
    "        for j in range(i+1, param['num_row']):\n",
    "            qubo['weight'][get_index((i, u), param)][get_index((j, u), param)] += 2*param['beta']"
   ]
  },
  {
   "cell_type": "markdown",
   "metadata": {},
   "source": [
    "- 接続増加禁止制約"
   ]
  },
  {
   "cell_type": "code",
   "execution_count": 36,
   "metadata": {},
   "outputs": [],
   "source": [
    "for i in range(param['num_b']-1):\n",
    "    for j in range(i+1, param['num_b']):\n",
    "        # 接続しているなら制約なし\n",
    "        if param['matrix_b'][i][j] == 1:\n",
    "            continue\n",
    "        for u in range(param['num_a']-1):\n",
    "            for v in range(u+1, param['num_a']):\n",
    "                # 接続していないなら制約なし\n",
    "                if param['matrix_a'][u][v] == 0:\n",
    "                    continue\n",
    "                # 無向グラフなので割り当てが2パターンある\n",
    "                qubo['weight'][get_index((i, u), param)][get_index((j, v), param)] += param['gamma']\n",
    "                qubo['weight'][get_index((i, v), param)][get_index((j, u), param)] += param['gamma']"
   ]
  },
  {
   "cell_type": "markdown",
   "metadata": {},
   "source": [
    "- 接続減少禁止制約"
   ]
  },
  {
   "cell_type": "code",
   "execution_count": 37,
   "metadata": {},
   "outputs": [],
   "source": [
    "for i in range(param['num_b']-1):\n",
    "    for j in range(i+1, param['num_b']):\n",
    "        # 接続していないなら制約なし\n",
    "        if param['matrix_b'][i][j] == 0:\n",
    "            continue\n",
    "        for u in range(param['num_a']-1):\n",
    "            for v in range(u+1, param['num_a']):\n",
    "                # 接続しているなら制約なし\n",
    "                if param['matrix_a'][u][v] == 1:\n",
    "                    continue\n",
    "                # 無向グラフなので割り当てが2パターンある\n",
    "                qubo['weight'][get_index((i, u), param)][get_index((j, v), param)] += param['delta']\n",
    "                qubo['weight'][get_index((i, v), param)][get_index((j, u), param)] += param['delta']"
   ]
  },
  {
   "cell_type": "markdown",
   "metadata": {},
   "source": [
    "QUBO行列を表示"
   ]
  },
  {
   "cell_type": "code",
   "execution_count": 38,
   "metadata": {},
   "outputs": [
    {
     "name": "stdout",
     "output_type": "stream",
     "text": [
      "{'const': array([22]), 'bias': array([-1, -1, -1, -1, -1, -1, -1, -1, -1, -1, -1, -1, -1, -1, -1, -1, -1,\n",
      "       -1, -1, -1, -1, -1, -1, -1, -1, -1, -1, -1, -1, -1, -1, -1, -1, -1,\n",
      "       -1, -1, -1, -1, -1, -1, -1, -1, -1, -1, -1, -1, -1, -1, -1, -1, -1,\n",
      "       -1, -1, -1, -1, -1, -1, -1, -1, -1, -1, -1, -1, -1, -1, -1, -1, -1,\n",
      "       -1, -1, -1, -1, -1, -1, -1, -1, -1, -1, -1, -1, -1, -1, -1, -1, -1,\n",
      "       -1, -1, -1, -1, -1, -1, -1, -1, -1, -1, -1, -1, -1, -1, -1, -1, -1,\n",
      "       -1, -1, -1, -1, -1, -1, -1, -1, -1, -1, -1, -1, -1, -1, -1, -1, -1,\n",
      "       -1, -1, -1, -1, -1, -1, -1, -1, -1, -1, -1, -1, -1, -1, -1, -1, -1,\n",
      "       -1, -1, -1, -1, -1, -1, -1, -1, -1, -1, -1, -1, -1, -1, -1, -1, -1,\n",
      "       -1, -1, -1, -1, -1, -1, -1, -1, -1, -1, -1, -1, -1, -1, -1, -1, -1,\n",
      "       -1, -1, -1, -1, -1, -1, -1, -1, -1, -1, -1, -1, -1, -1, -1, -1, -1,\n",
      "       -1, -1, -1, -1, -1, -1, -1, -1, -1, -1, -1, -1, -1, -1, -1, -1, -1,\n",
      "       -1, -1, -1, -1, -1, -1, -1, -1, -1, -1, -1, -1, -1, -1, -1, -1, -1,\n",
      "       -1, -1, -1, -1, -1, -1, -1, -1, -1, -1, -1, -1, -1, -1, -1, -1, -1,\n",
      "       -1, -1, -1, -1, -1, -1, -1, -1, -1, -1, -1, -1, -1, -1, -1, -1, -1,\n",
      "       -1, -1, -1, -1, -1, -1, -1, -1, -1, -1, -1, -1, -1, -1, -1, -1, -1,\n",
      "       -1, -1, -1, -1, -1, -1, -1, -1, -1, -1, -1, -1, -1, -1, -1, -1, -1,\n",
      "       -1, -1, -1, -1, -1, -1, -1, -1, -1, -1, -1, -1, -1, -1, -1, -1, -1,\n",
      "       -1, -1, -1, -1, -1, -1, -1, -1, -1, -1, -1, -1, -1, -1, -1, -1, -1,\n",
      "       -1, -1, -1, -1, -1, -1, -1, -1, -1, -1, -1, -1, -1, -1, -1, -1, -1,\n",
      "       -1, -1, -1, -1, -1, -1, -1, -1, -1, -1, -1, -1, -1, -1, -1, -1, -1,\n",
      "       -1, -1, -1, -1, -1, -1, -1, -1, -1, -1, -1, -1, -1, -1, -1, -1, -1,\n",
      "       -1, -1, -1, -1, -1, -1, -1, -1, -1, -1, -1, -1, -1, -1, -1, -1, -1,\n",
      "       -1, -1, -1, -1, -1, -1, -1, -1, -1, -1, -1, -1, -1, -1, -1, -1, -1,\n",
      "       -1, -1, -1, -1, -1, -1, -1, -1, -1, -1, -1, -1, -1, -1, -1, -1, -1,\n",
      "       -1, -1, -1, -1, -1, -1, -1, -1, -1, -1, -1, -1, -1, -1, -1, -1, -1,\n",
      "       -1, -1, -1, -1, -1, -1, -1, -1, -1, -1, -1, -1, -1, -1, -1, -1, -1,\n",
      "       -1, -1, -1, -1, -1, -1, -1, -1, -1, -1, -1, -1, -1, -1, -1, -1, -1,\n",
      "       -1, -1, -1, -1, -1, -1, -1, -1, -1, -1, -1, -1, -1, -1, -1, -1, -1,\n",
      "       -1, -1, -1, -1, -1, -1, -1]), 'weight': array([[0, 2, 2, ..., 3, 0, 3],\n",
      "       [0, 0, 2, ..., 0, 0, 3],\n",
      "       [0, 0, 0, ..., 3, 0, 3],\n",
      "       ...,\n",
      "       [0, 0, 0, ..., 0, 2, 2],\n",
      "       [0, 0, 0, ..., 0, 0, 2],\n",
      "       [0, 0, 0, ..., 0, 0, 0]])}\n",
      "[[-1  2  2 ...  3  0  3]\n",
      " [ 0 -1  2 ...  0  0  3]\n",
      " [ 0  0 -1 ...  3  0  3]\n",
      " ...\n",
      " [ 0  0  0 ... -1  2  2]\n",
      " [ 0  0  0 ...  0 -1  2]\n",
      " [ 0  0  0 ...  0  0 -1]]\n"
     ]
    }
   ],
   "source": [
    "#np.set_printoptions(threshold=1000)\n",
    "#print('QUBO行列')\n",
    "print(qubo)\n",
    "mat = qubo['weight'] + np.diag(qubo['bias'])\n",
    "print(mat)"
   ]
  },
  {
   "cell_type": "markdown",
   "metadata": {},
   "source": [
    "npzファイルに保存"
   ]
  },
  {
   "cell_type": "code",
   "execution_count": 39,
   "metadata": {},
   "outputs": [],
   "source": [
    "model = IsingLib.Model('qubo')"
   ]
  },
  {
   "cell_type": "code",
   "execution_count": 40,
   "metadata": {},
   "outputs": [
    {
     "name": "stdout",
     "output_type": "stream",
     "text": [
      "-8.0\n"
     ]
    }
   ],
   "source": [
    "model.formulate(H=mat)\n",
    "model.compile()\n",
    "sta = model.solve()\n",
    "const = list(sta.values())[0]\n",
    "print(const)"
   ]
  },
  {
   "cell_type": "code",
   "execution_count": 41,
   "metadata": {},
   "outputs": [
    {
     "name": "stdout",
     "output_type": "stream",
     "text": [
      "\n",
      "基底解が得られていない\n"
     ]
    }
   ],
   "source": [
    "if const+qubo['const'][0] == param['beta']*param['num_a']//4:\n",
    "    print('\\n基底解が得られた!')\n",
    "else:\n",
    "    print('\\n基底解が得られていない')"
   ]
  }
 ],
 "metadata": {
  "kernelspec": {
   "display_name": "Python 3",
   "language": "python",
   "name": "python3"
  },
  "language_info": {
   "codemirror_mode": {
    "name": "ipython",
    "version": 3
   },
   "file_extension": ".py",
   "mimetype": "text/x-python",
   "name": "python",
   "nbconvert_exporter": "python",
   "pygments_lexer": "ipython3",
   "version": "3.7.3"
  }
 },
 "nbformat": 4,
 "nbformat_minor": 2
}
