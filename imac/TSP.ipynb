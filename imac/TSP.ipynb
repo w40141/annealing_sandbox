{
 "cells": [
  {
   "cell_type": "code",
   "execution_count": 28,
   "metadata": {},
   "outputs": [],
   "source": [
    "from IsingLib import Model, Hamil, DaSampler, TmpDaSampler\n",
    "from pyqubo import Array, Sum, Constraint\n",
    "import numpy as np\n",
    "\n",
    "from dwave.system.samplers import DWaveSampler\n",
    "from dwave.system.composites import EmbeddingComposite\n",
    "\n",
    "np.set_printoptions(threshold=30)\n",
    "np.set_printoptions(edgeitems=20)\n",
    "np.set_printoptions(linewidth=200)"
   ]
  },
  {
   "cell_type": "code",
   "execution_count": 29,
   "metadata": {},
   "outputs": [],
   "source": [
    "city = 5\n",
    "vartype = 'BINARY'\n",
    "x = Array.create('x', (city, city), vartype)\n",
    "dis_li = [[0, 10, 8, 8, 4], [10, 0, 6, 11, 7], [8, 6, 0, 14, 8], [9, 11, 14, 0, 6], [4, 7, 8, 6, 0]]\n",
    "distance = np.zeros((city**2, city**2))\n",
    "for i in range(city):\n",
    "    point = (i+1) % city\n",
    "    distance[i*city: (i+1)*city, point*city: (point+1)*city] = dis_li\n",
    "distance = distance + distance.T\n",
    "time_const = Constraint(Sum(0, city, lambda i: (Sum(0, city, lambda j: x[i, j]) - 1) ** 2), label='time')\n",
    "city_const = Constraint(Sum(0, city, lambda j: (Sum(0, city, lambda i: x[i, j]) - 1) ** 2), label='city')"
   ]
  },
  {
   "cell_type": "code",
   "execution_count": 30,
   "metadata": {},
   "outputs": [],
   "source": [
    "const_model = Model.create(vartype, time_const+city_const)\n",
    "aim_model = Model(vartype, distance, symbol='x', shape=(city, city))"
   ]
  },
  {
   "cell_type": "code",
   "execution_count": 31,
   "metadata": {},
   "outputs": [],
   "source": [
    "h = Hamil(aim=aim_model, const=const_model)"
   ]
  },
  {
   "cell_type": "code",
   "execution_count": 32,
   "metadata": {},
   "outputs": [],
   "source": [
    "# print(h)"
   ]
  },
  {
   "cell_type": "code",
   "execution_count": 33,
   "metadata": {},
   "outputs": [],
   "source": [
    "model = h.compile(const=10)"
   ]
  },
  {
   "cell_type": "code",
   "execution_count": 34,
   "metadata": {},
   "outputs": [],
   "source": [
    "ans = model.solve('sa',\n",
    "                  temperature_start=1000000.0,\n",
    "                  temperature_decay=0.9998\n",
    ")"
   ]
  },
  {
   "cell_type": "code",
   "execution_count": 35,
   "metadata": {},
   "outputs": [
    {
     "name": "stdout",
     "output_type": "stream",
     "text": [
      "[{'x[0][0]': 0, 'x[0][1]': 0, 'x[0][2]': 1, 'x[0][3]': 0, 'x[0][4]': 0, 'x[1][0]': 1, 'x[1][1]': 0, 'x[1][2]': 0, 'x[1][3]': 0, 'x[1][4]': 0, 'x[2][0]': 0, 'x[2][1]': 0, 'x[2][2]': 0, 'x[2][3]': 0, 'x[2][4]': 1, 'x[3][0]': 0, 'x[3][1]': 0, 'x[3][2]': 0, 'x[3][3]': 1, 'x[3][4]': 0, 'x[4][0]': 0, 'x[4][1]': 1, 'x[4][2]': 0, 'x[4][3]': 0, 'x[4][4]': 0}]\n",
      "[35.0]\n"
     ]
    }
   ],
   "source": [
    "print(ans.states)\n",
    "print(ans.energies)"
   ]
  },
  {
   "cell_type": "code",
   "execution_count": 36,
   "metadata": {},
   "outputs": [
    {
     "name": "stdout",
     "output_type": "stream",
     "text": [
      "0.0\n"
     ]
    }
   ],
   "source": [
    "for state in ans.states:\n",
    "    print(h.check_constraints(state, 'const'))"
   ]
  },
  {
   "cell_type": "code",
   "execution_count": 49,
   "metadata": {},
   "outputs": [],
   "source": [
    "sampler = TmpDaSampler(api_key='../../../da_key_2.json', version=2)\n",
    "da_model = model.to_da()\n",
    "response_da = sampler.sample(**da_model)"
   ]
  },
  {
   "cell_type": "code",
   "execution_count": 50,
   "metadata": {},
   "outputs": [
    {
     "name": "stdout",
     "output_type": "stream",
     "text": [
      "{'x[0][0]': 0, 'x[0][1]': 0, 'x[2][0]': 0, 'x[2][1]': 1, 'x[2][2]': 0, 'x[2][3]': 0, 'x[2][4]': 0, 'x[3][0]': 0, 'x[3][1]': 0, 'x[3][2]': 1, 'x[3][3]': 0, 'x[3][4]': 0, 'x[0][2]': 0, 'x[4][0]': 1, 'x[4][1]': 0, 'x[4][2]': 0, 'x[4][3]': 0, 'x[4][4]': 0, 'x[0][3]': 0, 'x[0][4]': 1, 'x[1][0]': 0, 'x[1][1]': 0, 'x[1][2]': 0, 'x[1][3]': 1, 'x[1][4]': 0}\n"
     ]
    }
   ],
   "source": [
    "print(response_da.states[0])"
   ]
  },
  {
   "cell_type": "code",
   "execution_count": 51,
   "metadata": {},
   "outputs": [],
   "source": [
    "sampler = EmbeddingComposite(DWaveSampler())\n",
    "bqm = (model).to_bqm()\n",
    "response_dwave = sampler.sample(bqm)"
   ]
  },
  {
   "cell_type": "code",
   "execution_count": 52,
   "metadata": {},
   "outputs": [
    {
     "name": "stdout",
     "output_type": "stream",
     "text": [
      "{'x[0][0]': 0, 'x[0][1]': 0, 'x[0][2]': 0, 'x[0][3]': 0, 'x[0][4]': 0, 'x[1][0]': 0, 'x[1][1]': 0, 'x[1][2]': 0, 'x[1][3]': 0, 'x[1][4]': 0, 'x[2][0]': 0, 'x[2][1]': 0, 'x[2][2]': 0, 'x[2][3]': 0, 'x[2][4]': 0, 'x[3][0]': 0, 'x[3][1]': 0, 'x[3][2]': 0, 'x[3][3]': 0, 'x[3][4]': 0, 'x[4][0]': 1, 'x[4][1]': 0, 'x[4][2]': 0, 'x[4][3]': 0, 'x[4][4]': 0}\n"
     ]
    }
   ],
   "source": [
    "print(response_dwave.first.sample)"
   ]
  },
  {
   "cell_type": "code",
   "execution_count": null,
   "metadata": {},
   "outputs": [],
   "source": []
  }
 ],
 "metadata": {
  "kernelspec": {
   "display_name": "Python 3",
   "language": "python",
   "name": "python3"
  },
  "language_info": {
   "codemirror_mode": {
    "name": "ipython",
    "version": 3
   },
   "file_extension": ".py",
   "mimetype": "text/x-python",
   "name": "python",
   "nbconvert_exporter": "python",
   "pygments_lexer": "ipython3",
   "version": "3.7.4"
  }
 },
 "nbformat": 4,
 "nbformat_minor": 4
}
