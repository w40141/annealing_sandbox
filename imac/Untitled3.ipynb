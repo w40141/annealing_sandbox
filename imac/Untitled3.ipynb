{
 "cells": [
  {
   "cell_type": "code",
   "execution_count": 17,
   "metadata": {},
   "outputs": [],
   "source": [
    "from pyqubo import Array, Constraint, solve_qubo"
   ]
  },
  {
   "cell_type": "code",
   "execution_count": 18,
   "metadata": {},
   "outputs": [],
   "source": [
    "#頂点の数\n",
    "N_VER = 8\n",
    "#色の数\n",
    "N_COLOR = 4\n",
    "#グラフを定義．0~7の頂点があったときに，どの頂点同士が線で結ばれているかを定義している．\n",
    "graph = [(0,1), (0,2), (1,2), (5,6), (2,3), (2,5), (3,4), (5,7), (7, 6)]"
   ]
  },
  {
   "cell_type": "code",
   "execution_count": 20,
   "metadata": {},
   "outputs": [],
   "source": [
    "x = Array.create('x', shape=(N_VER, N_COLOR), vartype='BINARY')"
   ]
  },
  {
   "cell_type": "code",
   "execution_count": 32,
   "metadata": {},
   "outputs": [],
   "source": [
    "# 第一項\n",
    "H_A = Constraint(sum((1-sum(x[v,i] for i in range(1,N_COLOR)))**2 for v in range(N_VER)), label='HA')\n",
    "# 第二項\n",
    "H_B = sum((-1+sum(x[v,i] for v in range (N_VER)))/2*(sum(x[v,i] for v in range (N_VER))) - sum(x[u,i]*x[v,i] for (u,v) in graph) for i in range (1,N_COLOR))\n",
    "#コスト関数\n",
    "Q = H_A+H_B"
   ]
  },
  {
   "cell_type": "code",
   "execution_count": 22,
   "metadata": {},
   "outputs": [
    {
     "name": "stdout",
     "output_type": "stream",
     "text": [
      "(Const(HA, (((((Binary(x[0][1])+Binary(x[0][2])+Binary(x[0][3]))*Num(-1))+Num(1))*(((Binary(x[0][1])+Binary(x[0][2])+Binary(x[0][3]))*Num(-1))+Num(1)))+((((Binary(x[1][1])+Binary(x[1][2])+Binary(x[1][3]))*Num(-1))+Num(1))*(((Binary(x[1][1])+Binary(x[1][2])+Binary(x[1][3]))*Num(-1))+Num(1)))+((((Binary(x[2][1])+Binary(x[2][2])+Binary(x[2][3]))*Num(-1))+Num(1))*(((Binary(x[2][1])+Binary(x[2][2])+Binary(x[2][3]))*Num(-1))+Num(1)))+((((Binary(x[3][1])+Binary(x[3][2])+Binary(x[3][3]))*Num(-1))+Num(1))*(((Binary(x[3][1])+Binary(x[3][2])+Binary(x[3][3]))*Num(-1))+Num(1)))+((((Binary(x[4][1])+Binary(x[4][2])+Binary(x[4][3]))*Num(-1))+Num(1))*(((Binary(x[4][1])+Binary(x[4][2])+Binary(x[4][3]))*Num(-1))+Num(1)))+((((Binary(x[5][1])+Binary(x[5][2])+Binary(x[5][3]))*Num(-1))+Num(1))*(((Binary(x[5][1])+Binary(x[5][2])+Binary(x[5][3]))*Num(-1))+Num(1)))+((((Binary(x[6][1])+Binary(x[6][2])+Binary(x[6][3]))*Num(-1))+Num(1))*(((Binary(x[6][1])+Binary(x[6][2])+Binary(x[6][3]))*Num(-1))+Num(1)))+((((Binary(x[7][1])+Binary(x[7][2])+Binary(x[7][3]))*Num(-1))+Num(1))*(((Binary(x[7][1])+Binary(x[7][2])+Binary(x[7][3]))*Num(-1))+Num(1)))))+((((Binary(x[0][1])+Binary(x[1][1])+Binary(x[2][1])+Binary(x[3][1])+Binary(x[4][1])+Binary(x[5][1])+Binary(x[6][1])+Binary(x[7][1])+Num(-1))*Num(0.5))*(Binary(x[0][1])+Binary(x[1][1])+Binary(x[2][1])+Binary(x[3][1])+Binary(x[4][1])+Binary(x[5][1])+Binary(x[6][1])+Binary(x[7][1])))+(((Binary(x[0][1])*Binary(x[1][1]))+(Binary(x[0][1])*Binary(x[2][1]))+(Binary(x[1][1])*Binary(x[2][1]))+(Binary(x[5][1])*Binary(x[6][1]))+(Binary(x[2][1])*Binary(x[3][1]))+(Binary(x[2][1])*Binary(x[5][1]))+(Binary(x[3][1])*Binary(x[4][1]))+(Binary(x[5][1])*Binary(x[7][1]))+(Binary(x[7][1])*Binary(x[6][1])))*Num(-1))+((((Binary(x[0][2])+Binary(x[1][2])+Binary(x[2][2])+Binary(x[3][2])+Binary(x[4][2])+Binary(x[5][2])+Binary(x[6][2])+Binary(x[7][2])+Num(-1))*Num(0.5))*(Binary(x[0][2])+Binary(x[1][2])+Binary(x[2][2])+Binary(x[3][2])+Binary(x[4][2])+Binary(x[5][2])+Binary(x[6][2])+Binary(x[7][2])))+(((Binary(x[0][2])*Binary(x[1][2]))+(Binary(x[0][2])*Binary(x[2][2]))+(Binary(x[1][2])*Binary(x[2][2]))+(Binary(x[5][2])*Binary(x[6][2]))+(Binary(x[2][2])*Binary(x[3][2]))+(Binary(x[2][2])*Binary(x[5][2]))+(Binary(x[3][2])*Binary(x[4][2]))+(Binary(x[5][2])*Binary(x[7][2]))+(Binary(x[7][2])*Binary(x[6][2])))*Num(-1)))+((((Binary(x[0][3])+Binary(x[1][3])+Binary(x[2][3])+Binary(x[3][3])+Binary(x[4][3])+Binary(x[5][3])+Binary(x[6][3])+Binary(x[7][3])+Num(-1))*Num(0.5))*(Binary(x[0][3])+Binary(x[1][3])+Binary(x[2][3])+Binary(x[3][3])+Binary(x[4][3])+Binary(x[5][3])+Binary(x[6][3])+Binary(x[7][3])))+(((Binary(x[0][3])*Binary(x[1][3]))+(Binary(x[0][3])*Binary(x[2][3]))+(Binary(x[1][3])*Binary(x[2][3]))+(Binary(x[5][3])*Binary(x[6][3]))+(Binary(x[2][3])*Binary(x[3][3]))+(Binary(x[2][3])*Binary(x[5][3]))+(Binary(x[3][3])*Binary(x[4][3]))+(Binary(x[5][3])*Binary(x[7][3]))+(Binary(x[7][3])*Binary(x[6][3])))*Num(-1)))))\n"
     ]
    }
   ],
   "source": [
    "print(Q)"
   ]
  },
  {
   "cell_type": "code",
   "execution_count": 26,
   "metadata": {},
   "outputs": [
    {
     "name": "stdout",
     "output_type": "stream",
     "text": [
      "Model(CompiledQubo({('x[0][1]', 'x[0][1]'): -1.0,\n",
      " ('x[0][1]', 'x[0][2]'): 2.0,\n",
      " ('x[0][1]', 'x[0][3]'): 2.0,\n",
      " ('x[0][1]', 'x[1][1]'): 0.0,\n",
      " ('x[0][1]', 'x[2][1]'): 0.0,\n",
      " ('x[0][1]', 'x[3][1]'): 1.0,\n",
      " ('x[0][1]', 'x[4][1]'): 1.0,\n",
      " ('x[0][1]', 'x[5][1]'): 1.0,\n",
      " ('x[0][1]', 'x[6][1]'): 1.0,\n",
      " ('x[0][1]', 'x[7][1]'): 1.0,\n",
      " ('x[0][2]', 'x[0][2]'): -1.0,\n",
      " ('x[0][2]', 'x[0][3]'): 2.0,\n",
      " ('x[0][2]', 'x[1][2]'): 0.0,\n",
      " ('x[0][2]', 'x[2][2]'): 0.0,\n",
      " ('x[0][2]', 'x[3][2]'): 1.0,\n",
      " ('x[0][2]', 'x[4][2]'): 1.0,\n",
      " ('x[0][2]', 'x[5][2]'): 1.0,\n",
      " ('x[0][2]', 'x[6][2]'): 1.0,\n",
      " ('x[0][2]', 'x[7][2]'): 1.0,\n",
      " ('x[0][3]', 'x[0][3]'): -1.0,\n",
      " ('x[0][3]', 'x[1][3]'): 0.0,\n",
      " ('x[0][3]', 'x[2][3]'): 0.0,\n",
      " ('x[0][3]', 'x[3][3]'): 1.0,\n",
      " ('x[0][3]', 'x[4][3]'): 1.0,\n",
      " ('x[0][3]', 'x[5][3]'): 1.0,\n",
      " ('x[0][3]', 'x[6][3]'): 1.0,\n",
      " ('x[0][3]', 'x[7][3]'): 1.0,\n",
      " ('x[1][1]', 'x[1][1]'): -1.0,\n",
      " ('x[1][1]', 'x[1][2]'): 2.0,\n",
      " ('x[1][1]', 'x[1][3]'): 2.0,\n",
      " ('x[1][1]', 'x[2][1]'): 0.0,\n",
      " ('x[1][1]', 'x[3][1]'): 1.0,\n",
      " ('x[1][1]', 'x[4][1]'): 1.0,\n",
      " ('x[1][1]', 'x[5][1]'): 1.0,\n",
      " ('x[1][1]', 'x[6][1]'): 1.0,\n",
      " ('x[1][1]', 'x[7][1]'): 1.0,\n",
      " ('x[1][2]', 'x[1][2]'): -1.0,\n",
      " ('x[1][2]', 'x[1][3]'): 2.0,\n",
      " ('x[1][2]', 'x[2][2]'): 0.0,\n",
      " ('x[1][2]', 'x[3][2]'): 1.0,\n",
      " ('x[1][2]', 'x[4][2]'): 1.0,\n",
      " ('x[1][2]', 'x[5][2]'): 1.0,\n",
      " ('x[1][2]', 'x[6][2]'): 1.0,\n",
      " ('x[1][2]', 'x[7][2]'): 1.0,\n",
      " ('x[1][3]', 'x[1][3]'): -1.0,\n",
      " ('x[1][3]', 'x[2][3]'): 0.0,\n",
      " ('x[1][3]', 'x[3][3]'): 1.0,\n",
      " ('x[1][3]', 'x[4][3]'): 1.0,\n",
      " ('x[1][3]', 'x[5][3]'): 1.0,\n",
      " ('x[1][3]', 'x[6][3]'): 1.0,\n",
      " ('x[1][3]', 'x[7][3]'): 1.0,\n",
      " ('x[2][1]', 'x[2][1]'): -1.0,\n",
      " ('x[2][1]', 'x[2][2]'): 2.0,\n",
      " ('x[2][1]', 'x[2][3]'): 2.0,\n",
      " ('x[2][1]', 'x[3][1]'): 0.0,\n",
      " ('x[2][1]', 'x[4][1]'): 1.0,\n",
      " ('x[2][1]', 'x[5][1]'): 0.0,\n",
      " ('x[2][1]', 'x[6][1]'): 1.0,\n",
      " ('x[2][1]', 'x[7][1]'): 1.0,\n",
      " ('x[2][2]', 'x[2][2]'): -1.0,\n",
      " ('x[2][2]', 'x[2][3]'): 2.0,\n",
      " ('x[2][2]', 'x[3][2]'): 0.0,\n",
      " ('x[2][2]', 'x[4][2]'): 1.0,\n",
      " ('x[2][2]', 'x[5][2]'): 0.0,\n",
      " ('x[2][2]', 'x[6][2]'): 1.0,\n",
      " ('x[2][2]', 'x[7][2]'): 1.0,\n",
      " ('x[2][3]', 'x[2][3]'): -1.0,\n",
      " ('x[2][3]', 'x[3][3]'): 0.0,\n",
      " ('x[2][3]', 'x[4][3]'): 1.0,\n",
      " ('x[2][3]', 'x[5][3]'): 0.0,\n",
      " ('x[2][3]', 'x[6][3]'): 1.0,\n",
      " ('x[2][3]', 'x[7][3]'): 1.0,\n",
      " ('x[3][1]', 'x[3][1]'): -1.0,\n",
      " ('x[3][1]', 'x[3][2]'): 2.0,\n",
      " ('x[3][1]', 'x[3][3]'): 2.0,\n",
      " ('x[3][1]', 'x[4][1]'): 0.0,\n",
      " ('x[3][1]', 'x[5][1]'): 1.0,\n",
      " ('x[3][1]', 'x[6][1]'): 1.0,\n",
      " ('x[3][1]', 'x[7][1]'): 1.0,\n",
      " ('x[3][2]', 'x[3][2]'): -1.0,\n",
      " ('x[3][2]', 'x[3][3]'): 2.0,\n",
      " ('x[3][2]', 'x[4][2]'): 0.0,\n",
      " ('x[3][2]', 'x[5][2]'): 1.0,\n",
      " ('x[3][2]', 'x[6][2]'): 1.0,\n",
      " ('x[3][2]', 'x[7][2]'): 1.0,\n",
      " ('x[3][3]', 'x[3][3]'): -1.0,\n",
      " ('x[3][3]', 'x[4][3]'): 0.0,\n",
      " ('x[3][3]', 'x[5][3]'): 1.0,\n",
      " ('x[3][3]', 'x[6][3]'): 1.0,\n",
      " ('x[3][3]', 'x[7][3]'): 1.0,\n",
      " ('x[4][1]', 'x[4][1]'): -1.0,\n",
      " ('x[4][1]', 'x[4][2]'): 2.0,\n",
      " ('x[4][1]', 'x[4][3]'): 2.0,\n",
      " ('x[4][1]', 'x[5][1]'): 1.0,\n",
      " ('x[4][1]', 'x[6][1]'): 1.0,\n",
      " ('x[4][1]', 'x[7][1]'): 1.0,\n",
      " ('x[4][2]', 'x[4][2]'): -1.0,\n",
      " ('x[4][2]', 'x[4][3]'): 2.0,\n",
      " ('x[4][2]', 'x[5][2]'): 1.0,\n",
      " ('x[4][2]', 'x[6][2]'): 1.0,\n",
      " ('x[4][2]', 'x[7][2]'): 1.0,\n",
      " ('x[4][3]', 'x[4][3]'): -1.0,\n",
      " ('x[4][3]', 'x[5][3]'): 1.0,\n",
      " ('x[4][3]', 'x[6][3]'): 1.0,\n",
      " ('x[4][3]', 'x[7][3]'): 1.0,\n",
      " ('x[5][1]', 'x[5][1]'): -1.0,\n",
      " ('x[5][1]', 'x[5][2]'): 2.0,\n",
      " ('x[5][1]', 'x[5][3]'): 2.0,\n",
      " ('x[5][1]', 'x[6][1]'): 0.0,\n",
      " ('x[5][1]', 'x[7][1]'): 0.0,\n",
      " ('x[5][2]', 'x[5][2]'): -1.0,\n",
      " ('x[5][2]', 'x[5][3]'): 2.0,\n",
      " ('x[5][2]', 'x[6][2]'): 0.0,\n",
      " ('x[5][2]', 'x[7][2]'): 0.0,\n",
      " ('x[5][3]', 'x[5][3]'): -1.0,\n",
      " ('x[5][3]', 'x[6][3]'): 0.0,\n",
      " ('x[5][3]', 'x[7][3]'): 0.0,\n",
      " ('x[6][1]', 'x[6][1]'): -1.0,\n",
      " ('x[6][1]', 'x[6][2]'): 2.0,\n",
      " ('x[6][1]', 'x[6][3]'): 2.0,\n",
      " ('x[6][1]', 'x[7][1]'): 0.0,\n",
      " ('x[6][2]', 'x[6][2]'): -1.0,\n",
      " ('x[6][2]', 'x[6][3]'): 2.0,\n",
      " ('x[6][2]', 'x[7][2]'): 0.0,\n",
      " ('x[6][3]', 'x[6][3]'): -1.0,\n",
      " ('x[6][3]', 'x[7][3]'): 0.0,\n",
      " ('x[7][1]', 'x[7][1]'): -1.0,\n",
      " ('x[7][1]', 'x[7][2]'): 2.0,\n",
      " ('x[7][1]', 'x[7][3]'): 2.0,\n",
      " ('x[7][2]', 'x[7][2]'): -1.0,\n",
      " ('x[7][2]', 'x[7][3]'): 2.0,\n",
      " ('x[7][3]', 'x[7][3]'): -1.0}, offset=8.0), structure={'x[0][1]': ('x', 0, 1),\n",
      " 'x[0][2]': ('x', 0, 2),\n",
      " 'x[0][3]': ('x', 0, 3),\n",
      " 'x[1][1]': ('x', 1, 1),\n",
      " 'x[1][2]': ('x', 1, 2),\n",
      " 'x[1][3]': ('x', 1, 3),\n",
      " 'x[2][1]': ('x', 2, 1),\n",
      " 'x[2][2]': ('x', 2, 2),\n",
      " 'x[2][3]': ('x', 2, 3),\n",
      " 'x[3][1]': ('x', 3, 1),\n",
      " 'x[3][2]': ('x', 3, 2),\n",
      " 'x[3][3]': ('x', 3, 3),\n",
      " 'x[4][1]': ('x', 4, 1),\n",
      " 'x[4][2]': ('x', 4, 2),\n",
      " 'x[4][3]': ('x', 4, 3),\n",
      " 'x[5][1]': ('x', 5, 1),\n",
      " 'x[5][2]': ('x', 5, 2),\n",
      " 'x[5][3]': ('x', 5, 3),\n",
      " 'x[6][1]': ('x', 6, 1),\n",
      " 'x[6][2]': ('x', 6, 2),\n",
      " 'x[6][3]': ('x', 6, 3),\n",
      " 'x[7][1]': ('x', 7, 1),\n",
      " 'x[7][2]': ('x', 7, 2),\n",
      " 'x[7][3]': ('x', 7, 3)})\n"
     ]
    }
   ],
   "source": [
    "model = Q.compile()\n",
    "print(model)\n",
    "qubo, offset = model.to_qubo()"
   ]
  },
  {
   "cell_type": "code",
   "execution_count": 29,
   "metadata": {},
   "outputs": [
    {
     "name": "stdout",
     "output_type": "stream",
     "text": [
      "{'x[0][1]': 1, 'x[0][2]': 0, 'x[0][3]': 0, 'x[1][1]': 1, 'x[1][2]': 0, 'x[1][3]': 0, 'x[2][1]': 1, 'x[2][2]': 0, 'x[2][3]': 0, 'x[3][1]': 0, 'x[3][2]': 0, 'x[3][3]': 1, 'x[4][1]': 0, 'x[4][2]': 0, 'x[4][3]': 1, 'x[5][1]': 0, 'x[5][2]': 1, 'x[5][3]': 0, 'x[6][1]': 0, 'x[6][2]': 1, 'x[6][3]': 0, 'x[7][1]': 0, 'x[7][2]': 1, 'x[7][3]': 0}\n"
     ]
    }
   ],
   "source": [
    "#PyQUBOによるSA\n",
    "raw_solution = solve_qubo(qubo)\n",
    "print(raw_solution)\n",
    "# 得られた結果をデコードする\n",
    "decoded_solution, broken, energy = model.decode_solution(raw_solution, vartype=\"BINARY\")"
   ]
  },
  {
   "cell_type": "code",
   "execution_count": 38,
   "metadata": {},
   "outputs": [],
   "source": [
    "from pyqubo import Binary, Constraint\n",
    "a, b, c = Binary('a'), Binary('b'), Binary('c')\n",
    "M = 5.0 # strength of the constraint\n",
    "H_1 = 2*a + b + c\n",
    "H_2 = M * Constraint((a+b-1)**2, label='a+b=1')\n",
    "H_3 = M * Constraint((b-c)**2, label='c')\n",
    "H = H_1 + H_2 + H_3\n",
    "model = H.compile()"
   ]
  },
  {
   "cell_type": "code",
   "execution_count": 42,
   "metadata": {},
   "outputs": [
    {
     "name": "stdout",
     "output_type": "stream",
     "text": [
      "{'c': {'result': {'c': 0, 'b': 1}, 'penalty': 1.0}}\n"
     ]
    }
   ],
   "source": [
    "raw_solution = {'a': 0, 'b': 1, 'c': 0}\n",
    "decoded_solution, broken, energy = model.decode_solution(raw_solution, vartype='BINARY')\n",
    "print(broken)"
   ]
  },
  {
   "cell_type": "code",
   "execution_count": null,
   "metadata": {},
   "outputs": [],
   "source": []
  }
 ],
 "metadata": {
  "kernelspec": {
   "display_name": "Python 3",
   "language": "python",
   "name": "python3"
  },
  "language_info": {
   "codemirror_mode": {
    "name": "ipython",
    "version": 3
   },
   "file_extension": ".py",
   "mimetype": "text/x-python",
   "name": "python",
   "nbconvert_exporter": "python",
   "pygments_lexer": "ipython3",
   "version": "3.7.4"
  }
 },
 "nbformat": 4,
 "nbformat_minor": 4
}
