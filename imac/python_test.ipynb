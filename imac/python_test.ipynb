{
 "cells": [
  {
   "cell_type": "code",
   "execution_count": 1,
   "metadata": {},
   "outputs": [],
   "source": [
    "from IsingLib import TmpDaSampler, Model"
   ]
  },
  {
   "cell_type": "code",
   "execution_count": 2,
   "metadata": {},
   "outputs": [],
   "source": [
    "sampler = TmpDaSampler(api_key='../../../da_key_2.json', version=2)"
   ]
  },
  {
   "cell_type": "code",
   "execution_count": 3,
   "metadata": {},
   "outputs": [],
   "source": [
    "def _make_label2index_from_terms(terms):\n",
    "    # terms = {('a', 'b', 'c'): 1}\n",
    "    keys = terms.keys()\n",
    "    label = set()\n",
    "    for key in keys:\n",
    "        label |= set(key)\n",
    "    label2index = {la: num for num, la in enumerate(sorted(label), 1)}\n",
    "    return label2index\n",
    "\n",
    "def get_hobo2qubo_from_terms(terms):\n",
    "    terms = []\n",
    "    label2index = _make_label2index_from_terms(terms)\n",
    "    for key, value in terms.items():\n",
    "        label = [label2index[k] for k in list(key)]\n",
    "        data = {'terms': [\n",
    "            {\n",
    "                'coefficient': value,\n",
    "                'polynomials': label\n",
    "            }\n",
    "        ]}\n",
    "        print(sampler.get_hobo2qubo(data))"
   ]
  },
  {
   "cell_type": "code",
   "execution_count": 6,
   "metadata": {},
   "outputs": [],
   "source": [
    "terms = {('a', 'b', 'c', 'd'): 1.0, ('a', 'b', 'd'): 2.0}"
   ]
  },
  {
   "cell_type": "code",
   "execution_count": 7,
   "metadata": {},
   "outputs": [
    {
     "name": "stdout",
     "output_type": "stream",
     "text": [
      "{'terms': [{'coefficient': 2, 'polynomials': [1, 2]}, {'coefficient': -4, 'polynomials': [1, 5]}, {'coefficient': -4, 'polynomials': [2, 5]}, {'coefficient': 2, 'polynomials': [3, 4]}, {'coefficient': -4, 'polynomials': [3, 6]}, {'coefficient': -4, 'polynomials': [4, 6]}, {'coefficient': 6, 'polynomials': [5]}, {'coefficient': 1, 'polynomials': [5, 6]}, {'coefficient': 6, 'polynomials': [6]}]}\n",
      "{'terms': [{'coefficient': 3, 'polynomials': [1, 2]}, {'coefficient': -6, 'polynomials': [1, 5]}, {'coefficient': -6, 'polynomials': [2, 5]}, {'coefficient': 2, 'polynomials': [4, 5]}, {'coefficient': 9, 'polynomials': [5]}]}\n"
     ]
    }
   ],
   "source": [
    "get_hobo2qubo_from_terms(terms)"
   ]
  },
  {
   "cell_type": "code",
   "execution_count": null,
   "metadata": {},
   "outputs": [],
   "source": []
  }
 ],
 "metadata": {
  "kernelspec": {
   "display_name": "Python 3",
   "language": "python",
   "name": "python3"
  },
  "language_info": {
   "codemirror_mode": {
    "name": "ipython",
    "version": 3
   },
   "file_extension": ".py",
   "mimetype": "text/x-python",
   "name": "python",
   "nbconvert_exporter": "python",
   "pygments_lexer": "ipython3",
   "version": "3.7.4"
  }
 },
 "nbformat": 4,
 "nbformat_minor": 4
}
