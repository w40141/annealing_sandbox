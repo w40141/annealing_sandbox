{
 "cells": [
  {
   "cell_type": "code",
   "execution_count": 1,
   "metadata": {},
   "outputs": [],
   "source": [
    "import re\n",
    "import numpy as np"
   ]
  },
  {
   "cell_type": "code",
   "execution_count": 4,
   "metadata": {},
   "outputs": [
    {
     "name": "stdout",
     "output_type": "stream",
     "text": [
      "['x[0][1]', 'x[0][10]', 'x[0][2]', 'x[0][3]', 'x[0][4]', 'y[1][0]', 'y[1][1]', 'y[1][2]', 'y[1][3]', 'y[1][4]', 'a[2][0]', 'a[2][1]', 'a[2][2]', 'a[2][3]', 'a[2][4]', 'b[3][0]', 'b[3][1]', 'b[3][2]', 'b[3][3]', 'b[3][4]', 'c', 'd', 'e', 'f', 'g']\n"
     ]
    }
   ],
   "source": [
    "str_dict = {'x[0][1]': 0, 'x[0][10]': 1, 'x[0][2]': 0, 'x[0][3]': 0, 'x[0][4]': 0, \n",
    "            'y[1][0]': 0, 'y[1][1]': 0, 'y[1][2]': 1, 'y[1][3]': 0, 'y[1][4]': 0,\n",
    "            'a[2][0]': 1, 'a[2][1]': 0, 'a[2][2]': 0, 'a[2][3]': 0, 'a[2][4]': 0,\n",
    "            'b[3][0]': 0, 'b[3][1]': 0, 'b[3][2]': 0, 'b[3][3]': 0, 'b[3][4]': 1,\n",
    "            'c': 0, 'd': 0, 'e': 0, 'f': 1, 'g': 0}\n",
    "str_list = list(str_dict)\n",
    "print(str_list)"
   ]
  },
  {
   "cell_type": "code",
   "execution_count": 7,
   "metadata": {},
   "outputs": [
    {
     "name": "stdout",
     "output_type": "stream",
     "text": [
      "['a[2][0]', 'a[2][1]', 'a[2][2]', 'a[2][3]', 'a[2][4]', 'b[3][0]', 'b[3][1]', 'b[3][2]', 'b[3][3]', 'b[3][4]', 'c', 'd', 'e', 'f', 'g', 'x[0][1]', 'x[0][2]', 'x[0][3]', 'x[0][4]', 'x[0][10]', 'y[1][0]', 'y[1][1]', 'y[1][2]', 'y[1][3]', 'y[1][4]']\n"
     ]
    }
   ],
   "source": [
    "structure = {}\n",
    "for label in str_list:\n",
    "    result_tmp = re.findall(r'\\w+', label)\n",
    "    result = [int(char) if char.isdigit() else char for char in result_tmp]\n",
    "    structure[label] = result\n",
    "label_sorted_list = sorted(structure.items(), key=lambda x: x[1])\n",
    "label_sorted = [item[0] for item in label_sorted_list]\n",
    "print(label_sorted)"
   ]
  },
  {
   "cell_type": "code",
   "execution_count": 82,
   "metadata": {},
   "outputs": [
    {
     "name": "stdout",
     "output_type": "stream",
     "text": [
      "['c', '4', '4']\n"
     ]
    }
   ],
   "source": [
    "result = re.findall('\\w', aim)\n",
    "print(result)"
   ]
  },
  {
   "cell_type": "code",
   "execution_count": 83,
   "metadata": {},
   "outputs": [],
   "source": [
    "def get_symbol(symbol):\n",
    "    re_symbol = re.compile(symbol)\n",
    "    new_states = {}\n",
    "    for key, value in str_dict.items():\n",
    "        if re_symbol.match(key):\n",
    "            new_states[key] = value\n",
    "    return new_states"
   ]
  },
  {
   "cell_type": "code",
   "execution_count": 84,
   "metadata": {},
   "outputs": [
    {
     "data": {
      "text/plain": [
       "{'b[3][0]': 0, 'b[3][1]': 0, 'b[3][2]': 0, 'b[3][3]': 0, 'b[3][4]': 1}"
      ]
     },
     "execution_count": 84,
     "metadata": {},
     "output_type": "execute_result"
    }
   ],
   "source": [
    "get_symbol('b')"
   ]
  },
  {
   "cell_type": "code",
   "execution_count": 8,
   "metadata": {},
   "outputs": [],
   "source": [
    "def get_symmetric(matrix):\n",
    "    return np.triu(matrix, k=1) + np.triu(matrix).T"
   ]
  },
  {
   "cell_type": "code",
   "execution_count": 13,
   "metadata": {},
   "outputs": [
    {
     "name": "stdout",
     "output_type": "stream",
     "text": [
      "[[ 4  1  4  5]\n",
      " [ 1 -5 -4  3]\n",
      " [ 0  3  4 -2]\n",
      " [ 5 -5  5 -1]]\n"
     ]
    }
   ],
   "source": [
    "mat = np.random.randint(-5, 6, (4, 4))\n",
    "print(mat)"
   ]
  },
  {
   "cell_type": "code",
   "execution_count": 14,
   "metadata": {},
   "outputs": [
    {
     "data": {
      "text/plain": [
       "array([[ 4,  1,  4,  5],\n",
       "       [ 1, -5, -4,  3],\n",
       "       [ 4, -4,  4, -2],\n",
       "       [ 5,  3, -2, -1]])"
      ]
     },
     "execution_count": 14,
     "metadata": {},
     "output_type": "execute_result"
    }
   ],
   "source": [
    "get_symmetric(mat)"
   ]
  },
  {
   "cell_type": "code",
   "execution_count": 17,
   "metadata": {},
   "outputs": [
    {
     "data": {
      "text/plain": [
       "False"
      ]
     },
     "execution_count": 17,
     "metadata": {},
     "output_type": "execute_result"
    }
   ],
   "source": [
    "a = {i: i for i in range(10)}\n",
    "b = {i: i for i in range(5)}\n",
    "len(a)<len(b)"
   ]
  },
  {
   "cell_type": "code",
   "execution_count": 20,
   "metadata": {},
   "outputs": [
    {
     "ename": "NameError",
     "evalue": "name 'enpty' is not defined",
     "output_type": "error",
     "traceback": [
      "\u001b[0;31m---------------------------------------------------------------------------\u001b[0m",
      "\u001b[0;31mNameError\u001b[0m                                 Traceback (most recent call last)",
      "\u001b[0;32m<ipython-input-20-2ad22621ca6d>\u001b[0m in \u001b[0;36m<module>\u001b[0;34m\u001b[0m\n\u001b[1;32m      1\u001b[0m \u001b[0ma\u001b[0m \u001b[0;34m=\u001b[0m \u001b[0;34m[\u001b[0m\u001b[0;34m{\u001b[0m\u001b[0;34m}\u001b[0m\u001b[0;34m]\u001b[0m\u001b[0;34m\u001b[0m\u001b[0;34m\u001b[0m\u001b[0m\n\u001b[0;32m----> 2\u001b[0;31m \u001b[0;32mif\u001b[0m \u001b[0ma\u001b[0m \u001b[0;32mis\u001b[0m \u001b[0menpty\u001b[0m\u001b[0;34m:\u001b[0m\u001b[0;34m\u001b[0m\u001b[0;34m\u001b[0m\u001b[0m\n\u001b[0m\u001b[1;32m      3\u001b[0m     \u001b[0mprint\u001b[0m\u001b[0;34m(\u001b[0m\u001b[0ma\u001b[0m\u001b[0;34m)\u001b[0m\u001b[0;34m\u001b[0m\u001b[0;34m\u001b[0m\u001b[0m\n",
      "\u001b[0;31mNameError\u001b[0m: name 'enpty' is not defined"
     ]
    }
   ],
   "source": [
    "a = [{}]\n",
    "if a is enpty:\n",
    "    print(a)"
   ]
  },
  {
   "cell_type": "code",
   "execution_count": 21,
   "metadata": {},
   "outputs": [
    {
     "name": "stdout",
     "output_type": "stream",
     "text": [
      "1\n"
     ]
    }
   ],
   "source": [
    "if not None:\n",
    "    print(1)"
   ]
  },
  {
   "cell_type": "code",
   "execution_count": null,
   "metadata": {},
   "outputs": [],
   "source": []
  }
 ],
 "metadata": {
  "kernelspec": {
   "display_name": "Python 3",
   "language": "python",
   "name": "python3"
  },
  "language_info": {
   "codemirror_mode": {
    "name": "ipython",
    "version": 3
   },
   "file_extension": ".py",
   "mimetype": "text/x-python",
   "name": "python",
   "nbconvert_exporter": "python",
   "pygments_lexer": "ipython3",
   "version": "3.7.4"
  }
 },
 "nbformat": 4,
 "nbformat_minor": 4
}
