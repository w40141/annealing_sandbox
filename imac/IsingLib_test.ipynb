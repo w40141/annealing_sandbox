{
 "cells": [
  {
   "cell_type": "code",
   "execution_count": 1,
   "metadata": {},
   "outputs": [],
   "source": [
    "from IsingLib import Model, SA, BF, DaSampler\n",
    "import numpy as np"
   ]
  },
  {
   "cell_type": "code",
   "execution_count": 2,
   "metadata": {},
   "outputs": [],
   "source": [
    "test_tuple = {\n",
    "    ('x[0]', 'x[4]'): 1, ('x[4]', 'x[1]'): -1,\n",
    "    ('x[0]', 'x[5]'): 1, ('x[5]', 'x[2]'): -1,\n",
    "    ('x[1]', 'x[6]'): -1, ('x[6]', 'x[3]'): -1,\n",
    "#     ('x[2]', 'x[9]'): 1, ('x[9]', 'x[3]'): -1,\n",
    "}"
   ]
  },
  {
   "cell_type": "code",
   "execution_count": 3,
   "metadata": {},
   "outputs": [],
   "source": [
    "model = Model.create('i', test_tuple)"
   ]
  },
  {
   "cell_type": "code",
   "execution_count": 4,
   "metadata": {},
   "outputs": [
    {
     "name": "stdout",
     "output_type": "stream",
     "text": [
      "ising model\n",
      "      x[0]  x[1]  x[2]  x[3]  x[4]  x[5]  x[6]\n",
      "x[0]   0.0   0.0   0.0   0.0   1.0   1.0   0.0\n",
      "x[1]   0.0   0.0   0.0   0.0  -1.0   0.0  -1.0\n",
      "x[2]   0.0   0.0   0.0   0.0   0.0  -1.0   0.0\n",
      "x[3]   0.0   0.0   0.0   0.0   0.0   0.0  -1.0\n",
      "x[4]   0.0   0.0   0.0   0.0   0.0   0.0   0.0\n",
      "x[5]   0.0   0.0   0.0   0.0   0.0   0.0   0.0\n",
      "x[6]   0.0   0.0   0.0   0.0   0.0   0.0   0.0\n",
      "const: 0\n"
     ]
    }
   ],
   "source": [
    "print(model)"
   ]
  },
  {
   "cell_type": "code",
   "execution_count": null,
   "metadata": {},
   "outputs": [],
   "source": []
  }
 ],
 "metadata": {
  "kernelspec": {
   "display_name": "Python 3",
   "language": "python",
   "name": "python3"
  },
  "language_info": {
   "codemirror_mode": {
    "name": "ipython",
    "version": 3
   },
   "file_extension": ".py",
   "mimetype": "text/x-python",
   "name": "python",
   "nbconvert_exporter": "python",
   "pygments_lexer": "ipython3",
   "version": "3.7.4"
  }
 },
 "nbformat": 4,
 "nbformat_minor": 4
}
