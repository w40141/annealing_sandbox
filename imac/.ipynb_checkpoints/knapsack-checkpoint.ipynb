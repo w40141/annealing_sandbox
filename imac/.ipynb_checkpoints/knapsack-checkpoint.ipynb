{
 "cells": [
  {
   "cell_type": "code",
   "execution_count": 1,
   "metadata": {},
   "outputs": [],
   "source": [
    "from pyqubo import Array, Sum, OrderEncInteger\n",
    "import numpy as np\n",
    "import random\n",
    "import dimod"
   ]
  },
  {
   "cell_type": "code",
   "execution_count": 21,
   "metadata": {},
   "outputs": [
    {
     "name": "stdout",
     "output_type": "stream",
     "text": [
      "[1 1 6 2 6]\n",
      "[5 6 6 2 5]\n"
     ]
    }
   ],
   "source": [
    "N = 5\n",
    "high_val = 7\n",
    "high_cos = 7\n",
    "W = 10\n",
    "# volume = 10\n",
    "wight = np.random.randint(1, high_val, N)\n",
    "cost = np.random.randint(1, high_cos, N)\n",
    "print(wight)\n",
    "print(cost)"
   ]
  },
  {
   "cell_type": "code",
   "execution_count": 22,
   "metadata": {},
   "outputs": [],
   "source": [
    "x = Array.create('x', N, 'BINARY')\n",
    "y = Array.create('y', W, 'BINARY')\n",
    "c = OrderEncInteger('c', 0, W*2, strength=5.0)"
   ]
  },
  {
   "cell_type": "code",
   "execution_count": 38,
   "metadata": {},
   "outputs": [
    {
     "name": "stdout",
     "output_type": "stream",
     "text": [
      "((Sum(((Binary(x[0])*Num(5))+(Binary(x[1])*Num(6))+(Binary(x[2])*Num(6))+(Binary(x[3])*Num(2))+(Binary(x[4])*Num(5))))*Num(-1))+((((((Binary(y[0])+Binary(y[1])+Binary(y[2])+Binary(y[3])+Binary(y[4])+Binary(y[5])+Binary(y[6])+Binary(y[7])+Binary(y[8])+Binary(y[9]))*Num(-1))+Num(1))*(((Binary(y[0])+Binary(y[1])+Binary(y[2])+Binary(y[3])+Binary(y[4])+Binary(y[5])+Binary(y[6])+Binary(y[7])+Binary(y[8])+Binary(y[9]))*Num(-1))+Num(1)))+((Sum(((Binary(y[0])*Num(1))+(Binary(y[1])*Num(2))+(Binary(y[2])*Num(3))+(Binary(y[3])*Num(4))+(Binary(y[4])*Num(5))+(Binary(y[5])*Num(6))+(Binary(y[6])*Num(7))+(Binary(y[7])*Num(8))+(Binary(y[8])*Num(9))+(Binary(y[9])*Num(10))))+(Sum(((Binary(x[0])*Num(1))+(Binary(x[1])*Num(1))+(Binary(x[2])*Num(6))+(Binary(x[3])*Num(2))+(Binary(x[4])*Num(6))))*Num(-1)))*(Sum(((Binary(y[0])*Num(1))+(Binary(y[1])*Num(2))+(Binary(y[2])*Num(3))+(Binary(y[3])*Num(4))+(Binary(y[4])*Num(5))+(Binary(y[5])*Num(6))+(Binary(y[6])*Num(7))+(Binary(y[7])*Num(8))+(Binary(y[8])*Num(9))+(Binary(y[9])*Num(10))))+(Sum(((Binary(x[0])*Num(1))+(Binary(x[1])*Num(1))+(Binary(x[2])*Num(6))+(Binary(x[3])*Num(2))+(Binary(x[4])*Num(6))))*Num(-1)))))*Num(10)))\n",
      "((((((Binary(y[0])+Binary(y[1])+Binary(y[2])+Binary(y[3])+Binary(y[4])+Binary(y[5])+Binary(y[6])+Binary(y[7])+Binary(y[8])+Binary(y[9]))*Num(-1))+Num(1))*(((Binary(y[0])+Binary(y[1])+Binary(y[2])+Binary(y[3])+Binary(y[4])+Binary(y[5])+Binary(y[6])+Binary(y[7])+Binary(y[8])+Binary(y[9]))*Num(-1))+Num(1)))+((Sum(((Binary(y[0])*Num(1))+(Binary(y[1])*Num(2))+(Binary(y[2])*Num(3))+(Binary(y[3])*Num(4))+(Binary(y[4])*Num(5))+(Binary(y[5])*Num(6))+(Binary(y[6])*Num(7))+(Binary(y[7])*Num(8))+(Binary(y[8])*Num(9))+(Binary(y[9])*Num(10))))+(Sum(((Binary(x[0])*Num(1))+(Binary(x[1])*Num(1))+(Binary(x[2])*Num(6))+(Binary(x[3])*Num(2))+(Binary(x[4])*Num(6))))*Num(-1)))*(Sum(((Binary(y[0])*Num(1))+(Binary(y[1])*Num(2))+(Binary(y[2])*Num(3))+(Binary(y[3])*Num(4))+(Binary(y[4])*Num(5))+(Binary(y[5])*Num(6))+(Binary(y[6])*Num(7))+(Binary(y[7])*Num(8))+(Binary(y[8])*Num(9))+(Binary(y[9])*Num(10))))+(Sum(((Binary(x[0])*Num(1))+(Binary(x[1])*Num(1))+(Binary(x[2])*Num(6))+(Binary(x[3])*Num(2))+(Binary(x[4])*Num(6))))*Num(-1)))))*Num(10))\n"
     ]
    }
   ],
   "source": [
    "alpha = -1\n",
    "beta = 10\n",
    "Hv = alpha * Sum(0, N, lambda i: cost[i] * x[i])\n",
    "Hc_1 = (1- sum(y)) ** 2\n",
    "Hc_2 = (Sum(0, W, lambda k: (k+1) * y[k]) - Sum(0, N, lambda i: wight[i] * x[i])) ** 2\n",
    "Hc = beta * (Hc_1 + Hc_2)\n",
    "# Hc = beta * (1 - c.less_than(W)) ** 2\n",
    "H = Hv + Hc\n",
    "print(H)\n",
    "print(Hc)"
   ]
  },
  {
   "cell_type": "code",
   "execution_count": 41,
   "metadata": {},
   "outputs": [
    {
     "name": "stdout",
     "output_type": "stream",
     "text": [
      "{'x[0]': 0, 'x[1]': 1, 'x[2]': 2, 'x[3]': 3, 'x[4]': 4, 'y[0]': 5, 'y[1]': 6, 'y[2]': 7, 'y[3]': 8, 'y[4]': 9, 'y[5]': 10, 'y[6]': 11, 'y[7]': 12, 'y[8]': 13, 'y[9]': 14}\n"
     ]
    }
   ],
   "source": [
    "model = H.compile()\n",
    "print(model.label2index)"
   ]
  },
  {
   "cell_type": "code",
   "execution_count": 37,
   "metadata": {},
   "outputs": [
    {
     "data": {
      "text/plain": [
       "[({'x': {0: 1, 1: 1, 2: 1, 3: 1, 4: 0},\n",
       "   'y': {0: 0, 1: 0, 2: 0, 3: 0, 4: 0, 5: 0, 6: 0, 7: 0, 8: 0, 9: 1}},\n",
       "  {},\n",
       "  -19.0),\n",
       " ({'x': {0: 1, 1: 1, 2: 0, 3: 1, 4: 1},\n",
       "   'y': {0: 0, 1: 0, 2: 0, 3: 0, 4: 0, 5: 0, 6: 0, 7: 0, 8: 0, 9: 1}},\n",
       "  {},\n",
       "  -18.0)]"
      ]
     },
     "execution_count": 37,
     "metadata": {},
     "output_type": "execute_result"
    }
   ],
   "source": [
    "qubo, offset = model.to_qubo()\n",
    "sampleset = dimod.ExactSolver().sample_qubo(qubo)\n",
    "# solution, broken, e  = model.decode_dimod_response(sampleset, topk=1)\n",
    "# solution\n",
    "model.decode_dimod_response(sampleset, topk=2)"
   ]
  },
  {
   "cell_type": "code",
   "execution_count": null,
   "metadata": {},
   "outputs": [],
   "source": []
  }
 ],
 "metadata": {
  "kernelspec": {
   "display_name": "Python 3",
   "language": "python",
   "name": "python3"
  },
  "language_info": {
   "codemirror_mode": {
    "name": "ipython",
    "version": 3
   },
   "file_extension": ".py",
   "mimetype": "text/x-python",
   "name": "python",
   "nbconvert_exporter": "python",
   "pygments_lexer": "ipython3",
   "version": "3.7.3"
  }
 },
 "nbformat": 4,
 "nbformat_minor": 2
}
