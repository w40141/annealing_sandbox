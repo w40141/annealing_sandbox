{
 "cells": [
  {
   "cell_type": "code",
   "execution_count": 2,
   "metadata": {},
   "outputs": [
    {
     "name": "stdout",
     "output_type": "stream",
     "text": [
      "{0: 0, 1: 1, 2: 2, 3: 3, 4: 4} {20: 20, 21: 21, 22: 22, 23: 23}\n"
     ]
    }
   ],
   "source": [
    "a = {i: i for i in range(5)}\n",
    "b = {j: j for j in range(20, 24)}\n",
    "print(a, b)"
   ]
  },
  {
   "cell_type": "code",
   "execution_count": 6,
   "metadata": {},
   "outputs": [],
   "source": [
    "def _da_para(\n",
    "    expert_mode: bool = False,\n",
    "    number_iterations: int = 1000000,\n",
    "    number_runs: int = 100,\n",
    "    offset_increase_rate: float = 0.0,\n",
    "    temperature_decay: float = 0.0001,\n",
    "    temperature_interval: int = 100,\n",
    "    temperature_start: int = 1000000,\n",
    "    temperature_mode: str = 'EXPONENTIAL',\n",
    "    solution_mode: str = 'COMPLETE',\n",
    "    guidance_config=None,\n",
    "):\n",
    "\n",
    "    params = {\n",
    "        'expert_mode': expert_mode,\n",
    "        'number_iterations': number_iterations,\n",
    "        'number_runs': number_runs,\n",
    "        'solution_mode': solution_mode,\n",
    "    }\n",
    "\n",
    "    if expert_mode:\n",
    "        params.update(\n",
    "            offset_increase_rate=offset_increase_rate,\n",
    "            temperature_decay=temperature_decay,\n",
    "            temperature_interval=temperature_interval,\n",
    "            temperature_start=temperature_start,\n",
    "            temperature_mode=temperature_mode,\n",
    "        )\n",
    "\n",
    "    if guidance_config:\n",
    "        params.update(guidance_config=guidance_config)\n",
    "\n",
    "    return params\n",
    "\n",
    "solver_params = {'a': _da_para()}"
   ]
  },
  {
   "cell_type": "code",
   "execution_count": 8,
   "metadata": {},
   "outputs": [
    {
     "name": "stdout",
     "output_type": "stream",
     "text": [
      "{'a': {'expert_mode': False, 'number_iterations': 1000000, 'number_runs': 100, 'solution_mode': 'COMPLETE'}, 'qubo_matrix': {'qubo': [{'qubo_row': [1.0, 1.0, 1.0, 1.0, 1.0]}, {'qubo_row': [1.0, 1.0, 1.0, 1.0, 1.0]}, {'qubo_row': [1.0, 1.0, 1.0, 1.0, 1.0]}, {'qubo_row': [1.0, 1.0, 1.0, 1.0, 1.0]}, {'qubo_row': [1.0, 1.0, 1.0, 1.0, 1.0]}]}}\n"
     ]
    }
   ],
   "source": [
    "import numpy as np\n",
    "matrix = np.ones((5, 5))\n",
    "a = {'qubo_matrix': {'qubo': [{'qubo_row': m} for m in matrix.tolist()]}}\n",
    "b = {}\n",
    "b.update(**solver_params, **a)\n",
    "print(b)"
   ]
  },
  {
   "cell_type": "code",
   "execution_count": null,
   "metadata": {},
   "outputs": [],
   "source": []
  }
 ],
 "metadata": {
  "kernelspec": {
   "display_name": "Python 3",
   "language": "python",
   "name": "python3"
  },
  "language_info": {
   "codemirror_mode": {
    "name": "ipython",
    "version": 3
   },
   "file_extension": ".py",
   "mimetype": "text/x-python",
   "name": "python",
   "nbconvert_exporter": "python",
   "pygments_lexer": "ipython3",
   "version": "3.7.4"
  }
 },
 "nbformat": 4,
 "nbformat_minor": 4
}
