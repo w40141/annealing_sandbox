{
 "cells": [
  {
   "cell_type": "code",
   "execution_count": 87,
   "metadata": {},
   "outputs": [],
   "source": [
    "from pyqubo import Array, OrderEncInteger, solve_qubo\n",
    "import numpy as np\n",
    "import random"
   ]
  },
  {
   "cell_type": "code",
   "execution_count": 88,
   "metadata": {},
   "outputs": [
    {
     "name": "stdout",
     "output_type": "stream",
     "text": [
      "[5, 6, 4, 2, 6]\n",
      "[6, 3, 2, 3, 6]\n"
     ]
    }
   ],
   "source": [
    "N = 5\n",
    "high_val = 6\n",
    "high_cos = 6\n",
    "volume = 10\n",
    "value = [random.randint(1, high_val) for _ in range(N)]\n",
    "cost = [random.randint(1, high_cos) for _ in range(N)]\n",
    "print(value)\n",
    "print(cost)"
   ]
  },
  {
   "cell_type": "code",
   "execution_count": 89,
   "metadata": {},
   "outputs": [],
   "source": [
    "v = Array.create('v', shape=N, vartype='BINARY')\n",
    "y = Array.create('y', shape=volume, vartype='BINARY')"
   ]
  },
  {
   "cell_type": "code",
   "execution_count": 96,
   "metadata": {},
   "outputs": [],
   "source": [
    "sig_val = -1\n",
    "sig_cos_1 = 4\n",
    "sig_cos_2 = 2\n",
    "Hv = sig_val * sum(value[i] * v[i] for i in range(N))\n",
    "Hc_1 = sig_cos_1 * (1 - sum(y)) ** 2\n",
    "Hc_2 = sig_cos_2 * (sum((k+1) * y[k] for k in range(volume)) - sum(cost[i] *  v[i] for i in range(N))) ** 2\n",
    "Hc = (Hc_1 + Hc_2)\n",
    "H = Hv + Hc"
   ]
  },
  {
   "cell_type": "code",
   "execution_count": 97,
   "metadata": {},
   "outputs": [],
   "source": [
    "model = H.compile()\n",
    "qubo, offset = model.to_qubo()"
   ]
  },
  {
   "cell_type": "code",
   "execution_count": 98,
   "metadata": {},
   "outputs": [
    {
     "name": "stdout",
     "output_type": "stream",
     "text": [
      "{'v[0]': 0, 'v[1]': 1, 'v[2]': 1, 'v[3]': 1, 'v[4]': 1, 'y[0]': 0, 'y[1]': 0, 'y[2]': 0, 'y[3]': 0, 'y[4]': 1, 'y[5]': 0, 'y[6]': 0, 'y[7]': 0, 'y[8]': 0, 'y[9]': 1}\n"
     ]
    }
   ],
   "source": [
    "solution = solve_qubo(qubo)\n",
    "print(solution)"
   ]
  },
  {
   "cell_type": "code",
   "execution_count": null,
   "metadata": {},
   "outputs": [],
   "source": []
  }
 ],
 "metadata": {
  "kernelspec": {
   "display_name": "Python 3",
   "language": "python",
   "name": "python3"
  },
  "language_info": {
   "codemirror_mode": {
    "name": "ipython",
    "version": 3
   },
   "file_extension": ".py",
   "mimetype": "text/x-python",
   "name": "python",
   "nbconvert_exporter": "python",
   "pygments_lexer": "ipython3",
   "version": "3.7.3"
  }
 },
 "nbformat": 4,
 "nbformat_minor": 2
}
